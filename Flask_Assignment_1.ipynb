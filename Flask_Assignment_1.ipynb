{
  "nbformat": 4,
  "nbformat_minor": 0,
  "metadata": {
    "colab": {
      "provenance": [],
      "authorship_tag": "ABX9TyM3rv+AGP4pRPKgIrPAUI2L",
      "include_colab_link": true
    },
    "kernelspec": {
      "name": "python3",
      "display_name": "Python 3"
    },
    "language_info": {
      "name": "python"
    }
  },
  "cells": [
    {
      "cell_type": "markdown",
      "metadata": {
        "id": "view-in-github",
        "colab_type": "text"
      },
      "source": [
        "<a href=\"https://colab.research.google.com/github/yogeshsinghgit/Pwskills_Assignment/blob/main/Flask_Assignment_1.ipynb\" target=\"_parent\"><img src=\"https://colab.research.google.com/assets/colab-badge.svg\" alt=\"Open In Colab\"/></a>"
      ]
    },
    {
      "cell_type": "code",
      "execution_count": null,
      "metadata": {
        "id": "HJ83g9GvOx_8"
      },
      "outputs": [],
      "source": []
    },
    {
      "cell_type": "markdown",
      "source": [
        "# Flask Assignment-1\n",
        "\n",
        "[Assignment Link](https://drive.google.com/file/d/1RhuY31tBf5fbYGmzBZizvCL0B3n8h-Xl/view)"
      ],
      "metadata": {
        "id": "2zrK46b8PWZZ"
      }
    },
    {
      "cell_type": "markdown",
      "source": [
        "## Q1. What is Flask Framework? What are the advantages of Flask Framework?"
      ],
      "metadata": {
        "id": "Dz4eDaQFPb-R"
      }
    },
    {
      "cell_type": "markdown",
      "source": [
        "**Flask** is a micro web framework written in Python. It is designed to be lightweight and easy to use, providing the essentials for building web applications without imposing a specific structure or dependencies. Flask follows the WSGI (Web Server Gateway Interface) standard, allowing it to work with various web servers.\n",
        "\n",
        "**Key Features of Flask:**\n",
        "\n",
        "1. **Lightweight and Minimalistic:** Flask is designed to be minimalistic, providing only the essential components needed for web development. This allows developers the flexibility to choose and integrate additional tools and libraries based on their project requirements.\n",
        "\n",
        "2. **Extensible:** While Flask itself is minimal, it is highly extensible. Developers can add extensions for features such as authentication, database integration, and more. Flask's extensibility allows developers to tailor their applications to specific needs.\n",
        "\n",
        "3. **Jinja2 Templating:** Flask uses the Jinja2 templating engine, which allows developers to embed dynamic content in HTML templates. This separation of concerns makes it easier to manage and update the user interface.\n",
        "\n",
        "4. **Built-in Development Server:** Flask comes with a built-in development server, making it convenient for testing and debugging applications during the development phase.\n",
        "\n",
        "5. **RESTful Request Dispatching:** Flask supports RESTful request dispatching, making it easy to define routes and handle different HTTP methods. This is particularly useful for building APIs.\n",
        "\n",
        "6. **Werkzeug Integration:** Flask builds on the Werkzeug WSGI toolkit, which provides low-level utilities for handling HTTP requests, routing, and other web-related tasks. This integration contributes to the simplicity and effectiveness of Flask.\n",
        "\n",
        "7. **Flexible Configuration:** Flask allows developers to configure their applications using simple Python files. This flexibility enables customization of various settings based on project requirements.\n",
        "\n",
        "**Advantages of Flask Framework:**\n",
        "\n",
        "1. **Simplicity:** Flask is designed with simplicity in mind. It provides the essentials for building web applications without unnecessary complexity, making it easy for developers to learn and use.\n",
        "\n",
        "2. **Flexibility:** Flask follows a \"micro\" philosophy, allowing developers to choose the components and libraries they need. This flexibility is beneficial for projects with specific requirements or existing technology stacks.\n",
        "\n",
        "3. **Community and Documentation:** Flask has a vibrant community and extensive documentation. The community provides support, and the documentation is well-maintained, making it easy for developers to find resources and solutions.\n",
        "\n",
        "4. **Ease of Learning:** Flask's simple and intuitive design makes it an excellent choice for beginners learning web development in Python. Its minimalistic structure allows developers to focus on the fundamentals.\n",
        "\n",
        "5. **Scaling:** While Flask is suitable for small to medium-sized projects, it can also scale to handle larger applications when combined with appropriate extensions and tools.\n",
        "\n",
        "6. **Widely Used in Industry:** Flask is widely used in the industry for building web applications and APIs. Many startups and companies use Flask for its simplicity and versatility.\n",
        "\n",
        "7. **Active Development:** Flask is actively developed and maintained. The framework receives updates and improvements, ensuring compatibility with the latest Python versions and addressing security concerns.\n",
        "\n",
        "It's important to note that while Flask is well-suited for certain types of projects, the choice of a web framework depends on the specific requirements of the application and the preferences of the development team."
      ],
      "metadata": {
        "id": "Y-EAupa9Pgvb"
      }
    },
    {
      "cell_type": "markdown",
      "source": [
        "## Q2. Create a simple Flask application to display ‘Hello World!!’."
      ],
      "metadata": {
        "id": "4vJYICJtPmVn"
      }
    },
    {
      "cell_type": "markdown",
      "source": [
        "To create a simple Flask application that displays \"Hello World!!,\" you need to follow these steps:\n",
        "\n",
        "1. Install Flask:\n",
        "   If you haven't already installed Flask, you can do so using the following command in your terminal or command prompt:\n",
        "\n",
        "   ```bash\n",
        "   pip install flask\n",
        "   ```\n",
        "\n",
        "2. Create a Python file for your Flask application (e.g., `app.py`).\n",
        "\n",
        "3. Write the Flask application code:\n",
        "\n",
        "```python\n",
        "from flask import Flask\n",
        "\n",
        "# Create a Flask application instance\n",
        "app = Flask(__name__)\n",
        "\n",
        "# Define a route for the root URL\n",
        "@app.route('/')\n",
        "def hello_world():\n",
        "    return 'Hello World!!'\n",
        "\n",
        "# Run the Flask application\n",
        "if __name__ == '__main__':\n",
        "    app.run(debug=True)\n",
        "```\n",
        "\n",
        "4. Save the file.\n",
        "\n",
        "5. Run the Flask application:\n",
        "   In the terminal or command prompt, navigate to the directory where your `app.py` file is located and run the following command:\n",
        "\n",
        "   ```bash\n",
        "   python app.py\n",
        "   ```\n",
        "\n",
        "   This will start the Flask development server, and you should see output indicating that the server is running.\n",
        "\n",
        "6. Open your web browser and go to `http://127.0.0.1:5000/` or `http://localhost:5000/`. You should see the \"Hello World!!\" message displayed in your browser.\n",
        "\n",
        "Here's a brief explanation of the code:\n",
        "\n",
        "- We import the `Flask` class from the `flask` module.\n",
        "- We create an instance of the Flask application using `app = Flask(__name__)`.\n",
        "- We define a route for the root URL (\"/\") using the `@app.route('/')` decorator.\n",
        "- The `hello_world` function is the view function for the root URL, and it returns the \"Hello World!!\" message.\n",
        "- The `if __name__ == '__main__':` block ensures that the development server is only run when the script is executed directly (not when imported as a module).\n",
        "\n",
        "This is a basic example to get you started with Flask. You can extend and customize your Flask application by adding more routes, templates, and functionality as needed for your project."
      ],
      "metadata": {
        "id": "5CI9wGLjPoDu"
      }
    },
    {
      "cell_type": "markdown",
      "source": [
        "## Q3. What is App routing in Flask? Why do we use app routes?"
      ],
      "metadata": {
        "id": "2mVAY9JjPw7k"
      }
    },
    {
      "cell_type": "markdown",
      "source": [
        "In Flask, routing refers to the process of mapping URLs to view functions in your application. An app route, often created using the `@app.route()` decorator, is a way to associate a URL with a specific function that will be called when that URL is accessed. Routes define the entry points to different parts of your web application.\n",
        "\n",
        "Here's a simple breakdown of app routing in Flask:\n",
        "\n",
        "1. **Decorator Syntax:**\n",
        "   - The `@app.route()` decorator is used to define routes in Flask. It is applied to a function, and the argument to the decorator is the URL path that the function should respond to.\n",
        "\n",
        "   ```python\n",
        "   @app.route('/path')\n",
        "   def my_function():\n",
        "       # Function logic\n",
        "   ```\n",
        "\n",
        "2. **URL Mapping:**\n",
        "   - The argument passed to `@app.route()` represents the URL path that the decorated function should respond to. For example, if the path is `'/hello'`, the function will be called when the user accesses `http://yourdomain.com/hello`.\n",
        "\n",
        "   ```python\n",
        "   @app.route('/hello')\n",
        "   def hello_world():\n",
        "       return 'Hello, World!'\n",
        "   ```\n",
        "\n",
        "3. **Dynamic Routes:**\n",
        "   - Flask supports dynamic routes where parts of the URL are variable and can be captured as parameters in the function.\n",
        "\n",
        "   ```python\n",
        "   @app.route('/user/<username>')\n",
        "   def show_user_profile(username):\n",
        "       return f'User: {username}'\n",
        "   ```\n",
        "\n",
        "4. **HTTP Methods:**\n",
        "   - By default, a route responds to `GET` requests, but you can specify other HTTP methods using the `methods` parameter in the `@app.route()` decorator.\n",
        "\n",
        "   ```python\n",
        "   @app.route('/submit', methods=['POST'])\n",
        "   def submit_form():\n",
        "       # Process form submission\n",
        "   ```\n",
        "\n",
        "5. **Multiple Routes for a Single Function:**\n",
        "   - A single function can be associated with multiple routes, allowing it to respond to different URLs.\n",
        "\n",
        "   ```python\n",
        "   @app.route('/')\n",
        "   @app.route('/home')\n",
        "   def home():\n",
        "       return 'Welcome to the home page!'\n",
        "   ```\n",
        "\n",
        "**Why Use App Routes in Flask:**\n",
        "\n",
        "1. **URL Mapping:** App routes define the mapping between URLs and the functions that handle the logic for those URLs. This helps organize your code and make it more maintainable.\n",
        "\n",
        "2. **Modularization:** Routes allow you to modularize your application by associating specific functionality with specific URLs. Each route corresponds to a different \"endpoint\" or feature of your application.\n",
        "\n",
        "3. **Dynamic Content:** Dynamic routes allow you to capture variable parts of the URL as parameters, enabling your application to respond to different inputs.\n",
        "\n",
        "4. **HTTP Methods:** By using the `methods` parameter in the route decorator, you can specify which HTTP methods (e.g., `GET`, `POST`, `PUT`, `DELETE`) the route should respond to.\n",
        "\n",
        "5. **Multiple Routes for a Single Function:** This feature allows you to support multiple URLs for the same functionality, making your application more user-friendly and accommodating different URL patterns.\n",
        "\n",
        "App routing in Flask is a fundamental concept that allows you to create a structured and navigable web application by defining how different URLs should be handled. Each route corresponds to a specific view or functionality within your application."
      ],
      "metadata": {
        "id": "eDJitstAPz0n"
      }
    },
    {
      "cell_type": "markdown",
      "source": [
        "## Q4. Create a “/welcome” route to display the welcome message “Welcome to ABC Corporation” and a “/” route to show the following details:\n",
        "\n",
        "Company Name: ABC Corporation\n",
        "\n",
        "Location: India\n",
        "\n",
        "Contact Detail: 999-999-9999"
      ],
      "metadata": {
        "id": "rqmKCj_XP36Q"
      }
    },
    {
      "cell_type": "markdown",
      "source": [
        "\n",
        "\n",
        "```python\n",
        "from flask import Flask\n",
        "\n",
        "app = Flask(__name__)\n",
        "\n",
        "# Route for \"/welcome\"\n",
        "@app.route('/welcome')\n",
        "def welcome():\n",
        "    return 'Welcome to ABC Corporation'\n",
        "\n",
        "# Route for \"/\"\n",
        "@app.route('/')\n",
        "def company_details():\n",
        "    details = \"\"\"\n",
        "    Company Name: ABC Corporation\n",
        "    Location: India\n",
        "    Contact Detail: 999-999-9999\n",
        "    \"\"\"\n",
        "    return details\n",
        "\n",
        "if __name__ == '__main__':\n",
        "    app.run(debug=True)\n",
        "```\n",
        "\n",
        "Save this code in a file, for example, `app.py`, and run the application using the following command in your terminal:\n",
        "\n",
        "```bash\n",
        "python app.py\n",
        "```\n",
        "\n",
        "Open your web browser and go to `http://127.0.0.1:5000/welcome` and `http://127.0.0.1:5000/` to see the output for the respective routes.\n",
        "\n",
        "In this example:\n",
        "\n",
        "- The `/welcome` route returns the welcome message.\n",
        "- The `/` route returns the details of the ABC Corporation using a multi-line string, which is then displayed in the browser."
      ],
      "metadata": {
        "id": "KW4h9fXJP6aR"
      }
    },
    {
      "cell_type": "markdown",
      "source": [
        "## Q5. What function is used in Flask for URL Building? Write a Python code to demonstrate the working of the url_for() function."
      ],
      "metadata": {
        "id": "mrSoQBGGQNuR"
      }
    },
    {
      "cell_type": "markdown",
      "source": [
        "In Flask, the `url_for()` function is used for URL building. It generates a URL for a specified endpoint (view function) based on its name. This function is particularly useful because it allows you to avoid hardcoding URLs in your templates or code, making your application more flexible.\n",
        "\n",
        "Here's a simple example to demonstrate the use of the `url_for()` function:\n",
        "\n",
        "```python\n",
        "from flask import Flask, url_for, render_template\n",
        "\n",
        "app = Flask(__name__)\n",
        "\n",
        "# Route for \"/welcome\"\n",
        "@app.route('/welcome')\n",
        "def welcome():\n",
        "    return 'Welcome to ABC Corporation'\n",
        "\n",
        "# Route for \"/\"\n",
        "@app.route('/')\n",
        "def company_details():\n",
        "    return render_template('details.html')\n",
        "\n",
        "if __name__ == '__main__':\n",
        "    app.run(debug=True)\n",
        "```\n",
        "\n",
        "Now, let's create a template file named `details.html` in a folder named `templates` (assuming it's in the same directory as your Flask app). The template file will use the `url_for()` function to generate URLs.\n",
        "\n",
        "```html\n",
        "<!DOCTYPE html>\n",
        "<html lang=\"en\">\n",
        "<head>\n",
        "    <meta charset=\"UTF-8\">\n",
        "    <meta name=\"viewport\" content=\"width=device-width, initial-scale=1.0\">\n",
        "    <title>Company Details</title>\n",
        "</head>\n",
        "<body>\n",
        "    <h1>Company Details</h1>\n",
        "    \n",
        "    <ul>\n",
        "        <li><a href=\"{{ url_for('welcome') }}\">Welcome Page</a></li>\n",
        "        <li><a href=\"{{ url_for('company_details') }}\">Company Details Page</a></li>\n",
        "    </ul>\n",
        "</body>\n",
        "</html>\n",
        "```\n",
        "\n",
        "In this template:\n",
        "\n",
        "- `{{ url_for('welcome') }}` generates the URL for the `welcome` endpoint.\n",
        "- `{{ url_for('company_details') }}` generates the URL for the `company_details` endpoint.\n",
        "\n",
        "The `url_for()` function takes the name of the endpoint (the function decorated with `@app.route()`) as an argument and generates the appropriate URL. This is particularly useful when the structure of your URLs changes, as you won't need to update links manually.\n",
        "\n",
        "When you run your Flask application and navigate to `http://127.0.0.1:5000/`, you should see a page with links to the welcome and company details pages. Clicking on these links will take you to the respective pages, and the URLs are generated using the `url_for()` function."
      ],
      "metadata": {
        "id": "wmhmSaIdQTOC"
      }
    },
    {
      "cell_type": "code",
      "source": [],
      "metadata": {
        "id": "uWbEbhggQcoa"
      },
      "execution_count": null,
      "outputs": []
    }
  ]
}