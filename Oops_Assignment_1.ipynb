{
  "nbformat": 4,
  "nbformat_minor": 0,
  "metadata": {
    "colab": {
      "provenance": [],
      "authorship_tag": "ABX9TyPzjYQgbP+fa3Z/wiAWIYx1",
      "include_colab_link": true
    },
    "kernelspec": {
      "name": "python3",
      "display_name": "Python 3"
    },
    "language_info": {
      "name": "python"
    }
  },
  "cells": [
    {
      "cell_type": "markdown",
      "metadata": {
        "id": "view-in-github",
        "colab_type": "text"
      },
      "source": [
        "<a href=\"https://colab.research.google.com/github/yogeshsinghgit/Pwskills_Assignment/blob/main/Oops_Assignment_1.ipynb\" target=\"_parent\"><img src=\"https://colab.research.google.com/assets/colab-badge.svg\" alt=\"Open In Colab\"/></a>"
      ]
    },
    {
      "cell_type": "markdown",
      "source": [
        "# Oops Assignment 1\n",
        "\n",
        "submitted by: Yogesh Singh"
      ],
      "metadata": {
        "id": "ogSrCllQcG2_"
      }
    },
    {
      "cell_type": "markdown",
      "source": [
        "## Q1. Explain Class and Object with respect to Object-Oriented Programming. Give a suitable example."
      ],
      "metadata": {
        "id": "_iEgZAykcEW9"
      }
    },
    {
      "cell_type": "markdown",
      "source": [
        "**Class :**\n",
        "A class contains the blueprints or the prototype from which the objects are being created.\n",
        "\n",
        "It is a logical entity that contains some attributes and methods.\n",
        "\n",
        "For Example:\n",
        "\n",
        "if you have a class called Cars. it may have objects like BMW, Tata, Hundia etc. Its properties (data members) can be price or speed of these cars. While the methods may be performed woth these cars are driving, reverse, braking etc.\n",
        "\n",
        "**Object :**\n",
        "An object can be defined as an instance of a class, and there can be multiple instances of a class in a program.\n",
        "\n",
        "The object is an entity that has a state and behavior. it may be any real world object like the mouse, chair, table, pen etc.\n",
        "\n",
        "\n"
      ],
      "metadata": {
        "id": "liD638Cscufe"
      }
    },
    {
      "cell_type": "code",
      "source": [
        "# Example:\n",
        "class Car:\n",
        "  def __init__(self, name, brand, price, color, fuel_type):\n",
        "    self.name = name\n",
        "    self.brand = brand\n",
        "    self.price = price\n",
        "    self.color = color\n",
        "    self.fuel_type = fuel_type\n",
        "\n",
        "\n",
        "object1 = Car(\"Nexon\", \"TATA\", \"12 Lakh\", \"Blue\", \"Electric\")"
      ],
      "metadata": {
        "id": "K_ofg02kcv62"
      },
      "execution_count": 1,
      "outputs": []
    },
    {
      "cell_type": "markdown",
      "source": [
        "## Q2. Name the four pillars of OOPs."
      ],
      "metadata": {
        "id": "QkKcMfuwfUQp"
      }
    },
    {
      "cell_type": "markdown",
      "source": [
        "**Four Pillars Of Oops:**\n",
        "\n",
        "Object-oriented programming is an approach or a programming sample where the packages are structured around objects rather than functions and logic. It makes the data partitioned into memory areas, i.e., data and functions, and helps make the code flexible and modular.\n",
        "\n",
        "The four pillars of OOPS are Inheritance, Polymorphism, Encapsulation and Abstraction.\n",
        "\n",
        "1. **Abstraction :**\n",
        "Abstraction means displaying only basic information and hiding the details. Data abstraction refers to providing only necessary information about the data to the outside world, hiding the background info or implementation.\n",
        "\n",
        "2. **Encapsulation :**\n",
        "In common terms, Encapsulation is defined as wrapping up of data and information under a single unit. In object-oriented programming, Encapsulation is defined as binding together the data and the functions that manipulate them.\n",
        "\n",
        " Encapsulation also leads to data abstraction or hiding. Using Encapsulation also hides the data. In the previous example, the data of any of the sections like sales, finance, or accounts are hidden from any other area.\n",
        "\n",
        "3. **Inheritance :**\n",
        "Inheritance is the process in which two classes have a relationship with each other, and objects of one class acquire properties and features of the other class. The class which inherits the features is known as the child class, and the class whose features it inherited is called the parent class.\n",
        "\n",
        "* **Subclass**\n",
        "\n",
        "The class that inherits properties from another class is called Subclass or Derived class.\n",
        "\n",
        "* **Superclass**\n",
        "\n",
        "The class that inherits sub-class properties is called Base class or superclass.\n",
        "\n",
        "4. **Polymorphism :**\n",
        "The word polymorphism means having many forms. It is the ability to take more than one form. It is a feature that provides a function or an operator with more than one definition. It can be implemented using function overloading, operator overload, function overriding, virtual function. An operation may show off different behaviors at different times.\n"
      ],
      "metadata": {
        "id": "FIpneN0ufVmp"
      }
    },
    {
      "cell_type": "markdown",
      "source": [
        "## Q4. Why self is used in OOPs?"
      ],
      "metadata": {
        "id": "Pju93fLKgZvp"
      }
    },
    {
      "cell_type": "markdown",
      "source": [
        "The self is used as a referene to the object which is calling the method or attribute.\n",
        "\n",
        "self is not a keyword, you can think of it as a place holder for an object itself and you can use any word instead of self but for standards we use self."
      ],
      "metadata": {
        "id": "qgBoWGPZgcOI"
      }
    },
    {
      "cell_type": "markdown",
      "source": [
        "## Q5. What is inheritance? Give an example for each type of inheritance."
      ],
      "metadata": {
        "id": "1hZsm5uThAXY"
      }
    },
    {
      "cell_type": "markdown",
      "source": [
        "Inheritance is a mechanism in which one class acquires the property of another class.\n",
        "\n",
        "By using inheritance, we can create a class which uses all the properties and behavior of another class.\n",
        "\n",
        "The new class is known as a **Derived Class or Child Class**, and whose properties are acquired is known as **Base class or Parent Class**.\n",
        "\n",
        "**Types Of Inheritance:**\n",
        "\n",
        "1. Single Level Inheritance: it enables a derived class to inherit chracteristics from a single parent only.\n",
        "\n",
        "2. Multilevel Inheritance:: In the multilevel inheritance, a derived class will inherit a base class and as well as the derived class also act as the base class to other class.\n",
        "\n",
        "3. Hierarchical Inheritance: In the hierarchical inheritance, more than one derived classes inherit from one base class.\n",
        "\n",
        "4. Multiple Inheritance: in the multple inheritance, a class derived from more than one base class.\n",
        "\n",
        "\n"
      ],
      "metadata": {
        "id": "u9Q80LcefRo5"
      }
    },
    {
      "cell_type": "code",
      "source": [],
      "metadata": {
        "id": "cxw55ZYFi_Jl"
      },
      "execution_count": null,
      "outputs": []
    }
  ]
}