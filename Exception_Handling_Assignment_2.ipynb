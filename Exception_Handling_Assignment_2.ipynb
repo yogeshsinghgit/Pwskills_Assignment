{
  "nbformat": 4,
  "nbformat_minor": 0,
  "metadata": {
    "colab": {
      "provenance": [],
      "authorship_tag": "ABX9TyMvoQkQJ0XtxPxDUe9lAc0b",
      "include_colab_link": true
    },
    "kernelspec": {
      "name": "python3",
      "display_name": "Python 3"
    },
    "language_info": {
      "name": "python"
    }
  },
  "cells": [
    {
      "cell_type": "markdown",
      "metadata": {
        "id": "view-in-github",
        "colab_type": "text"
      },
      "source": [
        "<a href=\"https://colab.research.google.com/github/yogeshsinghgit/Pwskills_Assignment/blob/main/Exception_Handling_Assignment_2.ipynb\" target=\"_parent\"><img src=\"https://colab.research.google.com/assets/colab-badge.svg\" alt=\"Open In Colab\"/></a>"
      ]
    },
    {
      "cell_type": "markdown",
      "source": [
        "# Exception Handling Assignment - 2\n",
        "\n",
        "[Assignment Link](https://drive.google.com/file/d/1Jd3DJHIC4aT1WM2Axch3atm6GZK-6_PT/view)"
      ],
      "metadata": {
        "id": "uFqpaWiMDe3u"
      }
    },
    {
      "cell_type": "markdown",
      "source": [
        "## Q1. Explain why we have to use the Exception class while creating a Custom Exception."
      ],
      "metadata": {
        "id": "rQMrydf9DqBC"
      }
    },
    {
      "cell_type": "markdown",
      "source": [
        "When creating a custom exception in a programming language like Java, Python, C#, or many others, it's a good practice to derive your custom exception class from the built-in Exception class or a relevant subclass of it. This is done for several important reasons:\n",
        "\n",
        "1. **Consistency and Compatibility:** In most programming languages, exception handling is done using a hierarchy of exception classes. By inheriting from a standard exception class, you ensure that your custom exception fits into the existing exception hierarchy. This makes it easier for other developers to understand and use your custom exception because they are already familiar with the standard exception classes.\n",
        "\n",
        "2. **Polymorphism:** When you inherit from a standard exception class, your custom exception becomes polymorphic with its parent class. This means that your custom exception can be treated as an instance of the parent class, allowing you to catch multiple exceptions using a single catch block. This is essential for writing more flexible and efficient exception-handling code.\n",
        "\n",
        "3. **Specificity:** By creating custom exceptions derived from standard exception classes, you can add more specific details and behaviors to your exception. You can provide additional attributes or methods specific to your use case. This allows you to communicate more effectively about the nature of the exception and can help with debugging and troubleshooting.\n",
        "\n",
        "4. **Documentation and Code Readability:** When you create a custom exception class, it's like creating a self-contained and documented package that describes a specific error condition. This makes your code more readable and self-explanatory. Other developers can easily understand the purpose of your custom exception by looking at its class definition.\n",
        "\n",
        "Here's an example in Python:\n",
        "\n",
        "```python\n",
        "class MyCustomException(Exception):\n",
        "    def __init__(self, message):\n",
        "        super().__init__(message)\n",
        "```\n",
        "\n",
        "In this example, `MyCustomException` is derived from the built-in `Exception` class, allowing it to be used in a consistent and polymorphic manner while also providing the ability to customize its behavior and documentation.\n",
        "\n",
        "In summary, using the Exception class as a base for custom exceptions provides a standardized, maintainable, and extensible way to handle and communicate errors in your code. It promotes best practices in exception handling and helps maintain code consistency and readability."
      ],
      "metadata": {
        "id": "Mc5daaEPDp-z"
      }
    },
    {
      "cell_type": "markdown",
      "source": [
        "## Q2. Write a python program to print Python Exception Hierarchy."
      ],
      "metadata": {
        "id": "H0-QgmfqDp8Q"
      }
    },
    {
      "cell_type": "markdown",
      "source": [
        "You can use the built-in `Exception` class in Python to explore the exception hierarchy. You can print the hierarchy by catching exceptions and then printing their type. Here's a Python program that prints the Python exception hierarchy:\n",
        "\n",
        "\n"
      ],
      "metadata": {
        "id": "SklS4A41Dp5Z"
      }
    },
    {
      "cell_type": "code",
      "source": [
        "def print_exception_hierarchy(exception_class, level=0):\n",
        "    indent = \"  \" * level\n",
        "    print(f\"{indent}{exception_class.__name__}\")\n",
        "    for base_exception in exception_class.__bases__:\n",
        "        print_exception_hierarchy(base_exception, level + 1)\n",
        "\n",
        "# Starting point: the base Exception class\n",
        "print(\"Python Exception Hierarchy:\")\n",
        "print_exception_hierarchy(Exception)"
      ],
      "metadata": {
        "id": "oFWDDNrHFkqB"
      },
      "execution_count": null,
      "outputs": []
    },
    {
      "cell_type": "markdown",
      "source": [
        "This program defines a function `print_exception_hierarchy` that takes an exception class as its argument and prints the hierarchy of exceptions. It starts with the base `Exception` class and recursively explores the exception hierarchy by examining the `__bases__` attribute of each exception class. The `level` parameter is used to add indentation to make the hierarchy more readable.\n",
        "\n",
        "When you run this program, it will print the Python exception hierarchy, showing the relationship between various exception classes. This hierarchy starts with the base `Exception` class and branches into more specific exception types like `TypeError`, `ValueError`, and others."
      ],
      "metadata": {
        "id": "qVJugqUoFodk"
      }
    },
    {
      "cell_type": "markdown",
      "source": [
        "## Q3. What errors are defined in the ArithmeticError class? Explain any two with an example."
      ],
      "metadata": {
        "id": "4Dm2-L-6Dp0F"
      }
    },
    {
      "cell_type": "markdown",
      "source": [
        "The `ArithmeticError` is a base class for exceptions related to arithmetic operations in Python. It serves as a common ancestor for more specific arithmetic-related exception classes. Two of the specific exceptions derived from `ArithmeticError` are `ZeroDivisionError` and `OverflowError`.\n",
        "\n",
        "1. **ZeroDivisionError**:\n",
        "   - Description: This exception is raised when you attempt to divide a number by zero, which is mathematically undefined. It occurs when the denominator in a division operation is zero.\n",
        "   - Example:\n",
        "\n",
        "     ```python\n",
        "     try:\n",
        "         result = 5 / 0  # Attempting to divide by zero\n",
        "     except ZeroDivisionError as e:\n",
        "         print(f\"Caught an exception: {e}\")\n",
        "     ```\n",
        "\n",
        "     In this example, when you try to divide 5 by 0, a `ZeroDivisionError` is raised because you cannot divide by zero.\n",
        "\n",
        "2. **OverflowError**:\n",
        "   - Description: `OverflowError` is raised when an arithmetic operation exceeds the limits of the data type or the system's representation capabilities. This typically occurs with large numbers that can't be represented within the available memory or data type range.\n",
        "   - Example:\n",
        "\n",
        "     ```python\n",
        "     import sys\n",
        "\n",
        "     try:\n",
        "         large_number = sys.maxsize + 1  # Attempting to create an integer that overflows\n",
        "     except OverflowError as e:\n",
        "         print(f\"Caught an exception: {e}\")\n",
        "     ```\n",
        "\n",
        "     In this example, we attempt to create an integer larger than the maximum representable integer on the system (using `sys.maxsize`), which raises an `OverflowError` because the number exceeds the system's representation limits.\n",
        "\n",
        "These examples illustrate how `ZeroDivisionError` and `OverflowError` are specific cases of arithmetic-related exceptions that are derived from the `ArithmeticError` base class. They help catch and handle errors related to arithmetic operations more precisely."
      ],
      "metadata": {
        "id": "SLGJL9CkFM5A"
      }
    },
    {
      "cell_type": "markdown",
      "source": [
        "## Q4. Why LookupError class is used? Explain with an example KeyError and IndexError."
      ],
      "metadata": {
        "id": "HvLByAVMFM2J"
      }
    },
    {
      "cell_type": "markdown",
      "source": [
        "The `LookupError` class is a base class for exceptions that occur when there is an issue with looking up a value in a sequence, such as a list, tuple, dictionary, or any other data structure. It serves as a common ancestor for more specific lookup-related exception classes. Two commonly encountered lookup-related exceptions derived from `LookupError` are `KeyError` and `IndexError`.\n",
        "\n",
        "1. **KeyError**:\n",
        "   - Description: `KeyError` is raised when you try to access a dictionary with a key that does not exist in the dictionary. It occurs when you attempt to look up a value using a key that is not present in the dictionary.\n",
        "   - Example:\n",
        "\n",
        "     ```python\n",
        "     my_dict = {\"apple\": 5, \"banana\": 3, \"cherry\": 7}\n",
        "\n",
        "     try:\n",
        "         value = my_dict[\"grape\"]  # Attempting to access a key that doesn't exist\n",
        "     except KeyError as e:\n",
        "         print(f\"Caught a KeyError: {e}\")\n",
        "     ```\n",
        "\n",
        "     In this example, we try to access the value associated with the key \"grape\" in the `my_dict` dictionary, but the key doesn't exist, leading to a `KeyError`.\n",
        "\n",
        "2. **IndexError**:\n",
        "   - Description: `IndexError` is raised when you try to access a sequence (e.g., a list or tuple) with an index that is out of its valid index range. It occurs when you attempt to access an element at an index that is not within the bounds of the sequence.\n",
        "   - Example:\n",
        "\n",
        "     ```python\n",
        "     my_list = [1, 2, 3, 4, 5]\n",
        "\n",
        "     try:\n",
        "         element = my_list[10]  # Attempting to access an index that is out of range\n",
        "     except IndexError as e:\n",
        "         print(f\"Caught an IndexError: {e}\")\n",
        "     ```\n",
        "\n",
        "     In this example, we try to access the element at index 10 in the `my_list`, but the list only has elements at indices 0 through 4, resulting in an `IndexError`.\n",
        "\n",
        "Both `KeyError` and `IndexError` are derived from the `LookupError` class because they share the common characteristic of attempting to look up or access data using an invalid key (in the case of `KeyError`) or an invalid index (in the case of `IndexError`). By using the `LookupError` class as a base, Python allows you to catch and handle these lookup-related errors more broadly while also providing the option to handle them more specifically when needed."
      ],
      "metadata": {
        "id": "hHeVPEVGFMzT"
      }
    },
    {
      "cell_type": "markdown",
      "source": [
        "## Q5. Explain ImportError. What is ModuleNotFoundError?"
      ],
      "metadata": {
        "id": "y2uJCy0FFRBK"
      }
    },
    {
      "cell_type": "markdown",
      "source": [
        "`ImportError` is an exception in Python that occurs when there is an issue with importing a module or a symbol (such as a function or class) from a module. It is a base class for a variety of import-related exceptions in Python. Importing modules is a fundamental part of Python programming, and when issues arise during this process, `ImportError` is raised.\n",
        "\n",
        "The `ImportError` exception can occur for several reasons, including:\n",
        "\n",
        "1. The module or package you are trying to import does not exist.\n",
        "2. There is an issue with the module's content or code, such as syntax errors or invalid code.\n",
        "3. The module you are trying to import is not in the Python search path.\n",
        "\n",
        "The `ModuleNotFoundError` is a more specific subclass of `ImportError` introduced in Python 3.6. It is raised when Python cannot find the module you are trying to import. In Python 3.3 and earlier versions, `ImportError` was used for this purpose.\n",
        "\n",
        "Here's an example illustrating both `ImportError` and `ModuleNotFoundError`:\n",
        "\n",
        "Suppose you have a Python script that attempts to import a module named \"nonexistent_module\":\n",
        "\n",
        "```python\n",
        "try:\n",
        "    import nonexistent_module  # This module doesn't exist\n",
        "except ImportError as e:\n",
        "    print(f\"Caught an ImportError: {e}\")\n",
        "except ModuleNotFoundError as e:\n",
        "    print(f\"Caught a ModuleNotFoundError: {e}\")\n",
        "```\n",
        "\n",
        "In this example, when you run the script, it will try to import a module called \"nonexistent_module,\" which does not exist. Both the `ImportError` and `ModuleNotFoundError` exceptions can be caught because `ModuleNotFoundError` is a subclass of `ImportError`. The specific exception that will be raised depends on the Python version you are using:\n",
        "\n",
        "- In Python 3.6 and later, you will catch a `ModuleNotFoundError`.\n",
        "- In Python 3.3 to 3.5, you will catch an `ImportError`.\n",
        "- In Python 3.2 and earlier, you will catch an `ImportError`.\n",
        "\n",
        "In all cases, the exception will indicate that the specified module could not be found or imported."
      ],
      "metadata": {
        "id": "4opXY5QGFT4a"
      }
    },
    {
      "cell_type": "markdown",
      "source": [
        "## Q6. List down some best practices for exception handling in python."
      ],
      "metadata": {
        "id": "RdICcfufFTXy"
      }
    },
    {
      "cell_type": "markdown",
      "source": [
        "Exception handling is a crucial aspect of writing robust and maintainable Python code. Here are some best practices for exception handling in Python:\n",
        "\n",
        "1. **Use Specific Exceptions**: Catch specific exceptions that you can handle and let others propagate. This helps you to differentiate between different types of errors and handle them appropriately.\n",
        "\n",
        "2. **Keep Exception Blocks Short**: Keep the code inside your `try` block as concise as possible. The purpose of a `try` block is to catch exceptions, not to contain a lot of logic. If you have complex logic, move it to separate functions.\n",
        "\n",
        "3. **Use `finally` for Cleanup**: When you need to perform cleanup actions, use the `finally` block. It guarantees that code will be executed whether an exception is raised or not, which is useful for tasks like closing files or network connections.\n",
        "\n",
        "4. **Don't Silence Exceptions**: Avoid using empty `except:` blocks without specifying the exception. Silencing exceptions can make debugging difficult and lead to unexpected behavior. Always log exceptions or provide meaningful error messages.\n",
        "\n",
        "5. **Avoid Using `Exception` as a Catch-All**: It's better to catch specific exceptions rather than using a broad `except Exception:` block. Catching too many exceptions can hide unexpected issues and make your code less robust.\n",
        "\n",
        "6. **Handle Exceptions Close to the Source**: Catch and handle exceptions as close to the source of the problem as possible. This helps you pinpoint the cause of the issue and take appropriate action.\n",
        "\n",
        "7. **Reraise Exceptions When Necessary**: If you catch an exception and can't handle it at your current level, consider re-raising it using `raise`. This preserves the original exception traceback for better debugging.\n",
        "\n",
        "8. **Provide Descriptive Error Messages**: When raising custom exceptions, provide clear and descriptive error messages that help users and developers understand the problem.\n",
        "\n",
        "9. **Use Context Managers**: When working with resources like files or database connections, use context managers (`with` statements) to ensure proper resource management. This automatically closes resources even if exceptions occur.\n",
        "\n",
        "10. **Avoid Mixing Business Logic and Exception Handling**: Keep your business logic separate from exception-handling code. This improves code maintainability and readability.\n",
        "\n",
        "11. **Document Exception Handling**: Document your exception-handling strategy and indicate the exceptions that can be raised by your code. This helps other developers understand how to use your code.\n",
        "\n",
        "12. **Unit Testing Exception Handling**: Write unit tests to ensure that your exception-handling code works as expected. Test scenarios where exceptions should be raised and handled.\n",
        "\n",
        "13. **Log Exceptions**: Always log exceptions. Logging provides valuable information for debugging and monitoring the health of your applications. Python's `logging` module is a useful tool for this purpose.\n",
        "\n",
        "14. **Use Try-Except-Else Blocks**: In some cases, it's useful to use a `try-except-else` block. The code in the `else` block is executed if no exception is raised, allowing you to separate error handling from the main logic.\n",
        "\n",
        "15. **Follow PEP 8 Guidelines**: Adhere to the Python Enhancement Proposal 8 (PEP 8) guidelines for code style. This includes maintaining consistent indentation, whitespace, and other coding standards in your exception-handling code.\n",
        "\n",
        "By following these best practices, you can write cleaner, more reliable, and more maintainable Python code that gracefully handles exceptions and errors."
      ],
      "metadata": {
        "id": "N_Ij3QOEGJc7"
      }
    },
    {
      "cell_type": "code",
      "source": [],
      "metadata": {
        "id": "ebOTM9ixDlqR"
      },
      "execution_count": null,
      "outputs": []
    }
  ]
}