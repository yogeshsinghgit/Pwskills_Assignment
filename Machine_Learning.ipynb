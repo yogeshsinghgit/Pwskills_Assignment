{
  "nbformat": 4,
  "nbformat_minor": 0,
  "metadata": {
    "colab": {
      "provenance": [],
      "toc_visible": true,
      "authorship_tag": "ABX9TyOqVbfGLCp0P580rr2amqNF",
      "include_colab_link": true
    },
    "kernelspec": {
      "name": "python3",
      "display_name": "Python 3"
    },
    "language_info": {
      "name": "python"
    }
  },
  "cells": [
    {
      "cell_type": "markdown",
      "metadata": {
        "id": "view-in-github",
        "colab_type": "text"
      },
      "source": [
        "<a href=\"https://colab.research.google.com/github/yogeshsinghgit/Pwskills_Assignment/blob/main/Machine_Learning.ipynb\" target=\"_parent\"><img src=\"https://colab.research.google.com/assets/colab-badge.svg\" alt=\"Open In Colab\"/></a>"
      ]
    },
    {
      "cell_type": "markdown",
      "source": [
        "# Machine Learning Part 1 - Assignment 1\n",
        "\n",
        "Submitted By: Yogesh Singh\n"
      ],
      "metadata": {
        "id": "32IancUxUuUs"
      }
    },
    {
      "cell_type": "markdown",
      "source": [
        "## Q1. Explain the following with an example?\n",
        "\n",
        "1. Artificial Intelligence\n",
        "2. Machine Learning\n",
        "3. Deep Learning"
      ],
      "metadata": {
        "id": "1PbmEN0LXZrw"
      }
    },
    {
      "cell_type": "markdown",
      "source": [
        "**Artificial Intelligence:**\n",
        "\n",
        "Artificial Intelligence allows a object/agent to perfrom task and decision making without human inteference.\n",
        "\n",
        "Example: Bot in games like pubg or gta.\n",
        "\n",
        "Bots used in games uses AI for decision making and perfroming tasks like, pickup guns, fire at enemy or drive cars.\n",
        "\n",
        "**Machine Learning:**\n",
        "\n",
        "Machine Learning is a subset of AI which uses past experience or data to build models which helps in decision making or in prediction.\n",
        "\n",
        "Example:\n",
        "Recommendation system.\n",
        "\n",
        "companies like amazon, google uses your data to show to advertisements or products which you are most likely to buy.\n",
        "\n",
        "**Deep Learning:**\n",
        "\n",
        "Deep Learning is an another subset of AI, in which we uses Neural Network to mimic the human brain and perfrom taks like prediction and decision making."
      ],
      "metadata": {
        "id": "RpaYf7RzXyUg"
      }
    },
    {
      "cell_type": "markdown",
      "source": [
        "## Q2- What is supervised learning? List some examples of supervised learning."
      ],
      "metadata": {
        "id": "GOFa8ksiZ6FX"
      }
    },
    {
      "cell_type": "markdown",
      "source": [
        "Supervised Learning is a type of machine learning in which machines are trained using well labelled traing data and there is a output feature (numerical/categorial) to predict.\n",
        "\n",
        "Examples of Supervised Learning\n",
        "1. Spam Filtering.\n",
        "2. House Price Prediction\n",
        "3. Fraud Detection.\n"
      ],
      "metadata": {
        "id": "3_ze2wuMaH6B"
      }
    },
    {
      "cell_type": "markdown",
      "source": [
        "## Q3- What is unsupervised learning? List some examples of unsupervised learning."
      ],
      "metadata": {
        "id": "SPbgUJmsbUUh"
      }
    },
    {
      "cell_type": "markdown",
      "source": [
        "Unsupervised Learning is a type of machine learning in which machines are trained using unlabelled traing data and there is no output feature (numerical/categorial) to predict.\n",
        "\n",
        "In unsupervied learning our main aim is to group data (clusters of data) based on their features and their similarity.\n",
        "\n",
        "Example:\n",
        "\n",
        "1. Customer Basket Analyze.\n",
        "2. Region based recommendation.\n",
        "3. customer type grouping."
      ],
      "metadata": {
        "id": "Ps1gFSIsbXDy"
      }
    },
    {
      "cell_type": "markdown",
      "source": [
        "## Q4- What is the difference between AI, ML, DL, and DS?"
      ],
      "metadata": {
        "id": "r3Hxo_F9cBQJ"
      }
    },
    {
      "cell_type": "markdown",
      "source": [
        "**AI (Artificial Intelligence)-**  uses ML, DL internally for decion making and prediction.\n",
        "\n",
        "**ML (Machine Learning)-** uses past experience and data for predicting output features.\n",
        "\n",
        "**DL (Deep Learning)-** try to mimic human brain (basically how human brian working, make decision, predict things, learn things) into a machine using artificial neural networks.\n",
        "\n",
        "**DS ( Data Science)-** Data Science is a combination of AI, ML, DL where we uses data to get insight for prediction and decision making."
      ],
      "metadata": {
        "id": "0gU6g-WucH7E"
      }
    },
    {
      "cell_type": "markdown",
      "source": [
        "## Q5- What are the main differences between supervised, unsupervised, and semi-supervised learning?"
      ],
      "metadata": {
        "id": "nef5PdS9dNuZ"
      }
    },
    {
      "cell_type": "markdown",
      "source": [
        "**Supervised Learning**- predicts output feature (categorical or continues) using labelled data.\n",
        "\n",
        "**Unsupervised Learning** - group data or make clusters of data based in their simalarity and uses unlabelled dataset.\n",
        "\n",
        "**Semi-supervised Learning**- uses a combination of both supervised learning and unsupervised learning."
      ],
      "metadata": {
        "id": "hbNYEbtUdaVO"
      }
    },
    {
      "cell_type": "markdown",
      "source": [
        "## Q6- What is train, test and validation split? Explain the importance of each term."
      ],
      "metadata": {
        "id": "qY0Q2GwQeYO6"
      }
    },
    {
      "cell_type": "markdown",
      "source": [
        "In train, validation and training split we split our training datset into 3 groups, the first training group has large volumne tham other two validation and test group and it is used for training the ML model.\n",
        "\n",
        "The validation split group is used for improving the performance of trained model whereas the testing split data is used to test the performance of the model."
      ],
      "metadata": {
        "id": "dQiv9oxref_5"
      }
    },
    {
      "cell_type": "markdown",
      "source": [
        "## Q7- How can unsupervised learning be used in anomaly detection?"
      ],
      "metadata": {
        "id": "Ua2Z2KZeaA2x"
      }
    },
    {
      "cell_type": "markdown",
      "source": [
        "unsupervised learning is used for making clusters/groups of data based on the similarity between them, if a data point is not clustered with other datapoint in the dataset, then the data point is considered as anomaly because it is not similary to any other data point in the dataset."
      ],
      "metadata": {
        "id": "P-ZkUckeaI_m"
      }
    },
    {
      "cell_type": "markdown",
      "source": [
        "## Q8- List down some commonly used supervised learning algorithms and unsupervised learning algorithms.\n"
      ],
      "metadata": {
        "id": "dWuCj1iccHCw"
      }
    },
    {
      "cell_type": "markdown",
      "source": [
        "**Supervised Learning Algorithm**\n",
        "1. Linear Regression\n",
        "2. Logistic regression\n",
        "3. Naive Bayes\n",
        "4. Decision Tree Classifier/Regressor\n",
        "\n",
        "\n",
        "**Unsupervised Learning Algorithm**\n",
        "\n",
        "1. PCA (Principal Component Analysis)\n",
        "2. Anomaly Detection\n",
        "3. K-Means Clustering"
      ],
      "metadata": {
        "id": "Q3br64VPcJ7R"
      }
    },
    {
      "cell_type": "code",
      "execution_count": 4,
      "metadata": {
        "id": "RzIzVMJqKHg_"
      },
      "outputs": [],
      "source": []
    }
  ]
}