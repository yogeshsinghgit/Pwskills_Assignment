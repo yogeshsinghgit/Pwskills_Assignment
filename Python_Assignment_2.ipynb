{
  "nbformat": 4,
  "nbformat_minor": 0,
  "metadata": {
    "colab": {
      "provenance": [],
      "toc_visible": true,
      "authorship_tag": "ABX9TyO4QUAPrcwuRmiLb4ReESA4",
      "include_colab_link": true
    },
    "kernelspec": {
      "name": "python3",
      "display_name": "Python 3"
    },
    "language_info": {
      "name": "python"
    }
  },
  "cells": [
    {
      "cell_type": "markdown",
      "metadata": {
        "id": "view-in-github",
        "colab_type": "text"
      },
      "source": [
        "<a href=\"https://colab.research.google.com/github/yogeshsinghgit/Pwskills_Assignment/blob/main/Python_Assignment_2.ipynb\" target=\"_parent\"><img src=\"https://colab.research.google.com/assets/colab-badge.svg\" alt=\"Open In Colab\"/></a>"
      ]
    },
    {
      "cell_type": "markdown",
      "source": [
        "# Python Function Assignment 2\n",
        "\n",
        "\n",
        "**Submitted by: Yogesh Singh**"
      ],
      "metadata": {
        "id": "XJxCxe519G_j"
      }
    },
    {
      "cell_type": "markdown",
      "source": [
        "## Q1. Create a python program to sort the given list of tuples based on integer value using a lambda function."
      ],
      "metadata": {
        "id": "S5eHU40J9VZ2"
      }
    },
    {
      "cell_type": "markdown",
      "source": [
        "If you want to sort a list of tuples by a given element, you can use the sort() method and specify a lambda function as a key. Unfortunately, Python does not allow you to specify the index of the sorting element directly. Instead, a function must be defined inside the key parameter, which helps the sort() method identify which index to choose. The lambda function allows you to specify a custom comparator function in the sort() method.\n",
        "\n",
        "Rerference: https://learnpython.com/blog/sort-tuples-in-python/"
      ],
      "metadata": {
        "id": "NtjBRB4I-sO-"
      }
    },
    {
      "cell_type": "code",
      "execution_count": 8,
      "metadata": {
        "colab": {
          "base_uri": "https://localhost:8080/"
        },
        "id": "L9NnHjRH9EoW",
        "outputId": "c67d0504-bcbf-4fff-e570-ef5fbbbe16c2"
      },
      "outputs": [
        {
          "output_type": "stream",
          "name": "stdout",
          "text": [
            "[('Virat Kohli', 24936), ('Jack Kallis', 25534), ('Ricky Ponting', 27483), ('Sachin Tendulkar', 34357)]\n"
          ]
        }
      ],
      "source": [
        "my_tuple_list = [('Sachin Tendulkar', 34357), ('Ricky Ponting', 27483), ('Jack Kallis', 25534), ('Virat Kohli', 24936)]\n",
        "\n",
        "my_tuple_list.sort(key=lambda a: a[1])\n",
        "\n",
        "print(my_tuple_list)"
      ]
    },
    {
      "cell_type": "markdown",
      "source": [
        "## Q2. Write a Python Program to find the squares of all the numbers in the given list of integers using lambda and map functions.\n",
        "\n",
        "## [1, 2, 3, 4, 5, 6, 7, 8, 9, 10]"
      ],
      "metadata": {
        "id": "pGM5EEQf_X19"
      }
    },
    {
      "cell_type": "markdown",
      "source": [
        "The map function is used when we want to execute a function for each item n a iterable.\n",
        "\n",
        "syntax:  `result = map(function, iterable)`\n",
        "\n",
        "\n"
      ],
      "metadata": {
        "id": "G2KH6kaODGv4"
      }
    },
    {
      "cell_type": "code",
      "source": [
        "my_list = [1, 2, 3, 4, 5, 6, 7, 8, 9, 10]\n",
        "\n",
        "squared_list = map(lambda x : x**2, my_list)\n",
        "\n",
        "print(list(squared_list))"
      ],
      "metadata": {
        "colab": {
          "base_uri": "https://localhost:8080/"
        },
        "id": "hHd_PzaU-PvF",
        "outputId": "c3466f44-1dfb-4821-83ea-596e08677cd8"
      },
      "execution_count": 12,
      "outputs": [
        {
          "output_type": "stream",
          "name": "stdout",
          "text": [
            "[1, 4, 9, 16, 25, 36, 49, 64, 81, 100]\n"
          ]
        }
      ]
    },
    {
      "cell_type": "markdown",
      "source": [
        "## Q3. Write a python program to convert the given list of integers into a tuple of strings. Use map and lambda functions\n",
        "\n",
        "## Given String: [1, 2, 3, 4, 5, 6, 7, 8, 9, 10]\n",
        "## Expected output: ('1', '2', '3', '4', '5', '6', '7', '8', '9', '10')"
      ],
      "metadata": {
        "id": "a5U5ISJRDbi0"
      }
    },
    {
      "cell_type": "code",
      "source": [
        "my_list = [1, 2, 3, 4, 5, 6, 7, 8, 9, 10]\n",
        "\n",
        "string_list = map(lambda x: str(x), my_list)\n",
        "\n",
        "print(list(string_list))"
      ],
      "metadata": {
        "colab": {
          "base_uri": "https://localhost:8080/"
        },
        "id": "Bpz7i7gaB0zM",
        "outputId": "bb9b06bf-5a68-45ac-e7ca-1b381539cff1"
      },
      "execution_count": 13,
      "outputs": [
        {
          "output_type": "stream",
          "name": "stdout",
          "text": [
            "['1', '2', '3', '4', '5', '6', '7', '8', '9', '10']\n"
          ]
        }
      ]
    },
    {
      "cell_type": "markdown",
      "source": [
        "## Q4. Write a python program using reduce function to compute the product of a list containing numbers from 1 to 25."
      ],
      "metadata": {
        "id": "jRFmktrKEMB1"
      }
    },
    {
      "cell_type": "code",
      "source": [
        "from functools import reduce\n",
        "\n",
        "my_list = list(range(1, 26))\n",
        "\n",
        "print(my_list)\n",
        "\n",
        "product = reduce(lambda x,y : x*y, my_list)\n",
        "print(product)"
      ],
      "metadata": {
        "colab": {
          "base_uri": "https://localhost:8080/"
        },
        "id": "i4H3FvpqB0wW",
        "outputId": "626ead60-3b7f-43af-8e44-b05bbe80408a"
      },
      "execution_count": 14,
      "outputs": [
        {
          "output_type": "stream",
          "name": "stdout",
          "text": [
            "[1, 2, 3, 4, 5, 6, 7, 8, 9, 10, 11, 12, 13, 14, 15, 16, 17, 18, 19, 20, 21, 22, 23, 24, 25]\n",
            "15511210043330985984000000\n"
          ]
        }
      ]
    },
    {
      "cell_type": "markdown",
      "source": [
        "## Q5. Write a python program to filter the numbers in a given list that are divisible by 2 and 3 using the filter function. [2, 3, 6, 9, 27, 60, 90, 120, 55, 46]"
      ],
      "metadata": {
        "id": "3VwZpDX5E318"
      }
    },
    {
      "cell_type": "code",
      "source": [
        "my_list = [2, 3, 6, 9, 27, 60, 90, 120, 55, 46]\n",
        "\n",
        "div_nums = filter(lambda x : x%2==0 and x%3==0, my_list)\n",
        "\n",
        "print(list(div_nums))"
      ],
      "metadata": {
        "colab": {
          "base_uri": "https://localhost:8080/"
        },
        "id": "AL5tgiCzB0t5",
        "outputId": "544bbfcc-dbf1-4346-84a7-b58f186c2270"
      },
      "execution_count": 16,
      "outputs": [
        {
          "output_type": "stream",
          "name": "stdout",
          "text": [
            "[6, 60, 90, 120]\n"
          ]
        }
      ]
    },
    {
      "cell_type": "markdown",
      "source": [
        "## Q6. Write a python program to find palindromes in the given list of strings using lambda and filter function.\n",
        "\n",
        "## ['python', 'php', 'aba', 'radar', 'level']"
      ],
      "metadata": {
        "id": "s1SBR3n5FTDx"
      }
    },
    {
      "cell_type": "code",
      "source": [
        "my_list = ['python', 'php', 'aba', 'radar', 'level']\n",
        "print(my_list)\n",
        "\n",
        "palindrome_items = list(filter(lambda x : x == x[::-1], my_list))\n",
        "print(palindrome_items)"
      ],
      "metadata": {
        "colab": {
          "base_uri": "https://localhost:8080/"
        },
        "id": "KYSkJrfRFL8M",
        "outputId": "507b1c7a-e00c-42f9-c3a3-04e591ec800f"
      },
      "execution_count": 18,
      "outputs": [
        {
          "output_type": "stream",
          "name": "stdout",
          "text": [
            "['python', 'php', 'aba', 'radar', 'level']\n",
            "['php', 'aba', 'radar', 'level']\n"
          ]
        }
      ]
    },
    {
      "cell_type": "code",
      "source": [],
      "metadata": {
        "id": "aLrZJpZIFyjR"
      },
      "execution_count": null,
      "outputs": []
    }
  ]
}