{
  "nbformat": 4,
  "nbformat_minor": 0,
  "metadata": {
    "colab": {
      "provenance": [],
      "authorship_tag": "ABX9TyOgq44rAP4k4jA0/8omD6Ul",
      "include_colab_link": true
    },
    "kernelspec": {
      "name": "python3",
      "display_name": "Python 3"
    },
    "language_info": {
      "name": "python"
    }
  },
  "cells": [
    {
      "cell_type": "markdown",
      "metadata": {
        "id": "view-in-github",
        "colab_type": "text"
      },
      "source": [
        "<a href=\"https://colab.research.google.com/github/yogeshsinghgit/Pwskills_Assignment/blob/main/Numpy_Basics_Assignment.ipynb\" target=\"_parent\"><img src=\"https://colab.research.google.com/assets/colab-badge.svg\" alt=\"Open In Colab\"/></a>"
      ]
    },
    {
      "cell_type": "markdown",
      "source": [
        "# Numpy Basics Assignment\n",
        "\n",
        "[Assignment Link](https://drive.google.com/file/d/1te1qkBrWcohVW95SHXAU7bks9f2zQZQK/view)"
      ],
      "metadata": {
        "id": "79E7eJ4xaKL6"
      }
    },
    {
      "cell_type": "markdown",
      "source": [
        "## Q1. Is there any difference in the data type of variables list_ and array_list? If there is then write a code to print the data types of both the variables.\n",
        "\n",
        "\n",
        "\n",
        "```Python\n",
        "import numpy as np\n",
        "list_ = [ '1' , '2' , '3' , '4' , '5' ]\n",
        "array_list = np.array(object = list_)\n",
        "```\n",
        "\n"
      ],
      "metadata": {
        "id": "IH6vZZuhZxnc"
      }
    },
    {
      "cell_type": "code",
      "source": [
        "import numpy as np\n",
        "list_ = [ '1' , '2' , '3' , '4' , '5' ]\n",
        "array_list = np.array(object = list_)\n",
        "\n",
        "print(type(list_))\n",
        "print(type(array_list))"
      ],
      "metadata": {
        "colab": {
          "base_uri": "https://localhost:8080/"
        },
        "id": "-TiiL5rZaltE",
        "outputId": "3272e6a3-01a1-4c33-d0af-06d6c040fa27"
      },
      "execution_count": 2,
      "outputs": [
        {
          "output_type": "stream",
          "name": "stdout",
          "text": [
            "<class 'list'>\n",
            "<class 'numpy.ndarray'>\n"
          ]
        }
      ]
    },
    {
      "cell_type": "markdown",
      "source": [
        "The list_ is a sequence of type list whereas the array_list is an numpy array of some characters."
      ],
      "metadata": {
        "id": "fLI6czPbaqC1"
      }
    },
    {
      "cell_type": "markdown",
      "source": [
        "## Q2. Write a code to print the data type of each and every element of both the variables list_ and array_list."
      ],
      "metadata": {
        "id": "5dsbi_qTbCbG"
      }
    },
    {
      "cell_type": "code",
      "source": [
        "for i, j in zip(list_, array_list):\n",
        "  print(f\"{i} in list_ is {type(i)} and {j} in array_list is {type(j)}\")"
      ],
      "metadata": {
        "colab": {
          "base_uri": "https://localhost:8080/"
        },
        "id": "fogQnrolapgQ",
        "outputId": "717e5854-7fd2-4bf0-98f6-2037bf069cf9"
      },
      "execution_count": 4,
      "outputs": [
        {
          "output_type": "stream",
          "name": "stdout",
          "text": [
            "1 in list_ is <class 'str'> and 1 in array_list is <class 'numpy.str_'>\n",
            "2 in list_ is <class 'str'> and 2 in array_list is <class 'numpy.str_'>\n",
            "3 in list_ is <class 'str'> and 3 in array_list is <class 'numpy.str_'>\n",
            "4 in list_ is <class 'str'> and 4 in array_list is <class 'numpy.str_'>\n",
            "5 in list_ is <class 'str'> and 5 in array_list is <class 'numpy.str_'>\n"
          ]
        }
      ]
    },
    {
      "cell_type": "markdown",
      "source": [
        "## Q3. Considering the following changes in the variable, array_list:\n",
        "\n",
        "`array_list = np.array(object = list_, dtype = int)`\n",
        "\n",
        "Will there be any difference in the data type of the elements present in both the variables, list_ and arra_list? If so then print the data types of each and every element present in both the variables, list_\n",
        "and arra_list.\n",
        "\n",
        "\n",
        "\n"
      ],
      "metadata": {
        "id": "a63MH7DSbhZv"
      }
    },
    {
      "cell_type": "code",
      "source": [
        "array_list = np.array(object = list_, dtype = int)\n",
        "for i, j in zip(list_, array_list):\n",
        "  print(f\"{i} in list_ is {type(i)} and {j} in array_list is {type(j)}\")"
      ],
      "metadata": {
        "colab": {
          "base_uri": "https://localhost:8080/"
        },
        "id": "oV4SNPOcb3Jo",
        "outputId": "07cc2037-797f-404c-d6fd-025995b44bca"
      },
      "execution_count": 5,
      "outputs": [
        {
          "output_type": "stream",
          "name": "stdout",
          "text": [
            "1 in list_ is <class 'str'> and 1 in array_list is <class 'numpy.int64'>\n",
            "2 in list_ is <class 'str'> and 2 in array_list is <class 'numpy.int64'>\n",
            "3 in list_ is <class 'str'> and 3 in array_list is <class 'numpy.int64'>\n",
            "4 in list_ is <class 'str'> and 4 in array_list is <class 'numpy.int64'>\n",
            "5 in list_ is <class 'str'> and 5 in array_list is <class 'numpy.int64'>\n"
          ]
        }
      ]
    },
    {
      "cell_type": "markdown",
      "source": [
        "The answer is YES, That there will be some difference between the datatype of each iterable elements.\n",
        "\n",
        "as we can see the datatype of each element of array_list which is a numpy array is converted to int class, whereas the list element datatype remain same."
      ],
      "metadata": {
        "id": "bR2Z_tsnb1Ti"
      }
    },
    {
      "cell_type": "markdown",
      "source": [
        "Consider the below code to answer further questions:\n",
        "\n",
        "\n",
        "\n",
        "```Python\n",
        "import numpy as np\n",
        "num_list = [ [ 1 , 2 , 3 ] , [ 4 , 5 , 6 ] ]\n",
        "num_array = np.array(object = num_list)\n",
        "```"
      ],
      "metadata": {
        "id": "g0HNz799bzn-"
      }
    },
    {
      "cell_type": "markdown",
      "source": [
        "## Q4. Write a code to find the following characteristics of variable, num_array:\n",
        "\n",
        "(i) shape\n",
        "\n",
        "(ii) size"
      ],
      "metadata": {
        "id": "__fMm-3NccuO"
      }
    },
    {
      "cell_type": "code",
      "source": [
        "\n",
        "import numpy as np\n",
        "num_list = [ [ 1 , 2 , 3 ] , [ 4 , 5 , 6 ] ]\n",
        "num_array = np.array(object = num_list)\n",
        "\n",
        "print(f\"The Shape of num_list = {num_array.shape}\")\n",
        "print(f\"The Size of num_list = {num_array.size}\")"
      ],
      "metadata": {
        "colab": {
          "base_uri": "https://localhost:8080/"
        },
        "id": "rTP-dfs2bXSY",
        "outputId": "bd2da745-728a-4a42-b84d-73ad944ff230"
      },
      "execution_count": 8,
      "outputs": [
        {
          "output_type": "stream",
          "name": "stdout",
          "text": [
            "The Shape of num_list = (2, 3)\n",
            "The Size of num_list = 6\n"
          ]
        }
      ]
    },
    {
      "cell_type": "markdown",
      "source": [
        "## Q5. Write a code to create numpy array of 3*3 matrix containing zeros only, using a numpy array creation function.\n",
        "\n",
        "> [Hint: The size of the array will be 9 and the shape will be (3,3).]\n",
        "\n"
      ],
      "metadata": {
        "id": "KCQzyLGddHd2"
      }
    },
    {
      "cell_type": "code",
      "source": [
        "import numpy as np\n",
        "\n",
        "# Create a 3x3 array filled with zeros\n",
        "zeros_array = np.zeros((3, 3))\n",
        "\n",
        "# Print the array\n",
        "print(zeros_array)\n"
      ],
      "metadata": {
        "colab": {
          "base_uri": "https://localhost:8080/"
        },
        "id": "ijskHqGpcusZ",
        "outputId": "3dd00492-dbc3-494e-9f2c-fb49f24cef63"
      },
      "execution_count": 9,
      "outputs": [
        {
          "output_type": "stream",
          "name": "stdout",
          "text": [
            "[[0. 0. 0.]\n",
            " [0. 0. 0.]\n",
            " [0. 0. 0.]]\n"
          ]
        }
      ]
    },
    {
      "cell_type": "markdown",
      "source": [
        "## Q6. Create an identity matrix of shape (5,5) using numpy functions?\n",
        "\n",
        "> [Hint: An identity matrix is a matrix containing 1 diagonally and other elements will be 0.]\n",
        "\n"
      ],
      "metadata": {
        "id": "-MB2cekbdWeO"
      }
    },
    {
      "cell_type": "markdown",
      "source": [
        "np.eye(5) is the function that efficiently constructs the identity matrix. It takes a single argument, which is the desired dimension of the matrix (both rows and columns).\n",
        "\n",
        "The output from np.eye(5) is stored in the variable identity_matrix."
      ],
      "metadata": {
        "id": "3w3BSQ70dsh3"
      }
    },
    {
      "cell_type": "code",
      "source": [
        "import numpy as np\n",
        "\n",
        "# Create a 5x5 identity matrix\n",
        "identity_matrix = np.eye(5)\n",
        "\n",
        "# Print the matrix\n",
        "print(identity_matrix)\n"
      ],
      "metadata": {
        "colab": {
          "base_uri": "https://localhost:8080/"
        },
        "id": "0Mpi7voOdTbv",
        "outputId": "d23ac838-3a81-4fa4-8cf9-6c3109fbe5b7"
      },
      "execution_count": 10,
      "outputs": [
        {
          "output_type": "stream",
          "name": "stdout",
          "text": [
            "[[1. 0. 0. 0. 0.]\n",
            " [0. 1. 0. 0. 0.]\n",
            " [0. 0. 1. 0. 0.]\n",
            " [0. 0. 0. 1. 0.]\n",
            " [0. 0. 0. 0. 1.]]\n"
          ]
        }
      ]
    },
    {
      "cell_type": "code",
      "source": [],
      "metadata": {
        "id": "2bzO87FKdmgr"
      },
      "execution_count": null,
      "outputs": []
    }
  ]
}