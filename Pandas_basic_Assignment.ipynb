{
  "nbformat": 4,
  "nbformat_minor": 0,
  "metadata": {
    "colab": {
      "provenance": [],
      "authorship_tag": "ABX9TyN8Y1FlLSR+9C4S0h3/SuB5",
      "include_colab_link": true
    },
    "kernelspec": {
      "name": "python3",
      "display_name": "Python 3"
    },
    "language_info": {
      "name": "python"
    }
  },
  "cells": [
    {
      "cell_type": "markdown",
      "metadata": {
        "id": "view-in-github",
        "colab_type": "text"
      },
      "source": [
        "<a href=\"https://colab.research.google.com/github/yogeshsinghgit/Pwskills_Assignment/blob/main/Pandas_basic_Assignment.ipynb\" target=\"_parent\"><img src=\"https://colab.research.google.com/assets/colab-badge.svg\" alt=\"Open In Colab\"/></a>"
      ]
    },
    {
      "cell_type": "code",
      "execution_count": null,
      "metadata": {
        "id": "sUoyrgWMIMtJ"
      },
      "outputs": [],
      "source": []
    },
    {
      "cell_type": "markdown",
      "source": [
        "# Pandas basic Assignment"
      ],
      "metadata": {
        "id": "OqhYVycsIXF-"
      }
    },
    {
      "cell_type": "markdown",
      "source": [
        "## Q1. Create a Pandas Series that contains the following data: 4, 8, 15, 16, 23, and 42. Then, print the series."
      ],
      "metadata": {
        "id": "lKpuieS2Ibdc"
      }
    },
    {
      "cell_type": "code",
      "source": [
        "import pandas as pd\n",
        "\n",
        "ser = pd.Series([4, 8, 16, 16, 23, 42])\n",
        "\n",
        "print(ser)\n",
        "print(type(ser))"
      ],
      "metadata": {
        "colab": {
          "base_uri": "https://localhost:8080/"
        },
        "id": "5uF1eEQQIY-H",
        "outputId": "6099a475-b7c4-4a42-8146-062c144b1aa7"
      },
      "execution_count": 2,
      "outputs": [
        {
          "output_type": "stream",
          "name": "stdout",
          "text": [
            "0     4\n",
            "1     8\n",
            "2    16\n",
            "3    16\n",
            "4    23\n",
            "5    42\n",
            "dtype: int64\n",
            "<class 'pandas.core.series.Series'>\n"
          ]
        }
      ]
    },
    {
      "cell_type": "markdown",
      "source": [
        "## Q2. Create a variable of list type containing 10 elements in it, and apply pandas.Series function on the variable print it."
      ],
      "metadata": {
        "id": "dkspxOMHIltS"
      }
    },
    {
      "cell_type": "code",
      "source": [
        "my_list = [\"A\", \"B\", \"C\", \"D\", \"E\", \"F\", \"G\", \"H\", \"I\", \"J\"]\n",
        "\n",
        "ser2 = pd.Series(my_list)\n",
        "\n",
        "print(ser2)\n",
        "print(type(ser2))"
      ],
      "metadata": {
        "colab": {
          "base_uri": "https://localhost:8080/"
        },
        "id": "AaW-yUDsIutr",
        "outputId": "8b2ff3f2-4e5c-47f7-b8e1-7f928a7a37ba"
      },
      "execution_count": 3,
      "outputs": [
        {
          "output_type": "stream",
          "name": "stdout",
          "text": [
            "0    A\n",
            "1    B\n",
            "2    C\n",
            "3    D\n",
            "4    E\n",
            "5    F\n",
            "6    G\n",
            "7    H\n",
            "8    I\n",
            "9    J\n",
            "dtype: object\n",
            "<class 'pandas.core.series.Series'>\n"
          ]
        }
      ]
    },
    {
      "cell_type": "markdown",
      "source": [
        "## Q3. Create a Pandas DataFrame that contains the following data:\n",
        "![image.png](data:image/png;base64,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)\n",
        "\n",
        "Then, print the DataFrame."
      ],
      "metadata": {
        "id": "hLY_0AIQJDtZ"
      }
    },
    {
      "cell_type": "code",
      "source": [
        "df = pd.DataFrame(data = {\"Name\": ['Alice', 'Bob', 'Claire'],\n",
        "                          \"Age\": [25, 30, 27],\n",
        "                          \"Gender\": ['Female', 'Male', 'Female']})\n",
        "\n",
        "df"
      ],
      "metadata": {
        "colab": {
          "base_uri": "https://localhost:8080/",
          "height": 143
        },
        "id": "zGe-wwYnJAFp",
        "outputId": "31a6dac7-eb70-44a5-80f7-ed932dabc96b"
      },
      "execution_count": 5,
      "outputs": [
        {
          "output_type": "execute_result",
          "data": {
            "text/plain": [
              "     Name  Age  Gender\n",
              "0   Alice   25  Female\n",
              "1     Bob   30    Male\n",
              "2  Claire   27  Female"
            ],
            "text/html": [
              "\n",
              "  <div id=\"df-6a84d037-7c5e-423f-bc70-04773219b12c\" class=\"colab-df-container\">\n",
              "    <div>\n",
              "<style scoped>\n",
              "    .dataframe tbody tr th:only-of-type {\n",
              "        vertical-align: middle;\n",
              "    }\n",
              "\n",
              "    .dataframe tbody tr th {\n",
              "        vertical-align: top;\n",
              "    }\n",
              "\n",
              "    .dataframe thead th {\n",
              "        text-align: right;\n",
              "    }\n",
              "</style>\n",
              "<table border=\"1\" class=\"dataframe\">\n",
              "  <thead>\n",
              "    <tr style=\"text-align: right;\">\n",
              "      <th></th>\n",
              "      <th>Name</th>\n",
              "      <th>Age</th>\n",
              "      <th>Gender</th>\n",
              "    </tr>\n",
              "  </thead>\n",
              "  <tbody>\n",
              "    <tr>\n",
              "      <th>0</th>\n",
              "      <td>Alice</td>\n",
              "      <td>25</td>\n",
              "      <td>Female</td>\n",
              "    </tr>\n",
              "    <tr>\n",
              "      <th>1</th>\n",
              "      <td>Bob</td>\n",
              "      <td>30</td>\n",
              "      <td>Male</td>\n",
              "    </tr>\n",
              "    <tr>\n",
              "      <th>2</th>\n",
              "      <td>Claire</td>\n",
              "      <td>27</td>\n",
              "      <td>Female</td>\n",
              "    </tr>\n",
              "  </tbody>\n",
              "</table>\n",
              "</div>\n",
              "    <div class=\"colab-df-buttons\">\n",
              "\n",
              "  <div class=\"colab-df-container\">\n",
              "    <button class=\"colab-df-convert\" onclick=\"convertToInteractive('df-6a84d037-7c5e-423f-bc70-04773219b12c')\"\n",
              "            title=\"Convert this dataframe to an interactive table.\"\n",
              "            style=\"display:none;\">\n",
              "\n",
              "  <svg xmlns=\"http://www.w3.org/2000/svg\" height=\"24px\" viewBox=\"0 -960 960 960\">\n",
              "    <path d=\"M120-120v-720h720v720H120Zm60-500h600v-160H180v160Zm220 220h160v-160H400v160Zm0 220h160v-160H400v160ZM180-400h160v-160H180v160Zm440 0h160v-160H620v160ZM180-180h160v-160H180v160Zm440 0h160v-160H620v160Z\"/>\n",
              "  </svg>\n",
              "    </button>\n",
              "\n",
              "  <style>\n",
              "    .colab-df-container {\n",
              "      display:flex;\n",
              "      gap: 12px;\n",
              "    }\n",
              "\n",
              "    .colab-df-convert {\n",
              "      background-color: #E8F0FE;\n",
              "      border: none;\n",
              "      border-radius: 50%;\n",
              "      cursor: pointer;\n",
              "      display: none;\n",
              "      fill: #1967D2;\n",
              "      height: 32px;\n",
              "      padding: 0 0 0 0;\n",
              "      width: 32px;\n",
              "    }\n",
              "\n",
              "    .colab-df-convert:hover {\n",
              "      background-color: #E2EBFA;\n",
              "      box-shadow: 0px 1px 2px rgba(60, 64, 67, 0.3), 0px 1px 3px 1px rgba(60, 64, 67, 0.15);\n",
              "      fill: #174EA6;\n",
              "    }\n",
              "\n",
              "    .colab-df-buttons div {\n",
              "      margin-bottom: 4px;\n",
              "    }\n",
              "\n",
              "    [theme=dark] .colab-df-convert {\n",
              "      background-color: #3B4455;\n",
              "      fill: #D2E3FC;\n",
              "    }\n",
              "\n",
              "    [theme=dark] .colab-df-convert:hover {\n",
              "      background-color: #434B5C;\n",
              "      box-shadow: 0px 1px 3px 1px rgba(0, 0, 0, 0.15);\n",
              "      filter: drop-shadow(0px 1px 2px rgba(0, 0, 0, 0.3));\n",
              "      fill: #FFFFFF;\n",
              "    }\n",
              "  </style>\n",
              "\n",
              "    <script>\n",
              "      const buttonEl =\n",
              "        document.querySelector('#df-6a84d037-7c5e-423f-bc70-04773219b12c button.colab-df-convert');\n",
              "      buttonEl.style.display =\n",
              "        google.colab.kernel.accessAllowed ? 'block' : 'none';\n",
              "\n",
              "      async function convertToInteractive(key) {\n",
              "        const element = document.querySelector('#df-6a84d037-7c5e-423f-bc70-04773219b12c');\n",
              "        const dataTable =\n",
              "          await google.colab.kernel.invokeFunction('convertToInteractive',\n",
              "                                                    [key], {});\n",
              "        if (!dataTable) return;\n",
              "\n",
              "        const docLinkHtml = 'Like what you see? Visit the ' +\n",
              "          '<a target=\"_blank\" href=https://colab.research.google.com/notebooks/data_table.ipynb>data table notebook</a>'\n",
              "          + ' to learn more about interactive tables.';\n",
              "        element.innerHTML = '';\n",
              "        dataTable['output_type'] = 'display_data';\n",
              "        await google.colab.output.renderOutput(dataTable, element);\n",
              "        const docLink = document.createElement('div');\n",
              "        docLink.innerHTML = docLinkHtml;\n",
              "        element.appendChild(docLink);\n",
              "      }\n",
              "    </script>\n",
              "  </div>\n",
              "\n",
              "\n",
              "<div id=\"df-d972c97e-03e5-4edf-99cc-97b5cea22809\">\n",
              "  <button class=\"colab-df-quickchart\" onclick=\"quickchart('df-d972c97e-03e5-4edf-99cc-97b5cea22809')\"\n",
              "            title=\"Suggest charts\"\n",
              "            style=\"display:none;\">\n",
              "\n",
              "<svg xmlns=\"http://www.w3.org/2000/svg\" height=\"24px\"viewBox=\"0 0 24 24\"\n",
              "     width=\"24px\">\n",
              "    <g>\n",
              "        <path d=\"M19 3H5c-1.1 0-2 .9-2 2v14c0 1.1.9 2 2 2h14c1.1 0 2-.9 2-2V5c0-1.1-.9-2-2-2zM9 17H7v-7h2v7zm4 0h-2V7h2v10zm4 0h-2v-4h2v4z\"/>\n",
              "    </g>\n",
              "</svg>\n",
              "  </button>\n",
              "\n",
              "<style>\n",
              "  .colab-df-quickchart {\n",
              "      --bg-color: #E8F0FE;\n",
              "      --fill-color: #1967D2;\n",
              "      --hover-bg-color: #E2EBFA;\n",
              "      --hover-fill-color: #174EA6;\n",
              "      --disabled-fill-color: #AAA;\n",
              "      --disabled-bg-color: #DDD;\n",
              "  }\n",
              "\n",
              "  [theme=dark] .colab-df-quickchart {\n",
              "      --bg-color: #3B4455;\n",
              "      --fill-color: #D2E3FC;\n",
              "      --hover-bg-color: #434B5C;\n",
              "      --hover-fill-color: #FFFFFF;\n",
              "      --disabled-bg-color: #3B4455;\n",
              "      --disabled-fill-color: #666;\n",
              "  }\n",
              "\n",
              "  .colab-df-quickchart {\n",
              "    background-color: var(--bg-color);\n",
              "    border: none;\n",
              "    border-radius: 50%;\n",
              "    cursor: pointer;\n",
              "    display: none;\n",
              "    fill: var(--fill-color);\n",
              "    height: 32px;\n",
              "    padding: 0;\n",
              "    width: 32px;\n",
              "  }\n",
              "\n",
              "  .colab-df-quickchart:hover {\n",
              "    background-color: var(--hover-bg-color);\n",
              "    box-shadow: 0 1px 2px rgba(60, 64, 67, 0.3), 0 1px 3px 1px rgba(60, 64, 67, 0.15);\n",
              "    fill: var(--button-hover-fill-color);\n",
              "  }\n",
              "\n",
              "  .colab-df-quickchart-complete:disabled,\n",
              "  .colab-df-quickchart-complete:disabled:hover {\n",
              "    background-color: var(--disabled-bg-color);\n",
              "    fill: var(--disabled-fill-color);\n",
              "    box-shadow: none;\n",
              "  }\n",
              "\n",
              "  .colab-df-spinner {\n",
              "    border: 2px solid var(--fill-color);\n",
              "    border-color: transparent;\n",
              "    border-bottom-color: var(--fill-color);\n",
              "    animation:\n",
              "      spin 1s steps(1) infinite;\n",
              "  }\n",
              "\n",
              "  @keyframes spin {\n",
              "    0% {\n",
              "      border-color: transparent;\n",
              "      border-bottom-color: var(--fill-color);\n",
              "      border-left-color: var(--fill-color);\n",
              "    }\n",
              "    20% {\n",
              "      border-color: transparent;\n",
              "      border-left-color: var(--fill-color);\n",
              "      border-top-color: var(--fill-color);\n",
              "    }\n",
              "    30% {\n",
              "      border-color: transparent;\n",
              "      border-left-color: var(--fill-color);\n",
              "      border-top-color: var(--fill-color);\n",
              "      border-right-color: var(--fill-color);\n",
              "    }\n",
              "    40% {\n",
              "      border-color: transparent;\n",
              "      border-right-color: var(--fill-color);\n",
              "      border-top-color: var(--fill-color);\n",
              "    }\n",
              "    60% {\n",
              "      border-color: transparent;\n",
              "      border-right-color: var(--fill-color);\n",
              "    }\n",
              "    80% {\n",
              "      border-color: transparent;\n",
              "      border-right-color: var(--fill-color);\n",
              "      border-bottom-color: var(--fill-color);\n",
              "    }\n",
              "    90% {\n",
              "      border-color: transparent;\n",
              "      border-bottom-color: var(--fill-color);\n",
              "    }\n",
              "  }\n",
              "</style>\n",
              "\n",
              "  <script>\n",
              "    async function quickchart(key) {\n",
              "      const quickchartButtonEl =\n",
              "        document.querySelector('#' + key + ' button');\n",
              "      quickchartButtonEl.disabled = true;  // To prevent multiple clicks.\n",
              "      quickchartButtonEl.classList.add('colab-df-spinner');\n",
              "      try {\n",
              "        const charts = await google.colab.kernel.invokeFunction(\n",
              "            'suggestCharts', [key], {});\n",
              "      } catch (error) {\n",
              "        console.error('Error during call to suggestCharts:', error);\n",
              "      }\n",
              "      quickchartButtonEl.classList.remove('colab-df-spinner');\n",
              "      quickchartButtonEl.classList.add('colab-df-quickchart-complete');\n",
              "    }\n",
              "    (() => {\n",
              "      let quickchartButtonEl =\n",
              "        document.querySelector('#df-d972c97e-03e5-4edf-99cc-97b5cea22809 button');\n",
              "      quickchartButtonEl.style.display =\n",
              "        google.colab.kernel.accessAllowed ? 'block' : 'none';\n",
              "    })();\n",
              "  </script>\n",
              "</div>\n",
              "    </div>\n",
              "  </div>\n"
            ]
          },
          "metadata": {},
          "execution_count": 5
        }
      ]
    },
    {
      "cell_type": "markdown",
      "source": [
        "## Q4. What is ‘DataFrame’ in pandas and how is it different from pandas.series? Explain with an example."
      ],
      "metadata": {
        "id": "F473xevHJpx_"
      }
    },
    {
      "cell_type": "markdown",
      "source": [
        "Pandas DataFrame is a 2 Dimensional Data Structure which stores tabular data (row X column) whereas a series stores 1-Dimensional data.\n",
        "\n",
        "Each column in a Dataframe is a series."
      ],
      "metadata": {
        "id": "G-6u1oDoJj4r"
      }
    },
    {
      "cell_type": "markdown",
      "source": [
        "## Q5. What are some common functions you can use to manipulate data in a Pandas DataFrame? Can you give an example of when you might use one of these functions?"
      ],
      "metadata": {
        "id": "qp_LXBO_KCRa"
      }
    },
    {
      "cell_type": "markdown",
      "source": [
        "**Common Functions to manipulate the data in a pandas dataframe**\n",
        "\n",
        "1. Head(N): The head() function returns N number of records from the top of the data frame, Default N= 5, which means it will return 5 records by default.\n",
        "\n",
        "2. Tail(N): Same as the head() function but it will return records from the bottom of the data frame.\n",
        "\n",
        "3. dtypes: this attribute return the datatype of a each column in a dataframe.\n",
        "\n",
        "4. info(): returns a basic overview of each columns in dataframe like number of null values, datatype, shape of dataframe.\n",
        "\n",
        "5. describe(): return the statistical information of each numerical column present in the data frame.\n"
      ],
      "metadata": {
        "id": "cT_55hG_KY8I"
      }
    },
    {
      "cell_type": "markdown",
      "source": [
        "## Q6. Which of the following is mutable in nature Series, DataFrame, Panel?"
      ],
      "metadata": {
        "id": "ZKVx_sZxLiUy"
      }
    },
    {
      "cell_type": "markdown",
      "source": [
        "In pandas, Series and DataFrame are mutable, meaning you can modify their contents after creation.\n",
        "\n",
        "- **Series**: A one-dimensional labeled array. Elements can be changed, added, or removed.\n",
        "\n",
        "- **DataFrame**: A two-dimensional labeled data structure with columns that can be of different types. You can modify values, add or remove columns, and perform various operations on the DataFrame.\n",
        "\n",
        "- **Panel**: Is used to represent multi-dimensional data but multi-dimensional data is typically handled using MultiIndex DataFrames. However, if you are referring to Panel in an older version of pandas, it is also mutable."
      ],
      "metadata": {
        "id": "Vu6SLe9fLzsC"
      }
    },
    {
      "cell_type": "markdown",
      "source": [
        "## Q7. Create a DataFrame using multiple Series. Explain with an example."
      ],
      "metadata": {
        "id": "wCS_mIHWJ-IK"
      }
    },
    {
      "cell_type": "code",
      "source": [
        "import pandas as pd\n",
        "\n",
        "# Creating Series\n",
        "name_series = pd.Series(['Alice', 'Bob', 'Charlie'], name='Name')\n",
        "age_series = pd.Series([25, 30, 35], name='Age')\n",
        "city_series = pd.Series(['New York', 'San Francisco', 'Los Angeles'], name='City')\n",
        "\n",
        "# Creating DataFrame using the Series\n",
        "data = {'Name': name_series, 'Age': age_series, 'City': city_series}\n",
        "df = pd.DataFrame(data)\n",
        "\n",
        "# Displaying the DataFrame\n",
        "print(df)\n"
      ],
      "metadata": {
        "colab": {
          "base_uri": "https://localhost:8080/"
        },
        "id": "LPaIAC3YMUI7",
        "outputId": "4e56756d-bc39-49f7-c26b-bebdaadd189d"
      },
      "execution_count": 6,
      "outputs": [
        {
          "output_type": "stream",
          "name": "stdout",
          "text": [
            "      Name  Age           City\n",
            "0    Alice   25       New York\n",
            "1      Bob   30  San Francisco\n",
            "2  Charlie   35    Los Angeles\n"
          ]
        }
      ]
    },
    {
      "cell_type": "code",
      "source": [],
      "metadata": {
        "id": "d32aZ23JMbtR"
      },
      "execution_count": null,
      "outputs": []
    }
  ]
}