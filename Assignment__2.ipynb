{
  "nbformat": 4,
  "nbformat_minor": 0,
  "metadata": {
    "colab": {
      "provenance": [],
      "authorship_tag": "ABX9TyNqf+eApAgS2e1EC26Tq2vl",
      "include_colab_link": true
    },
    "kernelspec": {
      "name": "python3",
      "display_name": "Python 3"
    },
    "language_info": {
      "name": "python"
    }
  },
  "cells": [
    {
      "cell_type": "markdown",
      "metadata": {
        "id": "view-in-github",
        "colab_type": "text"
      },
      "source": [
        "<a href=\"https://colab.research.google.com/github/yogeshsinghgit/Pwskills_Assignment/blob/main/Assignment__2.ipynb\" target=\"_parent\"><img src=\"https://colab.research.google.com/assets/colab-badge.svg\" alt=\"Open In Colab\"/></a>"
      ]
    },
    {
      "cell_type": "markdown",
      "source": [
        "# PWSkills Data Science Masters\n",
        "\n",
        "Assignment 2 (Submitted By Yogesh Singh)"
      ],
      "metadata": {
        "id": "Ub2dHLhsaj9e"
      }
    },
    {
      "cell_type": "markdown",
      "source": [
        "## Q1. How do you comment code in Python? What are the different types of comments?"
      ],
      "metadata": {
        "id": "soNr_82DavNO"
      }
    },
    {
      "cell_type": "markdown",
      "source": [
        "A comment is a piece of code in a program which is not executed by the interpreter and can be used to  guide the programmer or user about  a function or piece of code.\n",
        "\n",
        "There are two types of commment\n",
        "\n",
        "1. single line (using # )\n",
        "2. multiline (using \"\"\" \"\"\" or '''   ''')\n",
        "\n",
        "\n"
      ],
      "metadata": {
        "id": "uA6Cq5BOa2XK"
      }
    },
    {
      "cell_type": "code",
      "execution_count": 3,
      "metadata": {
        "id": "IY-Axqr_ag9c"
      },
      "outputs": [],
      "source": [
        "def add(x, y): # single line comment\n",
        "    '''The above function will return x+y\n",
        "    (This is a multiline comment.)'''\n",
        "    return x+y\n",
        "\n"
      ]
    },
    {
      "cell_type": "markdown",
      "source": [
        "## Q2. What are variables in Python? How do you declare and assign values to variables?"
      ],
      "metadata": {
        "id": "-uVfKWS9cA7X"
      }
    },
    {
      "cell_type": "markdown",
      "source": [
        "A variable is a container which holds/stores different different data items so we can access them later.\n",
        "\n",
        "it improves flexibility in programming."
      ],
      "metadata": {
        "id": "KROWkEjLcCwm"
      }
    },
    {
      "cell_type": "code",
      "source": [
        "# variable var1 stores \"Hello World\"\n",
        "var1 = \"Hello World\"\n",
        "\n",
        "print(var1)"
      ],
      "metadata": {
        "colab": {
          "base_uri": "https://localhost:8080/"
        },
        "id": "QPyW3jW3ajvA",
        "outputId": "54555f0d-d474-4484-8df0-f4c83760fa6e"
      },
      "execution_count": 4,
      "outputs": [
        {
          "output_type": "stream",
          "name": "stdout",
          "text": [
            "Hello World\n"
          ]
        }
      ]
    },
    {
      "cell_type": "markdown",
      "source": [
        "## Q3. How do you convert one data type to another in Python?"
      ],
      "metadata": {
        "id": "u1Nj8W9JcqU1"
      }
    },
    {
      "cell_type": "markdown",
      "source": [
        "data types means the type of data which our variable is storing, it can be Interger type of data, floating or a string data type.\n",
        "\n",
        "to convert a datatype to another we can using in-built different functions and they are.\n",
        "\n",
        "1. int() : converts the type of data to integer.\n",
        "2. float() : converts the type of data to floating type.\n",
        "3. str() : converts the type of data to string."
      ],
      "metadata": {
        "id": "uv6T6Ww-cx8E"
      }
    },
    {
      "cell_type": "code",
      "source": [
        "var_float = 123.5 # floating datatype\n",
        "\n",
        "var_string = str(var_float) # converts floating datatype of string.\n",
        "print(type(var_string), var_string)\n",
        "\n",
        "var_int = int(var_float) # converting string datatype to integer.\n",
        "print(type(var_int),var_int)\n",
        "\n",
        "var_float = float(var_string) # converting string datatype back to float\n",
        "print(type(var_float), var_float)\n",
        "\n"
      ],
      "metadata": {
        "colab": {
          "base_uri": "https://localhost:8080/"
        },
        "id": "9g8BGIyTarFl",
        "outputId": "5da4173c-a7dd-402b-f54d-fec6ffab9405"
      },
      "execution_count": 9,
      "outputs": [
        {
          "output_type": "stream",
          "name": "stdout",
          "text": [
            "<class 'str'> 123.5\n",
            "<class 'int'> 123\n",
            "<class 'float'> 123.5\n"
          ]
        }
      ]
    },
    {
      "cell_type": "markdown",
      "source": [
        "## Q4. How do you write and execute a Python script from the command line?"
      ],
      "metadata": {
        "id": "A8-qbJ8qeIju"
      }
    },
    {
      "cell_type": "markdown",
      "source": [
        "To execute a python script from command line we can use the following command.\n",
        "\n",
        "file_path> python filename.py\n",
        "\n",
        "file_path = path where your python script is stored.\n",
        "\n",
        "write the above command of command line and hit enter, your python script will be executed."
      ],
      "metadata": {
        "id": "Gk5bzUVXeKmq"
      }
    },
    {
      "cell_type": "markdown",
      "source": [
        "## Q5. Given a list my_list = [1, 2, 3, 4, 5], write the code to slice the list and obtain the sub-list [2, 3]."
      ],
      "metadata": {
        "id": "SqqbawE2elx0"
      }
    },
    {
      "cell_type": "code",
      "source": [
        "my_list = [1, 2, 3, 4, 5]\n",
        "print(my_list)\n",
        "\n",
        "sub_list = my_list[1:3] # ListName[lowerbound : upperbound]\n",
        "# Note: it will exclude the upperbound value and include the lowe bound value.\n",
        "\n",
        "print(sub_list)"
      ],
      "metadata": {
        "colab": {
          "base_uri": "https://localhost:8080/"
        },
        "id": "VetNNdkJdyUd",
        "outputId": "fa988bc7-42e0-4355-e27f-6cad09b3cc00"
      },
      "execution_count": 10,
      "outputs": [
        {
          "output_type": "stream",
          "name": "stdout",
          "text": [
            "[1, 2, 3, 4, 5]\n",
            "[2, 3]\n"
          ]
        }
      ]
    },
    {
      "cell_type": "markdown",
      "source": [
        "## Q6. What is a complex number in mathematics, and how is it represented in Python?"
      ],
      "metadata": {
        "id": "XtfTl6xnfF5c"
      }
    },
    {
      "cell_type": "markdown",
      "source": [
        "A complex number is a number that can be written in the form\n",
        "a+bi,\n",
        "where a and b are real numbers and i is the imaginary unit defined by i^2 = -1.\n"
      ],
      "metadata": {
        "id": "6ZEFNWuqfHe5"
      }
    },
    {
      "cell_type": "code",
      "source": [
        "# representaion of complex number in python.\n",
        "\n",
        "var_complex = 4 + 5j\n",
        "# in python we use j insted of i to represent imaginary using in complex number.\n",
        "\n",
        "print(type(var_complex), var_complex)"
      ],
      "metadata": {
        "colab": {
          "base_uri": "https://localhost:8080/"
        },
        "id": "jbDwXE4GfCul",
        "outputId": "da1bf8a7-4ff4-4471-b8da-0437dc57ccae"
      },
      "execution_count": 12,
      "outputs": [
        {
          "output_type": "stream",
          "name": "stdout",
          "text": [
            "<class 'complex'> (4+5j)\n"
          ]
        }
      ]
    },
    {
      "cell_type": "markdown",
      "source": [
        "## Q7. What is the correct way to declare a variable named age and assign the value 25 to it?"
      ],
      "metadata": {
        "id": "Sl5rw7OSf_C2"
      }
    },
    {
      "cell_type": "markdown",
      "source": [
        "A variable can have a short name (like x and y) or a more descriptive name (age, carname, total_volume).\n",
        "\n",
        "**Rules for Python variables:**\n",
        "\n",
        "1. A variable name must start with a letter or the underscore character.\n",
        "2. A variable name cannot start with a number\n",
        "3. A variable name can only contain alpha-numeric characters and underscores (A-z, 0-9, and _ )\n",
        "4. Variable names are case-sensitive (age, Age and AGE are three different variables)\n",
        "5. A variable name cannot be any of the Python keywords."
      ],
      "metadata": {
        "id": "IYh1u6Y-gTxe"
      }
    },
    {
      "cell_type": "code",
      "source": [
        "age = 25\n",
        "\n",
        "print(age)"
      ],
      "metadata": {
        "colab": {
          "base_uri": "https://localhost:8080/"
        },
        "id": "NWH1L9aFfzDQ",
        "outputId": "a91f3d90-fcc3-40f2-8c2f-af5328d3190d"
      },
      "execution_count": 13,
      "outputs": [
        {
          "output_type": "stream",
          "name": "stdout",
          "text": [
            "25\n"
          ]
        }
      ]
    },
    {
      "cell_type": "markdown",
      "source": [
        "## Q8. Declare a variable named price and assign the value 9.99 to it. What data type does this variable belong to?"
      ],
      "metadata": {
        "id": "6HaOKYCBglbM"
      }
    },
    {
      "cell_type": "code",
      "source": [
        "price = 9.99\n",
        "\n",
        "# the type of variable will be floating type as the data has a decimal in it.\n",
        "print(type(price))\n",
        "\n",
        "print(\"price =  \", price)"
      ],
      "metadata": {
        "colab": {
          "base_uri": "https://localhost:8080/"
        },
        "id": "E8caDcbHghl7",
        "outputId": "05319d8c-ab19-4724-9dd7-e6e444a6af95"
      },
      "execution_count": 14,
      "outputs": [
        {
          "output_type": "stream",
          "name": "stdout",
          "text": [
            "<class 'float'>\n",
            "price =   9.99\n"
          ]
        }
      ]
    },
    {
      "cell_type": "markdown",
      "source": [
        "## Q9. Create a variable named name and assign your full name to it as a string. How would you print the value of this variable?"
      ],
      "metadata": {
        "id": "xDhSNUSIg7o9"
      }
    },
    {
      "cell_type": "code",
      "source": [
        "name = \"Yogesh Singh\"\n",
        "\n",
        "print(\"My name is\", name)"
      ],
      "metadata": {
        "colab": {
          "base_uri": "https://localhost:8080/"
        },
        "id": "PQ8Ebntyg900",
        "outputId": "3f2f4489-8313-4ad4-b01e-1ce05fb5a28e"
      },
      "execution_count": 16,
      "outputs": [
        {
          "output_type": "stream",
          "name": "stdout",
          "text": [
            "My name is Yogesh Singh\n"
          ]
        }
      ]
    },
    {
      "cell_type": "markdown",
      "source": [
        "## Q10. Given the string \"Hello, World!\", extract the substring \"World\"."
      ],
      "metadata": {
        "id": "3cygfWqdhIpG"
      }
    },
    {
      "cell_type": "code",
      "source": [
        "my_string = \"Hello World!\"\n",
        "\n",
        "sub_str = my_string[6:11]\n",
        "\n",
        "print(sub_str)"
      ],
      "metadata": {
        "colab": {
          "base_uri": "https://localhost:8080/"
        },
        "id": "HVl8N2Yvg3cn",
        "outputId": "c14bfdb0-2f64-43f2-a440-e39f39d4534e"
      },
      "execution_count": 17,
      "outputs": [
        {
          "output_type": "stream",
          "name": "stdout",
          "text": [
            "World\n"
          ]
        }
      ]
    },
    {
      "cell_type": "markdown",
      "source": [
        "## Q11. Create a variable named \"is_student\" and assign it a boolean value indicating whether you are currently a student or not."
      ],
      "metadata": {
        "id": "mueW-meahaBU"
      }
    },
    {
      "cell_type": "code",
      "source": [
        "is_student = True\n",
        "\n",
        "print(is_student)"
      ],
      "metadata": {
        "colab": {
          "base_uri": "https://localhost:8080/"
        },
        "id": "_YRGn1afhWav",
        "outputId": "02ecefad-98c7-45c3-d5a3-5a463b8aebaa"
      },
      "execution_count": 18,
      "outputs": [
        {
          "output_type": "stream",
          "name": "stdout",
          "text": [
            "True\n"
          ]
        }
      ]
    },
    {
      "cell_type": "code",
      "source": [],
      "metadata": {
        "id": "rO6Jc3AEhhUb"
      },
      "execution_count": null,
      "outputs": []
    }
  ]
}