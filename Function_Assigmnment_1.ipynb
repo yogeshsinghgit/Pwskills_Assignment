{
  "nbformat": 4,
  "nbformat_minor": 0,
  "metadata": {
    "colab": {
      "provenance": [],
      "authorship_tag": "ABX9TyNb+7L+oKsd+/kB1/Us4uMd",
      "include_colab_link": true
    },
    "kernelspec": {
      "name": "python3",
      "display_name": "Python 3"
    },
    "language_info": {
      "name": "python"
    }
  },
  "cells": [
    {
      "cell_type": "markdown",
      "metadata": {
        "id": "view-in-github",
        "colab_type": "text"
      },
      "source": [
        "<a href=\"https://colab.research.google.com/github/yogeshsinghgit/Pwskills_Assignment/blob/main/Function_Assigmnment_1.ipynb\" target=\"_parent\"><img src=\"https://colab.research.google.com/assets/colab-badge.svg\" alt=\"Open In Colab\"/></a>"
      ]
    },
    {
      "cell_type": "markdown",
      "source": [
        "# Python Function Assignment 1\n",
        "\n",
        "## Pwskills data science masters"
      ],
      "metadata": {
        "id": "nRV99EnFn7T7"
      }
    },
    {
      "cell_type": "markdown",
      "source": [
        "## Q1. Which keyword is used to create a function? Create a function to return a list of odd numbers in the range of 1 to 25."
      ],
      "metadata": {
        "id": "Ecz997sRoDll"
      }
    },
    {
      "cell_type": "markdown",
      "source": [
        "The def keyword is used to create a function in python."
      ],
      "metadata": {
        "id": "MESxq_LOoFsJ"
      }
    },
    {
      "cell_type": "code",
      "execution_count": 1,
      "metadata": {
        "colab": {
          "base_uri": "https://localhost:8080/"
        },
        "id": "tJ4YQD6Kn1Y4",
        "outputId": "d8ca3964-cf84-4798-a664-9abdaf7252e8"
      },
      "outputs": [
        {
          "output_type": "stream",
          "name": "stdout",
          "text": [
            "[1, 3, 5, 7, 9, 11, 13, 15, 17, 19, 21, 23]\n"
          ]
        }
      ],
      "source": [
        "def function():\n",
        "  return list(range(1, 25, 2)) # function definition\n",
        "\n",
        "\n",
        "result = function() # function calling\n",
        "print(result)"
      ]
    },
    {
      "cell_type": "markdown",
      "source": [
        "## Q2. Why *args and **kwargs is used in some functions? Create a function each for *args and **kwargs to demonstrate their use."
      ],
      "metadata": {
        "id": "ADyA98uYooGq"
      }
    },
    {
      "cell_type": "markdown",
      "source": [
        "*args and **kwargs are placement holder in cases when we have a lot of variables options.\n",
        "\n",
        "args stands for arguments and kwargs stands for keyworded argument."
      ],
      "metadata": {
        "id": "UmQU590upKDd"
      }
    },
    {
      "cell_type": "code",
      "source": [
        "# example of args:\n",
        "\n",
        "def function(*args):\n",
        "  var1 = args[0]\n",
        "  var2 = args[1]\n",
        "  print(args)\n",
        "  print(var1 + var2)\n",
        "\n",
        "function(3, 6)"
      ],
      "metadata": {
        "colab": {
          "base_uri": "https://localhost:8080/"
        },
        "id": "cRXR-N-Xofcs",
        "outputId": "849b94f1-2414-4da4-a93f-2fc8ce9f5455"
      },
      "execution_count": 3,
      "outputs": [
        {
          "output_type": "stream",
          "name": "stdout",
          "text": [
            "(3, 6)\n",
            "9\n"
          ]
        }
      ]
    },
    {
      "cell_type": "code",
      "source": [
        "# example of **kwargs:\n",
        "\n",
        "def function(**kwargs):\n",
        "  print(kwargs)\n",
        "\n",
        "function(var1 = 3, var2 = 6)"
      ],
      "metadata": {
        "colab": {
          "base_uri": "https://localhost:8080/"
        },
        "id": "fy7PDpCMpovx",
        "outputId": "781c7ede-62c5-44bf-c8cc-6ba42631bea4"
      },
      "execution_count": 5,
      "outputs": [
        {
          "output_type": "stream",
          "name": "stdout",
          "text": [
            "{'var1': 3, 'var2': 6}\n"
          ]
        }
      ]
    },
    {
      "cell_type": "markdown",
      "source": [
        "## Q3. What is an iterator in python? Name the method used to initialise the iterator object and the method used for iteration. Use these methods to print the first five elements of the given list [2, 4, 6, 8, 10, 12, 14, 16, 18, 20]."
      ],
      "metadata": {
        "id": "8C1tglh4qYxi"
      }
    },
    {
      "cell_type": "markdown",
      "source": [
        "An iterator in python is an object that can be iterated upon, meaning that you can traverse through all the values.\n",
        "\n",
        "iterator consist of the methods __iter__() and __next__().\n",
        "where __iter__() or just iter() is used to create a iterable objects in a iterator and the __next__() method is used to access the iterator object one by one or we can also use a for loop to access itertor object."
      ],
      "metadata": {
        "id": "Ad6RFP5AqcUj"
      }
    },
    {
      "cell_type": "code",
      "source": [
        "my_list =  [2, 4, 6, 8, 10, 12, 14, 16, 18, 20]\n",
        "\n",
        "my_list_iter = iter(my_list)\n",
        "\n",
        "count = 1\n",
        "while count <= 5:\n",
        "  print(my_list_iter.__next__())\n",
        "  count+=1\n"
      ],
      "metadata": {
        "colab": {
          "base_uri": "https://localhost:8080/"
        },
        "id": "FyR0w9Uap-9n",
        "outputId": "995561c0-9ff9-4489-9d83-8df99a5b74a7"
      },
      "execution_count": 6,
      "outputs": [
        {
          "output_type": "stream",
          "name": "stdout",
          "text": [
            "2\n",
            "4\n",
            "6\n",
            "8\n",
            "10\n"
          ]
        }
      ]
    },
    {
      "cell_type": "markdown",
      "source": [
        "## Q4. What is a generator function in python? Why yield keyword is used? Give an example of a generator function."
      ],
      "metadata": {
        "id": "YTas7T2-rucy"
      }
    },
    {
      "cell_type": "markdown",
      "source": [
        " A generator is a function that returns an iterator that produces a sequence of values when iterated over.\n",
        "\n",
        "Generators are useful when we want to produce a large sequence of values, but we don't want to store all of them in memory at once.\n",
        "\n",
        "The **yield keyword** is used to produce a value from the generator.\n",
        "\n",
        "When the generator function is called, it does not execute the function body immediately. Instead, it returns a generator object that can be iterated over to produce the values."
      ],
      "metadata": {
        "id": "OggJNrtYrxoV"
      }
    },
    {
      "cell_type": "code",
      "source": [
        "def fibo_gen(n):\n",
        "  a, b = 0, 1\n",
        "  for i in range(n):\n",
        "    yield a\n",
        "    a, b = b, a+b\n",
        "\n",
        "for i in fibo_gen(6):\n",
        "  print(i, end = \" \")"
      ],
      "metadata": {
        "colab": {
          "base_uri": "https://localhost:8080/"
        },
        "id": "spgSz4Ljrq3b",
        "outputId": "ac467e52-1381-4a95-cc35-be7205e5971f"
      },
      "execution_count": 8,
      "outputs": [
        {
          "output_type": "stream",
          "name": "stdout",
          "text": [
            "0 1 1 2 3 5 "
          ]
        }
      ]
    },
    {
      "cell_type": "markdown",
      "source": [
        "## Q5. Create a generator function for prime numbers less than 1000. Use the next() method to print the first 20 prime numbers."
      ],
      "metadata": {
        "id": "8wQk5FmdsRmg"
      }
    },
    {
      "cell_type": "code",
      "source": [
        "def prime_gen():\n",
        "  for num in range(1000):\n",
        "    for i in range(2, num):\n",
        "      if num % i == 0:\n",
        "        break\n",
        "    else:\n",
        "      yield num\n",
        "\n",
        "gen = prime_gen()\n",
        "\n",
        "for i in range(20):\n",
        "  print(next(gen), end = ' ')\n",
        ""
      ],
      "metadata": {
        "colab": {
          "base_uri": "https://localhost:8080/"
        },
        "id": "AWGDaI-xsMOs",
        "outputId": "8e78252f-21b3-4b89-c002-e33e576e8398"
      },
      "execution_count": 32,
      "outputs": [
        {
          "output_type": "stream",
          "name": "stdout",
          "text": [
            "0 1 2 3 5 7 11 13 17 19 23 29 31 37 41 43 47 53 59 61 "
          ]
        }
      ]
    },
    {
      "cell_type": "markdown",
      "source": [
        "## Q6. Write a python program to print the first 10 Fibonacci numbers using a while loop."
      ],
      "metadata": {
        "id": "kZxmS0ASwppj"
      }
    },
    {
      "cell_type": "code",
      "source": [
        "\n",
        "count = 1\n",
        "a, b = 0, 1\n",
        "while count <=10:\n",
        "  print(a, end = \" \")\n",
        "  a, b = b, a+b\n",
        "  count +=1\n",
        "\n"
      ],
      "metadata": {
        "colab": {
          "base_uri": "https://localhost:8080/"
        },
        "id": "ilFGotoJtcmd",
        "outputId": "41cf96a6-e861-47d1-e18c-f3f47f8bb8ce"
      },
      "execution_count": 34,
      "outputs": [
        {
          "output_type": "stream",
          "name": "stdout",
          "text": [
            "0 1 1 2 3 5 8 13 21 34 "
          ]
        }
      ]
    },
    {
      "cell_type": "markdown",
      "source": [
        "## Q7. Write a List Comprehension to iterate through the given string: ‘pwskills’. Expected output: ['p', 'w', 's', 'k', 'i', 'l', 'l', 's']"
      ],
      "metadata": {
        "id": "P82_twF8xE25"
      }
    },
    {
      "cell_type": "code",
      "source": [
        "my_list = [ i for i in \"pwskills\"]\n",
        "print(my_list)"
      ],
      "metadata": {
        "colab": {
          "base_uri": "https://localhost:8080/"
        },
        "id": "BLdeFJzZw9LP",
        "outputId": "67ea5865-751d-4dfa-8682-9acc0649f31e"
      },
      "execution_count": 36,
      "outputs": [
        {
          "output_type": "stream",
          "name": "stdout",
          "text": [
            "['p', 'w', 's', 'k', 'i', 'l', 'l', 's']\n"
          ]
        }
      ]
    },
    {
      "cell_type": "markdown",
      "source": [
        "## Q8. Write a python program to check whether a given number is Palindrome or not using a while loop."
      ],
      "metadata": {
        "id": "0jOMpdZ7xVdA"
      }
    },
    {
      "cell_type": "code",
      "source": [
        "x = 1221\n",
        "reversedNum = 0\n",
        "Num = x\n",
        "while x > 0:\n",
        "    reversedNum = reversedNum * 10 + x % 10\n",
        "    x = x // 10\n",
        "\n",
        "if reversedNum == Num:\n",
        "  print(\"{} is a palindrome number \".format(Num))\n",
        "else:\n",
        "  print(\"{} is not a palindrome number \".format(Num))"
      ],
      "metadata": {
        "colab": {
          "base_uri": "https://localhost:8080/"
        },
        "id": "sSV_WgaexRH1",
        "outputId": "3616cd4a-cac9-4b60-824f-a9ec7b9bfbd9"
      },
      "execution_count": 39,
      "outputs": [
        {
          "output_type": "stream",
          "name": "stdout",
          "text": [
            "1221 is a palindrome number \n"
          ]
        }
      ]
    },
    {
      "cell_type": "markdown",
      "source": [
        "## Q9. Write a code to print odd numbers from 1 to 100 using list comprehension.\n",
        "\n",
        "Note: Use a list comprehension to create a list from 1 to 100 and use another List comprehension to filter\n",
        "out odd numbers."
      ],
      "metadata": {
        "id": "hBnGk27Mx_U0"
      }
    },
    {
      "cell_type": "code",
      "source": [
        "num_list = [i for i in range(1, 100)]\n",
        "odd_num_list = [x for x in num_list if x%2!=0]\n",
        "\n",
        "print(odd_num_list)"
      ],
      "metadata": {
        "colab": {
          "base_uri": "https://localhost:8080/"
        },
        "id": "YZmvnxGwx3nu",
        "outputId": "9e5d85f3-9bd7-405a-89d0-5c5bf4349e19"
      },
      "execution_count": 40,
      "outputs": [
        {
          "output_type": "stream",
          "name": "stdout",
          "text": [
            "[1, 3, 5, 7, 9, 11, 13, 15, 17, 19, 21, 23, 25, 27, 29, 31, 33, 35, 37, 39, 41, 43, 45, 47, 49, 51, 53, 55, 57, 59, 61, 63, 65, 67, 69, 71, 73, 75, 77, 79, 81, 83, 85, 87, 89, 91, 93, 95, 97, 99]\n"
          ]
        }
      ]
    },
    {
      "cell_type": "code",
      "source": [],
      "metadata": {
        "id": "jtJ4ZEK6yV0h"
      },
      "execution_count": null,
      "outputs": []
    }
  ]
}