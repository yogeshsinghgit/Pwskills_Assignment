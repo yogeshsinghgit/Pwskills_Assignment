{
  "nbformat": 4,
  "nbformat_minor": 0,
  "metadata": {
    "colab": {
      "provenance": [],
      "authorship_tag": "ABX9TyP8O2jayl18dOc9aKxG8l2w",
      "include_colab_link": true
    },
    "kernelspec": {
      "name": "python3",
      "display_name": "Python 3"
    },
    "language_info": {
      "name": "python"
    }
  },
  "cells": [
    {
      "cell_type": "markdown",
      "metadata": {
        "id": "view-in-github",
        "colab_type": "text"
      },
      "source": [
        "<a href=\"https://colab.research.google.com/github/yogeshsinghgit/Pwskills_Assignment/blob/main/Exception_handling_1.ipynb\" target=\"_parent\"><img src=\"https://colab.research.google.com/assets/colab-badge.svg\" alt=\"Open In Colab\"/></a>"
      ]
    },
    {
      "cell_type": "markdown",
      "source": [
        "# Exception handling Assignment-1"
      ],
      "metadata": {
        "id": "H-fOqmrfncNy"
      }
    },
    {
      "cell_type": "markdown",
      "source": [
        "## Q1. What is an Exception in python? Write the difference between Exceptions and syntax errors?"
      ],
      "metadata": {
        "id": "_lslUuYMniA3"
      }
    },
    {
      "cell_type": "markdown",
      "source": [
        "Exceptions in Python are events that stop the execution/ normal flow of a program.\n",
        "\n",
        "Exceptions are raised when an error or an exceptional condition occurs in your code.\n",
        "\n",
        "**Difference between Exceptions and syntax errors**\n",
        "\n",
        "Exceptions and syntax errors are both types of errors in Python, but they occur at different stages of the program's execution and serve different purposes:\n",
        "\n",
        "**Syntax Errors:**\n",
        "\n",
        "* syntax errors include missing colons, mismatched parentheses, incorrect indentation, using reserved words as variable names, and more.\n",
        "\n",
        "* They occur when the Python interpreter encounters code that violates the language's syntax rules.\n",
        "\n",
        "* Syntax errors are usually easy to identify and fix, as Python provides specific error messages that point to the location of the problem in the code.\n",
        "\n",
        "\n",
        "**Exception:**\n",
        "\n",
        "* Exceptions, on the other hand, are errors that occur during the execution of a program. These errors may not prevent the program from starting, but they can disrupt the program's normal flow if not handled properly.\n",
        "\n",
        "* Exceptions can occur due to a wide range of issues, such as division by zero, attempting to access a non-existent file, trying to use a variable that is not defined, or other runtime errors.\n"
      ],
      "metadata": {
        "id": "puMdTsNZntkY"
      }
    },
    {
      "cell_type": "markdown",
      "source": [
        "## Q2. What happens when an exception is not handled? Explain with an example"
      ],
      "metadata": {
        "id": "7-rA-mIAp930"
      }
    },
    {
      "cell_type": "markdown",
      "source": [
        "When an exception is not handled property then the program flow is stoped at point where the exception occur and then the program execution stops.\n"
      ],
      "metadata": {
        "id": "5vmcfMg6qHa-"
      }
    },
    {
      "cell_type": "code",
      "execution_count": 1,
      "metadata": {
        "colab": {
          "base_uri": "https://localhost:8080/"
        },
        "id": "RxO_MrfQnap_",
        "outputId": "3329fc02-f93a-4556-ec80-12da56ca0301"
      },
      "outputs": [
        {
          "output_type": "stream",
          "name": "stdout",
          "text": [
            "Enter a Number: 5\n",
            "10.0\n"
          ]
        }
      ],
      "source": [
        "n = int(input(\"Enter a Number: \"))\n",
        "print(50/n)"
      ]
    },
    {
      "cell_type": "code",
      "source": [
        "n = int(input(\"Enter a Number: \"))\n",
        "print(50/n)"
      ],
      "metadata": {
        "colab": {
          "base_uri": "https://localhost:8080/",
          "height": 210
        },
        "id": "F8HSAnJYqfvW",
        "outputId": "49ce2108-5d74-45c7-92ee-d48ab2059e9e"
      },
      "execution_count": 2,
      "outputs": [
        {
          "name": "stdout",
          "output_type": "stream",
          "text": [
            "Enter a Number: 0\n"
          ]
        },
        {
          "output_type": "error",
          "ename": "ZeroDivisionError",
          "evalue": "ignored",
          "traceback": [
            "\u001b[0;31m---------------------------------------------------------------------------\u001b[0m",
            "\u001b[0;31mZeroDivisionError\u001b[0m                         Traceback (most recent call last)",
            "\u001b[0;32m<ipython-input-2-7695b40d06fd>\u001b[0m in \u001b[0;36m<cell line: 2>\u001b[0;34m()\u001b[0m\n\u001b[1;32m      1\u001b[0m \u001b[0mn\u001b[0m \u001b[0;34m=\u001b[0m \u001b[0mint\u001b[0m\u001b[0;34m(\u001b[0m\u001b[0minput\u001b[0m\u001b[0;34m(\u001b[0m\u001b[0;34m\"Enter a Number: \"\u001b[0m\u001b[0;34m)\u001b[0m\u001b[0;34m)\u001b[0m\u001b[0;34m\u001b[0m\u001b[0;34m\u001b[0m\u001b[0m\n\u001b[0;32m----> 2\u001b[0;31m \u001b[0mprint\u001b[0m\u001b[0;34m(\u001b[0m\u001b[0;36m50\u001b[0m\u001b[0;34m/\u001b[0m\u001b[0mn\u001b[0m\u001b[0;34m)\u001b[0m\u001b[0;34m\u001b[0m\u001b[0;34m\u001b[0m\u001b[0m\n\u001b[0m",
            "\u001b[0;31mZeroDivisionError\u001b[0m: division by zero"
          ]
        }
      ]
    },
    {
      "cell_type": "markdown",
      "source": [
        "In the above example code when we divide 50 with 5 it return 10 but when we divide it with 0 then it will raise an exception and terminates the execution of program."
      ],
      "metadata": {
        "id": "qZ95r16iqiQj"
      }
    },
    {
      "cell_type": "markdown",
      "source": [
        "## Q3. Which Python statements are used to catch and handle exceptions? Explain with an example"
      ],
      "metadata": {
        "id": "heUL2QZ7q6zF"
      }
    },
    {
      "cell_type": "markdown",
      "source": [
        "For handling exceptions in python, python provide try-except statement.\n",
        "\n",
        "The try-except statement consists of two blocks of code, In the try block we place the code, which may cause exception and in the except block we place the code which only execute when code in try block raise any exception to maintain the flow of program."
      ],
      "metadata": {
        "id": "qGpdPLZprIjr"
      }
    },
    {
      "cell_type": "code",
      "source": [
        "n = int(input(\"Enter a Number: \"))\n",
        "try:\n",
        "  print(50/n) # code which may cause an exception\n",
        "except:\n",
        "  print(\"Select the number again\")"
      ],
      "metadata": {
        "colab": {
          "base_uri": "https://localhost:8080/"
        },
        "id": "JIpi5x2Eq3yW",
        "outputId": "5b4dc1f7-7a4d-4a07-db1b-cd9ae3286375"
      },
      "execution_count": 3,
      "outputs": [
        {
          "output_type": "stream",
          "name": "stdout",
          "text": [
            "Enter a Number: 5\n",
            "10.0\n"
          ]
        }
      ]
    },
    {
      "cell_type": "code",
      "source": [
        "n = int(input(\"Enter a Number: \"))\n",
        "try:\n",
        "  print(50/n) # code which may cause an exception\n",
        "except:\n",
        "  print(\"Select the number again\")"
      ],
      "metadata": {
        "colab": {
          "base_uri": "https://localhost:8080/"
        },
        "id": "SOuJA9edsAlM",
        "outputId": "625838fb-7bed-4482-ae85-1202b5ce2bf4"
      },
      "execution_count": 4,
      "outputs": [
        {
          "output_type": "stream",
          "name": "stdout",
          "text": [
            "Enter a Number: 0\n",
            "Select the number again\n"
          ]
        }
      ]
    },
    {
      "cell_type": "markdown",
      "source": [
        "## Q4. Explain with an example:\n",
        "\n",
        "*   try-else\n",
        "*   finally\n",
        "*   raise\n",
        "\n"
      ],
      "metadata": {
        "id": "tDWCqXKVsGTB"
      }
    },
    {
      "cell_type": "markdown",
      "source": [
        "**try-else**:\n",
        "\n",
        "In the try-except-else format, we add an extra else block, after the except block and the else block will only be executed when the try block is executed successfully.\n"
      ],
      "metadata": {
        "id": "gQnHwAi0sSsI"
      }
    },
    {
      "cell_type": "code",
      "source": [
        "n = 5\n",
        "try:\n",
        "  print(50/n) # code which may cause an exception\n",
        "except:\n",
        "  print(\"Select the number again\")\n",
        "else:\n",
        "  print(\"try block is executed successfully\")"
      ],
      "metadata": {
        "colab": {
          "base_uri": "https://localhost:8080/"
        },
        "id": "-OHibklRsCyR",
        "outputId": "a6e381ff-c2db-4422-9b5f-8e5d9e37ccb3"
      },
      "execution_count": 6,
      "outputs": [
        {
          "output_type": "stream",
          "name": "stdout",
          "text": [
            "10.0\n",
            "try block is executed successfully\n"
          ]
        }
      ]
    },
    {
      "cell_type": "markdown",
      "source": [
        "**finally:**\n",
        "\n",
        "The finally block is also added after except block and it will always execute no matter the try block is executed or raise any exception.\n",
        "\n",
        "The finally block is used to close any file if opened."
      ],
      "metadata": {
        "id": "L9Huxx9itFwc"
      }
    },
    {
      "cell_type": "code",
      "source": [
        "n = 5\n",
        "try:\n",
        "  print(50/n) # code which may cause an exception\n",
        "except:\n",
        "  print(\"Select the number again\")\n",
        "finally:\n",
        "  print(\"executed successfully\")"
      ],
      "metadata": {
        "colab": {
          "base_uri": "https://localhost:8080/"
        },
        "id": "nEs_0WzJsl1y",
        "outputId": "fb444745-dfca-4059-fd55-f27e3908d1c6"
      },
      "execution_count": 7,
      "outputs": [
        {
          "output_type": "stream",
          "name": "stdout",
          "text": [
            "10.0\n",
            "executed successfully\n"
          ]
        }
      ]
    },
    {
      "cell_type": "code",
      "source": [
        "n = 0\n",
        "try:\n",
        "  print(50/n) # code which may cause an exception\n",
        "except:\n",
        "  print(\"Select the number again\")\n",
        "finally:\n",
        "  print(\"executed successfully\")"
      ],
      "metadata": {
        "colab": {
          "base_uri": "https://localhost:8080/"
        },
        "id": "_q8QkFVTtjG6",
        "outputId": "4b1d44be-415d-40c8-f711-9dd4ee9e2648"
      },
      "execution_count": 8,
      "outputs": [
        {
          "output_type": "stream",
          "name": "stdout",
          "text": [
            "Select the number again\n",
            "executed successfully\n"
          ]
        }
      ]
    },
    {
      "cell_type": "markdown",
      "source": [
        "**raise:**\n",
        "\n",
        "The raise keyword in Python is used to raise exceptions explicitly in your code. When you raise an exception, you indicate that a specific error or exceptional condition has occurred, which can be caught and handled by an appropriate except block. The raise statement allows you to control the flow of your program and handle errors in a structured way.\n",
        "\n",
        "\n",
        "```python\n",
        "raise ExceptionType(\"Optional error message\")\n",
        "```\n",
        "\n",
        "\n"
      ],
      "metadata": {
        "id": "wJIgICfxtnZ8"
      }
    },
    {
      "cell_type": "code",
      "source": [
        "def divide(x, y):\n",
        "    if y == 0:\n",
        "        raise ZeroDivisionError(\"Division by zero is not allowed\")\n",
        "    return x / y\n",
        "\n",
        "try:\n",
        "    result = divide(10, 0)\n",
        "except ZeroDivisionError as e:\n",
        "    print(f\"Caught an exception: {e}\")\n"
      ],
      "metadata": {
        "colab": {
          "base_uri": "https://localhost:8080/"
        },
        "id": "SRMMzEhBtksn",
        "outputId": "4df8c82a-9cb2-4cd4-93fc-09203893c0ac"
      },
      "execution_count": 10,
      "outputs": [
        {
          "output_type": "stream",
          "name": "stdout",
          "text": [
            "Caught an exception: Division by zero is not allowed\n"
          ]
        }
      ]
    },
    {
      "cell_type": "markdown",
      "source": [
        "In this example, the raise statement is used to explicitly raise a ZeroDivisionError when the divisor y is 0. This exception is then caught in the try block and handled in the except block, which prints the error message.\n",
        "\n",
        "Custom exceptions can also be defined to raise application-specific errors with meaningful information. For example:"
      ],
      "metadata": {
        "id": "dB9hJhbMupSj"
      }
    },
    {
      "cell_type": "code",
      "source": [
        "class MyCustomError(Exception):\n",
        "    pass\n",
        "\n",
        "def my_function(value):\n",
        "    if value < 0:\n",
        "        raise MyCustomError(\"Value must be non-negative\")\n",
        "\n",
        "try:\n",
        "    my_function(-5)\n",
        "except MyCustomError as e:\n",
        "    print(f\"Caught a custom exception: {e}\")\n"
      ],
      "metadata": {
        "colab": {
          "base_uri": "https://localhost:8080/"
        },
        "id": "zcBL1zQjuJwT",
        "outputId": "1128dc89-703b-4330-cdb3-06802607f757"
      },
      "execution_count": 11,
      "outputs": [
        {
          "output_type": "stream",
          "name": "stdout",
          "text": [
            "Caught a custom exception: Value must be non-negative\n"
          ]
        }
      ]
    },
    {
      "cell_type": "markdown",
      "source": [
        "## Q5. What are Custom Exceptions in python? Why do we need Custom Exceptions? Explain with an example"
      ],
      "metadata": {
        "id": "48tdXRG_u1aQ"
      }
    },
    {
      "cell_type": "markdown",
      "source": [
        "Custom exceptions, also known as user-defined exceptions, are exceptions that you define yourself in Python.\n",
        "\n",
        "While Python provides a wide range of built-in exception types (such as ValueError, TypeError, and ZeroDivisionError), there are situations where you may need to create your own exceptions to represent specific error conditions in your code.\n",
        "\n",
        "Custom exceptions allow you to raise application-specific errors with meaningful information and provide a more structured way to handle these errors."
      ],
      "metadata": {
        "id": "I5tH_Kvhu-tr"
      }
    },
    {
      "cell_type": "markdown",
      "source": [
        "To create a custom exception, you need to define a new class that inherits from the built-in Exception class or one of its subclasses. Typically, you would create a subclass of Exception to maintain consistency with Python's exception hierarchy. Here's how you can create a custom exception:"
      ],
      "metadata": {
        "id": "jIi_ToqmvQdB"
      }
    },
    {
      "cell_type": "code",
      "source": [
        "\n",
        "class ValidateAge(Exception):\n",
        "  def __init__(self, msg):\n",
        "    self.msg = msg\n",
        "\n",
        "def validateAge(age):\n",
        "  if age<0:\n",
        "    raise ValidateAge(\"Entered age is negative\")\n",
        "  elif age >150:\n",
        "    raise ValidateAge(\"Unvalied Age\")\n",
        "  else:\n",
        "    print(\"Age is Valid\")\n",
        "\n",
        "for i in range(3):\n",
        "  try:\n",
        "    age = int(input(\"Enter your age: \"))\n",
        "    validateAge(age)\n",
        "  except ValidateAge as e:\n",
        "    print(e)"
      ],
      "metadata": {
        "colab": {
          "base_uri": "https://localhost:8080/"
        },
        "id": "fpaoFsFTuwJj",
        "outputId": "0295cf20-059d-411f-aecf-0776576e98d5"
      },
      "execution_count": 15,
      "outputs": [
        {
          "output_type": "stream",
          "name": "stdout",
          "text": [
            "Enter your age: -30\n",
            "Entered age is negative\n",
            "Enter your age: 159\n",
            "Unvalied Age\n",
            "Enter your age: 20\n",
            "Age is Valid\n"
          ]
        }
      ]
    },
    {
      "cell_type": "markdown",
      "source": [
        "## Q6. Create custom exception class. Use this class to handle an exception."
      ],
      "metadata": {
        "id": "HS68ox6Fwgbd"
      }
    },
    {
      "cell_type": "code",
      "source": [
        "\n",
        "class ValidateAge(Exception):\n",
        "  def __init__(self, msg):\n",
        "    self.msg = msg\n",
        "\n",
        "def validateAge(age):\n",
        "  if age<0:\n",
        "    raise ValidateAge(\"Entered age is negative\")\n",
        "  elif age >150:\n",
        "    raise ValidateAge(\"Unvalied Age\")\n",
        "  else:\n",
        "    print(\"Age is Valid\")\n",
        "\n",
        "for i in range(3):\n",
        "  try:\n",
        "    age = int(input(\"Enter your age: \"))\n",
        "    validateAge(age)\n",
        "  except ValidateAge as e:\n",
        "    print(e)"
      ],
      "metadata": {
        "colab": {
          "base_uri": "https://localhost:8080/"
        },
        "id": "OM6coHHJwLlc",
        "outputId": "60013e8e-4854-4906-e334-776744542b2e"
      },
      "execution_count": 16,
      "outputs": [
        {
          "output_type": "stream",
          "name": "stdout",
          "text": [
            "Enter your age: 0\n",
            "Age is Valid\n",
            "Enter your age: 20\n",
            "Age is Valid\n",
            "Enter your age: -90\n",
            "Entered age is negative\n"
          ]
        }
      ]
    },
    {
      "cell_type": "code",
      "source": [],
      "metadata": {
        "id": "CXr7iaXGwqz4"
      },
      "execution_count": null,
      "outputs": []
    }
  ]
}