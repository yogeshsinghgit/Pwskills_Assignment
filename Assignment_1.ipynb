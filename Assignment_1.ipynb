{
  "nbformat": 4,
  "nbformat_minor": 0,
  "metadata": {
    "colab": {
      "provenance": [],
      "toc_visible": true
    },
    "kernelspec": {
      "name": "python3",
      "display_name": "Python 3"
    },
    "language_info": {
      "name": "python"
    }
  },
  "cells": [
    {
      "cell_type": "markdown",
      "source": [
        "# Data Science Masters - Assignment 1\n",
        "\n",
        "\n",
        "Assignment Submitted By: Yogesh Singh"
      ],
      "metadata": {
        "id": "Jkr_oGe_XMtR"
      }
    },
    {
      "cell_type": "markdown",
      "source": [
        "### Q1. Create one variable containing following type of data:\n",
        "\n",
        "(i) string\n",
        "\n",
        "(ii) list\n",
        "\n",
        "(iii) float\n",
        "\n",
        "(iv) tuple"
      ],
      "metadata": {
        "id": "KTaC-RyOXdiY"
      }
    },
    {
      "cell_type": "code",
      "execution_count": 1,
      "metadata": {
        "colab": {
          "base_uri": "https://localhost:8080/"
        },
        "id": "ffC2YFcNXHHG",
        "outputId": "b6692ab4-36b4-4724-e93b-1b31d53126fc"
      },
      "outputs": [
        {
          "output_type": "stream",
          "name": "stdout",
          "text": [
            "Yogesh Singh\n",
            "['A', 'B', 'C']\n",
            "3.14\n",
            "(1, 2, 3, 4, 5)\n"
          ]
        }
      ],
      "source": [
        "var1 = \"Yogesh Singh\"\n",
        "print(var1)\n",
        "\n",
        "var1 = ['A', 'B', 'C']\n",
        "print(var1)\n",
        "\n",
        "var1 = 3.14\n",
        "print(var1)\n",
        "\n",
        "var1 = (1, 2, 3, 4, 5)\n",
        "print(var1)"
      ]
    },
    {
      "cell_type": "markdown",
      "source": [
        "## Q2. Given are some following variables containing data:\n",
        "\n",
        "(i) var1 = ‘ ‘\n",
        "\n",
        "(ii) var2 = ‘[ DS , ML , Python]’\n",
        "\n",
        "(iii) var3 = [ ‘DS’ , ’ML’ , ‘Python’ ]\n",
        "\n",
        "(iv) var4 = 1.\n",
        "\n",
        "What will be the data type of the above given variable."
      ],
      "metadata": {
        "id": "PiwtlXACXrQn"
      }
    },
    {
      "cell_type": "code",
      "source": [
        "var1 = ''\n",
        "print(type(var1))"
      ],
      "metadata": {
        "colab": {
          "base_uri": "https://localhost:8080/"
        },
        "id": "gM7LsgiZXlTf",
        "outputId": "a7e959ba-aa30-4c3d-957c-8b4ebb5523e8"
      },
      "execution_count": 2,
      "outputs": [
        {
          "output_type": "stream",
          "name": "stdout",
          "text": [
            "<class 'str'>\n"
          ]
        }
      ]
    },
    {
      "cell_type": "code",
      "source": [
        "var2 = '[ DS , ML , Python]'\n",
        "print(type(var2))"
      ],
      "metadata": {
        "colab": {
          "base_uri": "https://localhost:8080/"
        },
        "id": "h2q7cgwmYCkh",
        "outputId": "df01012c-4e4f-4e3f-fc41-b08c228ad6a2"
      },
      "execution_count": 3,
      "outputs": [
        {
          "output_type": "stream",
          "name": "stdout",
          "text": [
            "<class 'str'>\n"
          ]
        }
      ]
    },
    {
      "cell_type": "code",
      "source": [
        "var3 = [ 'DS' , 'ML' , 'Python' ]\n",
        "print(type(var3))"
      ],
      "metadata": {
        "colab": {
          "base_uri": "https://localhost:8080/"
        },
        "id": "TUbkESgLYG-b",
        "outputId": "c63eeaf8-f61a-4b87-92e1-a7e8ef7b06c3"
      },
      "execution_count": 4,
      "outputs": [
        {
          "output_type": "stream",
          "name": "stdout",
          "text": [
            "<class 'list'>\n"
          ]
        }
      ]
    },
    {
      "cell_type": "code",
      "source": [
        "var4 = 1.\n",
        "print(type(var4))"
      ],
      "metadata": {
        "colab": {
          "base_uri": "https://localhost:8080/"
        },
        "id": "IEzAWfKTYJTK",
        "outputId": "c053e47c-8d05-4d9a-ddcb-5a037d9fbccf"
      },
      "execution_count": 5,
      "outputs": [
        {
          "output_type": "stream",
          "name": "stdout",
          "text": [
            "<class 'float'>\n"
          ]
        }
      ]
    },
    {
      "cell_type": "markdown",
      "source": [
        "## Q3. Explain the use of the following operators using an example:\n",
        "\n",
        "(i) /\n",
        "\n",
        "(ii) %\n",
        "\n",
        "(iii) //\n",
        "\n",
        "(iv) **"
      ],
      "metadata": {
        "id": "56QIXN7lYMLt"
      }
    },
    {
      "cell_type": "markdown",
      "source": [
        "#### Division Operator ( / )\n",
        "\n",
        "The division operator is one of the type of airthmetic operator which is used to perform division operation between two operands.\n",
        "\n",
        "It returns result in floating type."
      ],
      "metadata": {
        "id": "Bgc15GvRYaVy"
      }
    },
    {
      "cell_type": "code",
      "source": [
        "operand1 = 20\n",
        "operand2 = 5\n",
        "\n",
        "result = operand1/operand2\n",
        "print(result)"
      ],
      "metadata": {
        "colab": {
          "base_uri": "https://localhost:8080/"
        },
        "id": "DlPew2flYK01",
        "outputId": "bd1b9f5e-2c17-4aec-fe6f-b232eee5e982"
      },
      "execution_count": 6,
      "outputs": [
        {
          "output_type": "stream",
          "name": "stdout",
          "text": [
            "4.0\n"
          ]
        }
      ]
    },
    {
      "cell_type": "markdown",
      "source": [
        "#### Modulo Operator ( % )\n",
        "\n",
        "modulo operator returns remainder in a division operation."
      ],
      "metadata": {
        "id": "TDAAEzIBY-1w"
      }
    },
    {
      "cell_type": "code",
      "source": [
        "operand1 = 22\n",
        "operand2 = 5\n",
        "\n",
        "result = operand1 % operand2\n",
        "print(result)"
      ],
      "metadata": {
        "colab": {
          "base_uri": "https://localhost:8080/"
        },
        "id": "EFzuFyL3YzuI",
        "outputId": "7b78acd2-85ff-4615-ca9c-0e22c154c82d"
      },
      "execution_count": 8,
      "outputs": [
        {
          "output_type": "stream",
          "name": "stdout",
          "text": [
            "2\n"
          ]
        }
      ]
    },
    {
      "cell_type": "markdown",
      "source": [
        "#### Integer Division Operator ( // )\n",
        "\n",
        "When we use single slash (division operator) then it return result in foating type but if we want to get th eresult in interger type format then we canuse ddouble slash instead of using single one."
      ],
      "metadata": {
        "id": "WUoFAGE4ZT8n"
      }
    },
    {
      "cell_type": "code",
      "source": [
        "operand1 = 20\n",
        "operand2 = 5\n",
        "\n",
        "result1 = operand1 / operand2\n",
        "print(\"Using single slash \",result1)\n",
        "print(\"type of result 1 = \",type(result1))\n",
        "\n",
        "result2 = operand1 // operand2\n",
        "print(\"Using Double slash \", result2)\n",
        "print(\"type of result 2 = \",type(result2))"
      ],
      "metadata": {
        "colab": {
          "base_uri": "https://localhost:8080/"
        },
        "id": "-3optWN6ZORX",
        "outputId": "5e5be6a8-7977-4193-8dd9-fdfd490788c4"
      },
      "execution_count": 10,
      "outputs": [
        {
          "output_type": "stream",
          "name": "stdout",
          "text": [
            "Using single slash  4.0\n",
            "type of result 1 =  <class 'float'>\n",
            "Using Double slash  4\n",
            "type of result 2 =  <class 'int'>\n"
          ]
        }
      ]
    },
    {
      "cell_type": "markdown",
      "source": [
        "### Exponential Operator (**)\n",
        "\n",
        "Exponent or power operator returns first raised to power second."
      ],
      "metadata": {
        "id": "tPCBzXIyaOG9"
      }
    },
    {
      "cell_type": "code",
      "source": [
        "num = 5\n",
        "pow = 2\n",
        "\n",
        "result = num ** pow # means num^power (5^2 = 25)\n",
        "print(result)"
      ],
      "metadata": {
        "colab": {
          "base_uri": "https://localhost:8080/"
        },
        "id": "NnSw-K2OZ_h-",
        "outputId": "77e1320c-5266-4cb7-8ed7-47f9db2c8d85"
      },
      "execution_count": 11,
      "outputs": [
        {
          "output_type": "stream",
          "name": "stdout",
          "text": [
            "25\n"
          ]
        }
      ]
    },
    {
      "cell_type": "markdown",
      "source": [
        "## Q4. Create a list of length 10 of your choice containing multiple types of data. Using for loop print the element and its data type."
      ],
      "metadata": {
        "id": "2WC32H4ybVck"
      }
    },
    {
      "cell_type": "code",
      "source": [
        "mylist = [1, 'A', 'Hello', 3.14, True, 3+7j, (1, 2, 3), 15, False, 22.7]\n",
        "\n",
        "print(\"Lenght of List = {}\\n \".format(len(mylist)))\n",
        "\n",
        "for item in mylist:\n",
        "  print(item, type(item))"
      ],
      "metadata": {
        "colab": {
          "base_uri": "https://localhost:8080/"
        },
        "id": "cjQglnVAbBpL",
        "outputId": "576edd9d-4cc4-4dcc-c10d-6a7372a2024d"
      },
      "execution_count": 17,
      "outputs": [
        {
          "output_type": "stream",
          "name": "stdout",
          "text": [
            "Lenght of List = 10\n",
            " \n",
            "1 <class 'int'>\n",
            "A <class 'str'>\n",
            "Hello <class 'str'>\n",
            "3.14 <class 'float'>\n",
            "True <class 'bool'>\n",
            "(3+7j) <class 'complex'>\n",
            "(1, 2, 3) <class 'tuple'>\n",
            "15 <class 'int'>\n",
            "False <class 'bool'>\n",
            "22.7 <class 'float'>\n"
          ]
        }
      ]
    },
    {
      "cell_type": "markdown",
      "source": [
        "## Q5. Using a while loop, verify if the number A is purely divisible by number B and if so then how many times it can be divisible."
      ],
      "metadata": {
        "id": "mnrpWeOAcf1g"
      }
    },
    {
      "cell_type": "code",
      "source": [
        "num_a = int(input(\"Enter Numerator : \"))\n",
        "num_b = int(input(\"Enter Denominator : \"))\n",
        "rem = num_a\n",
        "count = 0\n",
        "\n",
        "while 1:\n",
        "  rem = rem - num_b\n",
        "  count +=1\n",
        "  if rem < num_b:\n",
        "    break\n",
        "\n",
        "if rem == 0:\n",
        "    print(\"{} is divisible by {} in total {} steps\".format(num_a, num_b, count))\n",
        "\n",
        "elif rem < num_b:\n",
        "    print(\"{} is not divisible by {}\".format(num_a, num_b))\n",
        "\n"
      ],
      "metadata": {
        "colab": {
          "base_uri": "https://localhost:8080/"
        },
        "id": "sfbh_rEEb1qT",
        "outputId": "5be84c49-eaca-4a83-a4bc-e1170636a479"
      },
      "execution_count": 24,
      "outputs": [
        {
          "output_type": "stream",
          "name": "stdout",
          "text": [
            "Enter Numerator : 23\n",
            "Enter Denominator : 5\n",
            "23 is not divisible by 5\n"
          ]
        }
      ]
    },
    {
      "cell_type": "markdown",
      "source": [
        "## Q6. Create a list containing 25 int type data. Using for loop and if-else condition print if the element is divisible by 3 or not."
      ],
      "metadata": {
        "id": "M5dVE9nXfmdv"
      }
    },
    {
      "cell_type": "code",
      "source": [
        "mylist = list(range(1, 26))\n",
        "\n",
        "for item in mylist:\n",
        "  if item % 3 == 0:\n",
        "    print('{} is divisible by 3'.format(item))\n",
        "  else:\n",
        "    print('{} is not divisible by 3'.format(item))"
      ],
      "metadata": {
        "colab": {
          "base_uri": "https://localhost:8080/"
        },
        "id": "6usGFvsUegVw",
        "outputId": "82fa7aa0-fb42-464c-d5b1-296db18384eb"
      },
      "execution_count": 30,
      "outputs": [
        {
          "output_type": "stream",
          "name": "stdout",
          "text": [
            "1 is not divisible by 3\n",
            "2 is not divisible by 3\n",
            "3 is divisible by 3\n",
            "4 is not divisible by 3\n",
            "5 is not divisible by 3\n",
            "6 is divisible by 3\n",
            "7 is not divisible by 3\n",
            "8 is not divisible by 3\n",
            "9 is divisible by 3\n",
            "10 is not divisible by 3\n",
            "11 is not divisible by 3\n",
            "12 is divisible by 3\n",
            "13 is not divisible by 3\n",
            "14 is not divisible by 3\n",
            "15 is divisible by 3\n",
            "16 is not divisible by 3\n",
            "17 is not divisible by 3\n",
            "18 is divisible by 3\n",
            "19 is not divisible by 3\n",
            "20 is not divisible by 3\n",
            "21 is divisible by 3\n",
            "22 is not divisible by 3\n",
            "23 is not divisible by 3\n",
            "24 is divisible by 3\n",
            "25 is not divisible by 3\n"
          ]
        }
      ]
    },
    {
      "cell_type": "markdown",
      "source": [
        "## Q7. What do you understand about mutable and immutable data types? Give examples for both showing this property."
      ],
      "metadata": {
        "id": "zidKH0asg3b3"
      }
    },
    {
      "cell_type": "markdown",
      "source": [
        "### Mutable Datatype:\n",
        "A data type which elements values can be eddited, which means we can do any changes in terms of adding, removing, replacing with the help of index value."
      ],
      "metadata": {
        "id": "0Qz7tGGpg5Yd"
      }
    },
    {
      "cell_type": "code",
      "source": [
        "my_list = [1, 2, 3, 4, 5]\n",
        "\n",
        "print(my_list)\n",
        "\n",
        "my_list[2] =  39\n",
        "\n",
        "print(my_list)"
      ],
      "metadata": {
        "colab": {
          "base_uri": "https://localhost:8080/"
        },
        "id": "YDvlVlSgf6VA",
        "outputId": "87370b66-c8e7-461e-b8fb-75ef298840f5"
      },
      "execution_count": 32,
      "outputs": [
        {
          "output_type": "stream",
          "name": "stdout",
          "text": [
            "[1, 2, 3, 4, 5]\n",
            "[1, 2, 39, 4, 5]\n"
          ]
        }
      ]
    },
    {
      "cell_type": "markdown",
      "source": [
        "### Immutable Datatype:\n",
        "\n",
        "A data type which element values cannot be eddited, which means we cannot do any changes in terms of adding, removing, replacing with the help of index value."
      ],
      "metadata": {
        "id": "Nu0C0Jcphs04"
      }
    },
    {
      "cell_type": "code",
      "source": [
        "my_tuple = (1, 2, 3, 4, 5)\n",
        "\n",
        "print(my_tuple)\n",
        "\n",
        "my_tuple[2] = 39\n",
        "\n",
        "print(my_tuple)"
      ],
      "metadata": {
        "colab": {
          "base_uri": "https://localhost:8080/",
          "height": 252
        },
        "id": "5W7gXvMNhaC7",
        "outputId": "45cb41db-2b67-455c-c2a9-dbdcd3937806"
      },
      "execution_count": 35,
      "outputs": [
        {
          "output_type": "stream",
          "name": "stdout",
          "text": [
            "(1, 2, 3, 4, 5)\n"
          ]
        },
        {
          "output_type": "error",
          "ename": "TypeError",
          "evalue": "ignored",
          "traceback": [
            "\u001b[0;31m---------------------------------------------------------------------------\u001b[0m",
            "\u001b[0;31mTypeError\u001b[0m                                 Traceback (most recent call last)",
            "\u001b[0;32m<ipython-input-35-e2bd34618cb1>\u001b[0m in \u001b[0;36m<cell line: 5>\u001b[0;34m()\u001b[0m\n\u001b[1;32m      3\u001b[0m \u001b[0mprint\u001b[0m\u001b[0;34m(\u001b[0m\u001b[0mmy_tuple\u001b[0m\u001b[0;34m)\u001b[0m\u001b[0;34m\u001b[0m\u001b[0;34m\u001b[0m\u001b[0m\n\u001b[1;32m      4\u001b[0m \u001b[0;34m\u001b[0m\u001b[0m\n\u001b[0;32m----> 5\u001b[0;31m \u001b[0mmy_tuple\u001b[0m\u001b[0;34m[\u001b[0m\u001b[0;36m2\u001b[0m\u001b[0;34m]\u001b[0m \u001b[0;34m=\u001b[0m \u001b[0;36m39\u001b[0m\u001b[0;34m\u001b[0m\u001b[0;34m\u001b[0m\u001b[0m\n\u001b[0m\u001b[1;32m      6\u001b[0m \u001b[0;34m\u001b[0m\u001b[0m\n\u001b[1;32m      7\u001b[0m \u001b[0mprint\u001b[0m\u001b[0;34m(\u001b[0m\u001b[0mmy_tuple\u001b[0m\u001b[0;34m)\u001b[0m\u001b[0;34m\u001b[0m\u001b[0;34m\u001b[0m\u001b[0m\n",
            "\u001b[0;31mTypeError\u001b[0m: 'tuple' object does not support item assignment"
          ]
        }
      ]
    },
    {
      "cell_type": "code",
      "source": [],
      "metadata": {
        "id": "A80h2RMUh9o8"
      },
      "execution_count": null,
      "outputs": []
    }
  ]
}