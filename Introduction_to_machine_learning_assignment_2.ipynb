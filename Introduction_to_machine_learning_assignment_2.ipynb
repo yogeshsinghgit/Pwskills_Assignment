{
  "nbformat": 4,
  "nbformat_minor": 0,
  "metadata": {
    "colab": {
      "provenance": [],
      "toc_visible": true,
      "authorship_tag": "ABX9TyM3ooDT3gTGpphQ9+wXOSRK",
      "include_colab_link": true
    },
    "kernelspec": {
      "name": "python3",
      "display_name": "Python 3"
    },
    "language_info": {
      "name": "python"
    }
  },
  "cells": [
    {
      "cell_type": "markdown",
      "metadata": {
        "id": "view-in-github",
        "colab_type": "text"
      },
      "source": [
        "<a href=\"https://colab.research.google.com/github/yogeshsinghgit/Pwskills_Assignment/blob/main/Introduction_to_machine_learning_assignment_2.ipynb\" target=\"_parent\"><img src=\"https://colab.research.google.com/assets/colab-badge.svg\" alt=\"Open In Colab\"/></a>"
      ]
    },
    {
      "cell_type": "markdown",
      "source": [
        "# Machine Learning Part 1 - Assignment 2\n",
        "\n",
        "Submitted By: Yogesh Singh\n"
      ],
      "metadata": {
        "id": "GLt4aR-nfsVY"
      }
    },
    {
      "cell_type": "markdown",
      "source": [
        "## Q1: Define overfitting and underfitting in machine learning. What are the consequences of each, and how can they be mitigated?"
      ],
      "metadata": {
        "id": "kkslYbS1fz_Q"
      }
    },
    {
      "cell_type": "markdown",
      "source": [
        "overfitting and underfitting tells us how good a model is trained using training dataset and how well it performed using testing dataset.\n",
        "\n",
        "- If a model is trained with high accuracy but results is low accuracy performace in testing, then this scenerio is termed as **overfitting**.\n",
        "\n",
        "- If a model is trained with low accuracy and results is low accuracy performace in testing, then this scenerio is termed as **underfitting**.\n",
        "\n",
        "In both of the scenerio, the model results in poor prediction.\n",
        "\n",
        "**How can they be mitigated?**\n",
        "we can reduce the overfitting and underfitting by adjusting the training data size, resampling them."
      ],
      "metadata": {
        "id": "2aK_OHrngLu4"
      }
    },
    {
      "cell_type": "markdown",
      "source": [
        "## Q2: How can we reduce overfitting? Explain in brief."
      ],
      "metadata": {
        "id": "LUGNoH0OiBYO"
      }
    },
    {
      "cell_type": "markdown",
      "source": [
        "We can reduce overfitting by trying one of following ways.\n",
        "\n",
        "1. Train with more data\n",
        "2. Remove features\n",
        "3. Regularization"
      ],
      "metadata": {
        "id": "M21vbuoD12aB"
      }
    },
    {
      "cell_type": "markdown",
      "source": [
        "## Q3: Explain underfitting. List scenarios where underfitting can occur in ML.\n"
      ],
      "metadata": {
        "id": "LMh4Jxah2SWf"
      }
    },
    {
      "cell_type": "markdown",
      "source": [
        "underfitting is a scenerio in machine learning when model gives less accuracy with training as well as with testing data.\n",
        "\n",
        "Scenarios where underfitting can occur in ML:\n",
        "1. Less Data for training.\n",
        "2. baised data (data used for training may just have one category not other)\n"
      ],
      "metadata": {
        "id": "sMIJSCmx2ThP"
      }
    },
    {
      "cell_type": "markdown",
      "source": [
        "## Q4: Explain the bias-variance tradeoff in machine learning. What is the relationship between bias and variance, and how do they affect model performance?"
      ],
      "metadata": {
        "id": "iBi2A-Jp28sN"
      }
    },
    {
      "cell_type": "markdown",
      "source": [
        "bias-variance in machine learning is a concept which tell how good our model is trained with training data and how good it is performing with testing data.\n",
        "\n",
        "when the bias is high it means the model is no well trained with training data and bias is low means model is well trained.\n",
        "\n",
        "hign variance means the models accuracy is low on testing data and low variance means the model accurcy is high on testing data.\n",
        "\n",
        "If the model is not trained well then it will definitely leads to bad/poor performance, which means if bias is high then variance is must be low and this is known as bias-variance tradeoff.\n",
        "\n"
      ],
      "metadata": {
        "id": "hj3t7RxB2-As"
      }
    },
    {
      "cell_type": "markdown",
      "source": [
        "## Q5: Discuss some common methods for detecting overfitting and underfitting in machine learning models. How can you determine whether your model is overfitting or underfitting?"
      ],
      "metadata": {
        "id": "D6agPR-c6hOg"
      }
    },
    {
      "cell_type": "markdown",
      "source": [
        "one of the easiest way to detect overfitting and underfitting is to check our model accuracy with training and testing data.\n",
        "\n",
        "if training accuracy and testing accuracy is low then our model is overfitted and if training and testing accuracy is low then our model is underfitted.\n"
      ],
      "metadata": {
        "id": "Tll3Xbt0628T"
      }
    },
    {
      "cell_type": "markdown",
      "source": [
        "## Q6: Compare and contrast bias and variance in machine learning. What are some examples of high bias and high variance models, and how do they differ in terms of their performance?"
      ],
      "metadata": {
        "id": "lvbB303m7Paq"
      }
    },
    {
      "cell_type": "markdown",
      "source": [
        "bias-variance in machine learning is a concept which tell how good our model is trained with training data and how good it is performing with testing data.\n",
        "\n",
        "when the bias is high it means the model is no well trained with training data and bias is low means model is well trained.\n",
        "\n",
        "hign variance means the models accuracy is low on testing data and low variance means the model accurcy is high on testing data.\n",
        "\n",
        "If the model is not trained well then it will definitely leads to bad/poor performance, which means if bias is high then variance is must be low and this is known as bias-variance tradeoff.\n",
        "\n"
      ],
      "metadata": {
        "id": "_XD3b06E7h6T"
      }
    },
    {
      "cell_type": "markdown",
      "source": [
        "## Q7: What is regularization in machine learning, and how can it be used to prevent overfitting? Describe some common regularization techniques and how they work."
      ],
      "metadata": {
        "id": "aDyk0lEq7dzo"
      }
    },
    {
      "cell_type": "markdown",
      "source": [
        "we use regularization techniques to fix overfitting in our machine learning models.\n",
        "\n",
        "Overfitting happens when a machine learning model fits tightly to the training data and tries to learn all the details in the data; in this case, the model cannot generalize well to the unseen data.\n",
        "\n",
        "\n",
        "**What Is Regularization?**\n",
        "\n",
        "Regularization means restricting a model to avoid overfitting by shrinking the coefficient estimates to zero. When a model suffers from overfitting, we should control the model's complexity. Technically, regularization avoids overfitting by adding a penalty to the model's loss function:\n",
        "\n",
        "**Regularization = Loss Function + Penalty**\n",
        "\n",
        "There are three commonly used regularization techniques to control the complexity of machine learning models, as follows:\n",
        "\n",
        "1. L2 regularization\n",
        "2. L1 regularization\n",
        "3. Elastic Net"
      ],
      "metadata": {
        "id": "T5fFYQLR72cL"
      }
    },
    {
      "cell_type": "code",
      "execution_count": null,
      "metadata": {
        "id": "AsVaHLV1fr4H"
      },
      "outputs": [],
      "source": []
    }
  ]
}