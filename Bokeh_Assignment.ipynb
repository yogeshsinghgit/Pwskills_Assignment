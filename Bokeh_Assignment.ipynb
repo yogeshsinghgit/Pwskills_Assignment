{
  "nbformat": 4,
  "nbformat_minor": 0,
  "metadata": {
    "colab": {
      "provenance": [],
      "authorship_tag": "ABX9TyOtMaHoidXpxtXxL6S+K9BN",
      "include_colab_link": true
    },
    "kernelspec": {
      "name": "python3",
      "display_name": "Python 3"
    },
    "language_info": {
      "name": "python"
    }
  },
  "cells": [
    {
      "cell_type": "markdown",
      "metadata": {
        "id": "view-in-github",
        "colab_type": "text"
      },
      "source": [
        "<a href=\"https://colab.research.google.com/github/yogeshsinghgit/Pwskills_Assignment/blob/main/Bokeh_Assignment.ipynb\" target=\"_parent\"><img src=\"https://colab.research.google.com/assets/colab-badge.svg\" alt=\"Open In Colab\"/></a>"
      ]
    },
    {
      "cell_type": "markdown",
      "source": [
        "[Assignment Link](https://drive.google.com/file/d/1osuZkHV8fakdv3yQdw6GtmbrLZvFFXqg/view)"
      ],
      "metadata": {
        "id": "v63HmVW3W0AF"
      }
    },
    {
      "cell_type": "markdown",
      "source": [
        "## Q1. How can you create a Bokeh plot using Python code?"
      ],
      "metadata": {
        "id": "FHeGKvgzXN50"
      }
    },
    {
      "cell_type": "markdown",
      "source": [
        "## Answer:\n",
        "\n",
        "Here's how you can create a Bokeh plot using Python code:\n",
        "\n",
        "**1. Import libraries:**\n",
        "\n",
        "```python\n",
        "from bokeh.plotting import figure, show\n",
        "```\n",
        "\n",
        "* `figure`: This function from `bokeh.plotting` is used to create a new plot object.\n",
        "* `show`: This function from `bokeh.plotting` helps display the generated Bokeh plot in a web browser.\n",
        "\n",
        "**2. Prepare your data:**\n",
        "\n",
        "You'll need the data you want to visualize. This could be lists, NumPy arrays, or pandas DataFrames containing the x and y coordinates for your plot.\n",
        "\n",
        "**3. Create the plot:**\n",
        "\n",
        "```python\n",
        "# Sample data\n",
        "x = [1, 2, 3, 4, 5]\n",
        "y = [4, 6, 5, 8, 2]\n",
        "\n",
        "# Create a new plot with a title and axis labels\n",
        "p = figure(title=\"My Bokeh Plot\", x_axis_label=\"X-Axis\", y_axis_label=\"Y-Axis\")\n",
        "\n",
        "# Add a line renderer to the plot\n",
        "p.line(x, y, line_width=2, color=\"blue\")  # Other customization options available\n",
        "```\n",
        "\n",
        "* This code defines two lists (`x` and `y`) containing sample data.\n",
        "* The `figure` function creates a new plot object (`p`). You can customize the title and axis labels using the provided arguments.\n",
        "* The `.line` method adds a line renderer to the plot. It takes the x and y data, line width, and color as arguments. There are many other customization options available for line renderers (e.g., line style, dash pattern, etc.).\n",
        "\n",
        "**4. (Optional) Add additional elements:**\n",
        "\n",
        "* You can add other visual elements to your plot using various renderer functions provided by Bokeh, such as:\n",
        "    * `.circle` for scatter plots\n",
        "    * `.vbar` and `.hbar` for bar charts\n",
        "    * `.text` for adding text annotations\n",
        "\n",
        "**5. Display the plot:**\n",
        "\n",
        "```python\n",
        "# Show the plot in a web browser\n",
        "show(p)\n",
        "```\n",
        "\n",
        "* The `show` function displays the created plot (`p`) in a web browser window.\n",
        "\n",
        "**Additional tips:**\n",
        "\n",
        "* Explore the Bokeh documentation ([https://docs.bokeh.org/en/latest/](https://docs.bokeh.org/en/latest/)) for detailed information on available renderers, customization options, and interactivity features.\n",
        "* You can use tools like the Bokeh plotting API ([https://docs.bokeh.org/en/latest/](https://docs.bokeh.org/en/latest/)) to create more complex and interactive visualizations.\n"
      ],
      "metadata": {
        "id": "0Lw47w86WtWG"
      }
    },
    {
      "cell_type": "markdown",
      "source": [
        "## Q2. What are glyphs in Bokeh, and how can you add them to a Bokeh plot? Explain with an example.\n",
        "\n"
      ],
      "metadata": {
        "id": "Khot-5bKXQvI"
      }
    },
    {
      "cell_type": "markdown",
      "source": [
        "In Bokeh, glyphs are the fundamental visual building blocks used to represent data in your plots. They are essentially geometric shapes that encode your data points and convey information visually. Bokeh offers a rich set of glyphs for creating various chart types, including lines, circles, squares, bars, wedges, and more.\n",
        "\n",
        "Here's how you can add glyphs to a Bokeh plot:\n",
        "\n",
        "**1. Choose the appropriate glyph function:**\n",
        "\n",
        "Bokeh provides different functions for different glyph types. Here are some common examples:\n",
        "\n",
        "* `.line(x, y)`: This function adds a line connecting your data points in (x, y) coordinates.\n",
        "* `.circle(x, y, size)`: This function adds circles at the specified (x, y) locations with a particular size (diameter).\n",
        "* `.square(x, y, size)`: This function adds squares at the specified locations with a particular size (side length).\n",
        "* `.vbar(x, top, bottom, width)`: This function adds vertical bars with a base at `bottom`, height reaching `top`, located at `x` positions, and with a specified `width`.\n",
        "* `.hbar(x, right, left, height)`: Similar to `.vbar`, this function adds horizontal bars.\n",
        "\n",
        "**2. Customize the glyph appearance:**\n",
        "\n",
        "Most glyph functions allow you to customize their appearance using additional arguments. These arguments can control:\n",
        "\n",
        "* **Size:** You can specify the size of the glyph (e.g., diameter for circles, side length for squares, width/height for bars).\n",
        "* **Color:** You can set the fill color or line color of the glyph.\n",
        "* **Line style:** For lines, you can choose solid, dashed, dotted, etc. styles.\n",
        "* **Fill alpha/line alpha:** You can control the transparency of the fill or line.\n",
        "\n",
        "**3. Add the glyph to the plot object:**\n",
        "\n",
        "Once you've chosen the glyph function and configured its appearance, call it on your plot object (`p`) to add the glyph renderer. Here's the syntax:\n",
        "\n",
        "```python\n",
        "p.<glyph_function>(x, y, additional_arguments...)\n",
        "```\n",
        "\n",
        "**Example:**\n",
        "\n",
        "```python\n",
        "from bokeh.plotting import figure, show\n",
        "\n",
        "# Sample data\n",
        "x = [1, 2, 3, 4, 5]\n",
        "y = [4, 6, 5, 8, 2]\n",
        "\n",
        "# Create a new plot\n",
        "p = figure(title=\"Bokeh Glyph Example\", x_axis_label=\"X-Axis\", y_axis_label=\"Y-Axis\")\n",
        "\n",
        "# Add circle glyphs with different sizes and colors\n",
        "p.circle(x, y, size=[40, 60, 80, 60, 40], color=[\"red\", \"green\", \"blue\", \"green\", \"red\"])\n",
        "\n",
        "# Show the plot\n",
        "show(p)\n",
        "```\n",
        "\n",
        "This code creates a scatter plot using circles. It uses the `.circle` function with arguments for x, y coordinates, size (list for different sizes), and color (list for different colors). The resulting plot will display circles of varying sizes and colors at the specified data points.\n",
        "\n",
        "By combining different glyphs and their customization options, you can create a wide variety of visualizations in Bokeh.\n"
      ],
      "metadata": {
        "id": "g_cXsQv3XYik"
      }
    },
    {
      "cell_type": "markdown",
      "source": [
        "\n",
        "Q3. How can you customize the appearance of a Bokeh plot, including the axes, title, and legend?\n",
        "\n"
      ],
      "metadata": {
        "id": "DlzbmCbAXex_"
      }
    },
    {
      "cell_type": "markdown",
      "source": [
        "Bokeh offers various ways to customize the appearance of your plots, including axes, title, and legend. Here's a breakdown of how to achieve this:\n",
        "\n",
        "**1. Axes:**\n",
        "\n",
        "* **Axis labels:** Set axis labels using the `x_axis_label` and `y_axis_label` arguments when creating the plot with `figure`.\n",
        "* **Axis ticks:** You can control the major and minor tick intervals and their appearance using the `xaxis.ticker` and `yaxis.ticker` properties of the plot object.\n",
        "* **Axis grid:** Customize the grid line style and color using the `xaxis.grid` and `yaxis.grid` properties. You can control major and minor grid lines separately.\n",
        "* **Axis range:** Set the visible range for each axis using the `x_range` and `y_range` arguments when creating the plot or by modifying the `p.x_range` and `p.y_range` properties later.\n",
        "\n",
        "**2. Title:**\n",
        "\n",
        "* Set the plot title using the `title` argument when creating the plot with `figure`.\n",
        "* You can further customize the title appearance (font size, color, alignment) using the `title.text_font_size`, `title.text_color`, and `title.align` properties of the plot object.\n",
        "\n",
        "**3. Legend:**\n",
        "\n",
        "* Legends are automatically generated in Bokeh when you add multiple renderers to a plot that have a legend field (`legend_label`) defined.\n",
        "* You can customize the legend appearance (location, border style, label text font) using the `legend` property of the plot object. It provides access to properties like `location`, `border_line_alpha`, and `label_text_font_size`.\n",
        "* Additionally, you can manually create legends using the `Legend` class from `bokeh.models`.\n",
        "\n",
        "Here's an example demonstrating some customizations:\n",
        "\n",
        "```python\n",
        "from bokeh.plotting import figure, show\n",
        "\n",
        "# Sample data\n",
        "x = [1, 2, 3, 4, 5]\n",
        "y = [4, 6, 5, 8, 2]\n",
        "y2 = [2, 3, 5, 7, 2]  # Data for a second line renderer\n",
        "\n",
        "# Create a new plot with customizations\n",
        "p = figure(\n",
        "    title=\"Custom Bokeh Plot\",\n",
        "    x_axis_label=\"X-Values\",\n",
        "    y_axis_label=\"Y-Values\",\n",
        "    x_range=(0, 6),  # Set visible X-axis range\n",
        "    xaxis_minor_tick_line_color=\"gray\",  # Customize minor tick lines\n",
        "    yaxis_grid_line_color=\"lightgreen\",  # Set grid line color\n",
        ")\n",
        "\n",
        "# Add circle and line renderers with legend labels\n",
        "p.circle(x, y, size=80, color=\"blue\", legend_label=\"Circles\")\n",
        "p.line(x, y2, line_width=2, color=\"red\", legend_label=\"Line\")\n",
        "\n",
        "# Customize legend appearance\n",
        "p.legend.location = \"top_left\"\n",
        "p.legend.border_line_alpha = 0.5  # Set legend border transparency\n",
        "p.legend.label_text_font_size = \"10pt\"  # Adjust legend label font size\n",
        "\n",
        "show(p)\n",
        "```\n",
        "\n",
        "This code creates a plot with a custom title, customized axis labels and ranges, and a legend with adjustments to its position, border, and label font size.\n",
        "\n",
        "Remember to consult the Bokeh documentation ([https://docs.bokeh.org/en/latest/docs/reference.html](https://docs.bokeh.org/en/latest/docs/reference.html)) for a comprehensive list of properties and customization options available for axes, titles, legends, and other plot elements.\n"
      ],
      "metadata": {
        "id": "D7l7CcNgXLdD"
      }
    },
    {
      "cell_type": "markdown",
      "source": [
        "Q4. What is a Bokeh server, and how can you use it to create interactive plots that can be updated in\n",
        "real time?\n",
        "\n"
      ],
      "metadata": {
        "id": "8nySxnJtXhD8"
      }
    },
    {
      "cell_type": "markdown",
      "source": [
        "A Bokeh server is a component of the Bokeh visualization library that allows you to create interactive web applications based on your Bokeh plots. These applications can be accessed through a web browser and enable real-time updates to the visualizations based on user interactions or external data sources.\n",
        "\n",
        "Here's how Bokeh server helps create interactive plots:\n",
        "\n",
        "1. **Server-side Python code:** You write Python code that defines the Bokeh plot and its logic. This code can include:\n",
        "    * Creating the plot layout and visual elements using Bokeh functions.\n",
        "    * Defining callbacks that respond to user interactions with the plot (e.g., clicking on a data point, zooming in/out).\n",
        "    * Connecting to external data sources (e.g., databases, sensors) to update the plot data dynamically.\n",
        "\n",
        "2. **Bokeh server:** You run a Bokeh server process that executes your Python code. This server acts as a bridge between the Python logic and the web browser.\n",
        "\n",
        "3. **Web browser interaction:** Users interact with the plot displayed in the web browser. These interactions trigger events that are sent back to the Bokeh server.\n",
        "\n",
        "4. **Callbacks and updates:** The Bokeh server executes the defined callbacks based on the user interactions or data updates. These callbacks can:\n",
        "    * Modify the plot data based on user input or new data from external sources.\n",
        "    * Update the visual appearance of the plot (e.g., highlighting data points, changing colors).\n",
        "    * Send data back to the web browser to reflect the changes in the plot.\n",
        "\n",
        "**Benefits of using Bokeh server:**\n",
        "\n",
        "* **Real-time updates:** Plots can dynamically reflect changes in data or user interactions.\n",
        "* **Interactive exploration:** Users can explore the data by manipulating the plot through various controls.\n",
        "* **Reusable components:** Server applications can be shared with others and accessed from any web browser.\n",
        "\n",
        "**Getting started with Bokeh server:**\n",
        "\n",
        "* The Bokeh documentation provides detailed tutorials and examples for setting up and using the Bokeh server: [https://docs.bokeh.org/en/latest/docs/user_guide/server.html](https://docs.bokeh.org/en/latest/docs/user_guide/server.html)\n",
        "* You'll need to install the `bokeh.server` package and configure a Bokeh server application using the `bokeh.io.show` function with the `server` argument.\n",
        "\n",
        "By leveraging the Bokeh server, you can create powerful interactive visualizations that go beyond static plots and enable users to engage with your data in a more meaningful way."
      ],
      "metadata": {
        "id": "U9rMJtfCXiH8"
      }
    },
    {
      "cell_type": "markdown",
      "source": [
        "Q5. How can you embed a Bokeh plot into a web page or dashboard using Flask or Django?"
      ],
      "metadata": {
        "id": "72V4JfylXieF"
      }
    },
    {
      "cell_type": "markdown",
      "source": [
        "There are two main approaches to embed a Bokeh plot into a web page or dashboard using Flask or Django:\n",
        "\n",
        "**1. Using Bokeh's `components` function:**\n",
        "\n",
        "This method involves generating the necessary HTML and JavaScript code for the Bokeh plot on the server-side (Flask/Django) and embedding it within your web template. Here's how it works:\n",
        "\n",
        "* **Flask/Django view function:**\n",
        "    * In your Flask or Django view function, create the Bokeh plot using the Bokeh plotting functions.\n",
        "    * Use the `bokeh.embed.components(plot)` function, passing your Bokeh plot object (`plot`) as an argument. This function will generate a dictionary containing the HTML script and a placeholder `<div>` element where the plot will be rendered.\n",
        "* **Web template:**\n",
        "    * In your web template (HTML file), include the generated HTML script from the Flask/Django view function within the `<head>` section.\n",
        "    * Include the placeholder `<div>` element within the body of your template where you want the plot to be displayed.\n",
        "\n",
        "Here's an example using Flask (similar approach applies to Django):\n",
        "\n",
        "**Flask view function (app.py):**\n",
        "\n",
        "```python\n",
        "from bokeh.plotting import figure\n",
        "from bokeh.embed import components\n",
        "\n",
        "# Create a sample plot\n",
        "p = figure(title=\"Embedded Bokeh Plot\")\n",
        "p.circle([1, 2, 3], [4, 5, 2])\n",
        "\n",
        "# Generate embed components\n",
        "script, div = components(p)\n",
        "\n",
        "# Render the template with script and div\n",
        "return render_template(\"index.html\", script=script, div=div)\n",
        "```\n",
        "\n",
        "**Web template (index.html):**\n",
        "\n",
        "```html\n",
        "<!DOCTYPE html>\n",
        "<html>\n",
        "<head>\n",
        "  <title>Flask Bokeh Embed</title>\n",
        "  {{ script }}  </head>\n",
        "<body>\n",
        "  <h1>Embedded Plot</h1>\n",
        "  {{ div }}  </body>\n",
        "</html>\n",
        "```\n",
        "\n",
        "**2. Using Bokeh server:**\n",
        "\n",
        "This approach utilizes a separate Bokeh server process to manage the plot logic and updates. Your Flask/Django application acts as a client that interacts with the Bokeh server to display and potentially update the plot. Here's the breakdown:\n",
        "\n",
        "* **Bokeh server application:**\n",
        "    * Define your Bokeh plot and its logic in a separate Python script.\n",
        "    * Use the `bokeh.io.show` function with the `server` argument to run a Bokeh server that serves the plot application.\n",
        "\n",
        "* **Flask/Django view function:**\n",
        "    * In your Flask/Django view function, use the `bokeh.embed.server_session` function. This function takes the URL of your Bokeh server and an optional session ID (if using sessions) and returns the necessary JavaScript code for embedding the plot.\n",
        "\n",
        "* **Web template:**\n",
        "    * Similar to the previous method, include the generated JavaScript code within the `<head>` section of your web template.\n",
        "\n",
        "This approach provides more flexibility for complex interactive plots that require real-time updates. However, it involves managing a separate Bokeh server process.\n",
        "\n",
        "**Choosing the right approach:**\n",
        "\n",
        "* For simple, static plots, using `components` is a straightforward way to achieve embedding.\n",
        "* For interactive plots requiring real-time updates or complex logic, consider using the Bokeh server approach.\n",
        "\n",
        "Remember to refer to the Bokeh documentation for detailed explanations and examples:\n",
        "\n",
        "* Embedding Bokeh content: [https://docs.bokeh.org/en/latest/docs/user_guide/output/embed.html](https://docs.bokeh.org/en/latest/docs/user_guide/output/embed.html)\n",
        "* Bokeh server: [https://docs.bokeh.org/en/latest/docs/user_guide/server.html](https://docs.bokeh.org/en/latest/docs/user_guide/server.html)"
      ],
      "metadata": {
        "id": "FEFOEIopXjHi"
      }
    },
    {
      "cell_type": "code",
      "source": [],
      "metadata": {
        "id": "mMv9xpazX3_I"
      },
      "execution_count": null,
      "outputs": []
    }
  ]
}