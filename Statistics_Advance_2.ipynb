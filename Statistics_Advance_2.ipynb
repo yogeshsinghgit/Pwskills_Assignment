{
  "cells": [
    {
      "cell_type": "markdown",
      "metadata": {
        "id": "view-in-github",
        "colab_type": "text"
      },
      "source": [
        "<a href=\"https://colab.research.google.com/github/yogeshsinghgit/Pwskills_Assignment/blob/main/Statistics_Advance_2.ipynb\" target=\"_parent\"><img src=\"https://colab.research.google.com/assets/colab-badge.svg\" alt=\"Open In Colab\"/></a>"
      ]
    },
    {
      "cell_type": "markdown",
      "metadata": {
        "id": "N11C--14a8I7"
      },
      "source": [
        "<a id=\"0\"></a>\n",
        "\n",
        "# <p style=\"padding:10px;background-color:#87CEEB ;margin:10;color:#000000;font-family:newtimeroman;font-size:100%;text-align:center;border-radius: 10px 10px ;overflow:hidden;font-weight:50\">Assignment  33: Statistics Advance 2 - Yogesh Singh</p>"
      ]
    },
    {
      "cell_type": "markdown",
      "metadata": {
        "id": "zxIw8NfEa8I-"
      },
      "source": [
        "[Assignment pdf link](09%20Mar_AssQ.pdf)"
      ]
    },
    {
      "cell_type": "markdown",
      "metadata": {
        "id": "YLNXjEX4a8I-"
      },
      "source": [
        "<a id=\"1\"></a>\n",
        "\n",
        "# <p style=\"padding:10px;background-color:#87CEEB ;margin:10;color:#000000;font-family:newtimeroman;font-size:100%;text-align:center;border-radius: 10px 10px ;overflow:hidden;font-weight:50\">Question 1</p>"
      ]
    },
    {
      "cell_type": "markdown",
      "metadata": {
        "id": "J-evRL3sa8I_"
      },
      "source": [
        "## Question 1 : What are the Probability Mass Function (PMF) and Probability Density Function (PDF)? Explain with an example.\n",
        "---"
      ]
    },
    {
      "cell_type": "markdown",
      "metadata": {
        "id": "2mOmgYKma8I_"
      },
      "source": [
        "## Answer :"
      ]
    },
    {
      "cell_type": "markdown",
      "metadata": {
        "id": "kI7jSBSKa8JA"
      },
      "source": [
        "## 1. Probability Mass Function (PMF)\n",
        "\n",
        "### The Probability Mass Function (PMF) and Probability Density Function (PDF) are both mathematical functions used to describe the probability distribution of a random variable.\n",
        "\n",
        "### The PMF is used for discrete random variables and gives the probability of each possible outcome. It is defined as follows:\n",
        "\n",
        "### PMF(x) = P(X = x)\n",
        "\n",
        "### where X is the random variable and x is a possible outcome. The PMF returns the probability of X being equal to x.\n",
        "\n",
        "### For example, suppose we have a fair six-sided die. The PMF for this die would be\n",
        "\n",
        "* PMF(1) = 1/6\n",
        "* PMF(2) = 1/6\n",
        "* PMF(3) = 1/6\n",
        "* PMF(4) = 1/6\n",
        "* PMF(5) = 1/6\n",
        "* PMF(6) = 1/6\n",
        "\n",
        "### This means that the probability of rolling a 1 is 1/6, the probability of rolling a 2 is 1/6, and so on. The PMF is a discrete function because the possible outcomes (1, 2, 3, 4, 5, and 6) are all distinct and countable."
      ]
    },
    {
      "cell_type": "markdown",
      "metadata": {
        "id": "4pEwtfDha8JA"
      },
      "source": [
        "## 2. Probability Density Function (PDF)\n",
        "\n",
        "### The PDF, on the other hand, is used for continuous random variables and gives the density of probability at each possible value of the variable. It is defined as follows:\n",
        "\n",
        "### PDF(x) = dF(x) / dx\n",
        "\n",
        "### where F(x) is the cumulative distribution function (CDF) of the variable. The PDF returns the density of probability at a particular value of X.\n",
        "\n",
        "### The PDF for Normally Distributed Variable is:\n",
        "\n",
        "$$ f(x) = \\frac{1}{\\sigma\\sqrt{2\\pi}} e^{-\\frac{(x-\\mu)^2}{2\\sigma^2}} $$\n",
        "\n",
        "### This means that the density of probability at a particular value of X can be calculated using this function. The PDF is a continuous function because there are an infinite number of possible values for X, and it is not possible to count them all."
      ]
    },
    {
      "cell_type": "markdown",
      "metadata": {
        "id": "GNrvNc0xa8JA"
      },
      "source": [
        "<a id=\"2\"></a>\n",
        "\n",
        "# <p style=\"padding:10px;background-color:#87CEEB ;margin:10;color:#000000;font-family:newtimeroman;font-size:100%;text-align:center;border-radius: 10px 10px ;overflow:hidden;font-weight:50\">Question 2</p>"
      ]
    },
    {
      "cell_type": "markdown",
      "metadata": {
        "id": "lZxABZEZa8JB"
      },
      "source": [
        "## Question 2 : What is Cumulative Density Function (CDF)? Explain with an example. Why CDF is used?\n",
        "---"
      ]
    },
    {
      "cell_type": "markdown",
      "metadata": {
        "id": "GHmcIZasa8JB"
      },
      "source": [
        "## Answer :"
      ]
    },
    {
      "cell_type": "markdown",
      "metadata": {
        "id": "He7azrd5a8JB"
      },
      "source": [
        "### The Cumulative Distribution Function (CDF) is a mathematical function used to describe the probability distribution of a random variable. The CDF is defined as the probability that the variable takes on a value less than or equal to a given value. In other words, it gives the cumulative probability of the random variable up to a certain point.\n",
        "\n",
        "### Mathematically, the CDF is expressed as:  $ F(x) = P(X \\leq x) $\n",
        "\n",
        "### where $X$ is the random variable and $x$ is a possible value."
      ]
    },
    {
      "cell_type": "markdown",
      "metadata": {
        "id": "vXlXzKB7a8JC"
      },
      "source": [
        "### Consider example of throwing a single dice\n",
        "$$ X = \\{1,2,3,4,5,6\\} $$\n",
        "\n",
        "### This is uniform distribution with $ p = 1/6 $\n",
        "\n",
        "### If i have been asked to calculate probability of dice showing number less than or equal to 4 then\n",
        "\n",
        "$$ F(4) = P(X \\leq 4) = P(1) + P(2) + P(3) + P(4) = 1/6 + 1/6 + 1/6 + 1/6 = 4/6 = 2/3 $$"
      ]
    },
    {
      "cell_type": "markdown",
      "metadata": {
        "id": "kNVPzKFca8JC"
      },
      "source": [
        "<a id=\"3\"></a>\n",
        "\n",
        "# <p style=\"padding:10px;background-color:#87CEEB ;margin:10;color:#000000;font-family:newtimeroman;font-size:100%;text-align:center;border-radius: 10px 10px ;overflow:hidden;font-weight:50\">Question 3</p>"
      ]
    },
    {
      "cell_type": "markdown",
      "metadata": {
        "id": "0n37FSwva8JC"
      },
      "source": [
        "## Question 3 : What are some examples of situations where the normal distribution might be used as a model? Explain how the parameters of the normal distribution relate to the shape of the distribution.\n",
        "---"
      ]
    },
    {
      "cell_type": "markdown",
      "metadata": {
        "id": "w6g7uicxa8JC"
      },
      "source": [
        "## Answer :"
      ]
    },
    {
      "cell_type": "markdown",
      "metadata": {
        "id": "cESafgOJa8JC"
      },
      "source": [
        "### The normal distribution, also known as the Gaussian distribution, is a commonly used probability distribution that is used to model a wide variety of real-world phenomena. Here are some examples of situations where the normal distribution might be used as a model:\n",
        "\n",
        "1. Height of a population: The normal distribution can be used to model the heights of a population. In this case, the mean and standard deviation of the distribution would reflect the average height and the degree of variation in height, respectively.\n",
        "\n",
        "2. IQ scores: IQ scores are often modeled using the normal distribution. In this case, the mean and standard deviation would reflect the average IQ score and the degree of variation in IQ scores, respectively.\n",
        "\n",
        "3. Measurement errors: The normal distribution can be used to model measurement errors in scientific experiments. The mean of the distribution would be zero (since the errors are assumed to be random and unbiased), and the standard deviation would reflect the degree of variability in the errors."
      ]
    },
    {
      "cell_type": "markdown",
      "metadata": {
        "id": "-ZeslSHZa8JC"
      },
      "source": [
        "### The normal distribution is characterized by two parameters: the mean (μ) and the standard deviation (σ). The mean determines the location of the peak of the distribution, and the standard deviation determines the width of the distribution. Specifically, the greater the standard deviation, the wider the distribution will be."
      ]
    },
    {
      "cell_type": "markdown",
      "metadata": {
        "id": "e1EtgTwra8JD"
      },
      "source": [
        "### The normal distribution is a bell-shaped curve that is symmetrical around the mean. About 68% of the data falls within one standard deviation of the mean, about 95% falls within two standard deviations of the mean, and about 99.7% falls within three standard deviations of the mean. These properties make the normal distribution a convenient model for a wide variety of real-world phenomena."
      ]
    },
    {
      "cell_type": "markdown",
      "metadata": {
        "id": "41FB6qgsa8JD"
      },
      "source": [
        "![Normal Distribution Standard Deviation](https://mathbitsnotebook.com/Algebra2/Statistics/NormalBunch2.jpg)"
      ]
    },
    {
      "cell_type": "markdown",
      "metadata": {
        "id": "inHYPsIma8JD"
      },
      "source": [
        "<a id=\"4\"></a>\n",
        "\n",
        "# <p style=\"padding:10px;background-color:#87CEEB ;margin:10;color:#000000;font-family:newtimeroman;font-size:100%;text-align:center;border-radius: 10px 10px ;overflow:hidden;font-weight:50\">Question 4</p>"
      ]
    },
    {
      "cell_type": "markdown",
      "metadata": {
        "id": "2cksN5dHa8JD"
      },
      "source": [
        "## Question 4 : Explain the importance of Normal Distribution. Give a few real-life examples of Normal Distribution.\n",
        "---"
      ]
    },
    {
      "cell_type": "markdown",
      "metadata": {
        "id": "lHdMzsYIa8JD"
      },
      "source": [
        "## Answer :"
      ]
    },
    {
      "cell_type": "markdown",
      "metadata": {
        "id": "rvZa_7GOa8JE"
      },
      "source": [
        "### Normal distribution, also known as Gaussian distribution, is a probability distribution that is widely used in statistics, data analysis, and modeling. It is an important concept in statistics because many natural phenomena can be modeled using normal distributions.\n",
        "\n",
        "### The importance of normal distribution lies in its usefulness in approximating many real-world processes, allowing us to make predictions, estimate probabilities, and analyze data. The following are a few examples of real-life phenomena that can be modeled using normal distribution:\n",
        "\n",
        "1. Body temperature: The body temperature of a healthy human is normally distributed with an average of 98.6 degrees Fahrenheit and a standard deviation of about 0.7 degrees Farenheit.\n",
        "\n",
        "2. Reaction time: The reaction times of individuals can be modeled using normal distribution. Most people have an average reaction time, with fewer people having very fast or very slow reaction times.\n",
        "\n",
        "3. Annual rainfall: The amount of rainfall in a particular area over a year can be modeled using normal distribution, with most years having average rainfall and fewer years experiencing extreme droughts or floods.\n",
        "\n",
        "4. Hospital stays: The length of time a patient stays in a hospital can be modeled using normal distribution, with most patients staying for an average length of time and fewer patients having very short or very long stays.\n",
        "\n",
        "5. Income distribution: In many countries, income distribution can be modeled using a log-normal distribution, which is a variant of the normal distribution. This means that most people have an average income, with fewer people having very low or very high incomes.\n",
        "\n",
        "6. Test-retest reliability: In psychology, the test-retest reliability of psychological tests can be modeled using normal distribution. This measures the consistency of test scores when the same test is administered to the same individual on different occasions.\n",
        "\n",
        "### These are just a few examples of how normal distribution can be used to model a wide variety of real-life phenomena."
      ]
    },
    {
      "cell_type": "markdown",
      "metadata": {
        "id": "VBvAvaQSa8JE"
      },
      "source": [
        "<a id=\"5\"></a>\n",
        "\n",
        "# <p style=\"padding:10px;background-color:#87CEEB ;margin:10;color:#000000;font-family:newtimeroman;font-size:100%;text-align:center;border-radius: 10px 10px ;overflow:hidden;font-weight:50\">Question 5</p>"
      ]
    },
    {
      "cell_type": "markdown",
      "metadata": {
        "id": "pDmuk-6Ba8JE"
      },
      "source": [
        "## Question 5 : What is Bernoulli Distribution? Give an Example. What is the difference between Bernoulli Distribution and Binomial Distribution\n",
        "---"
      ]
    },
    {
      "cell_type": "markdown",
      "metadata": {
        "id": "1FZM4exCa8JE"
      },
      "source": [
        "## Answer :"
      ]
    },
    {
      "cell_type": "markdown",
      "metadata": {
        "id": "7bF6m15-a8JE"
      },
      "source": [
        "### Bernoulli distribution is a probability distribution that represents the outcome of a binary experiment, where the outcome can be either a success or a failure. It is named after Swiss mathematician Jacob Bernoulli, who developed the concept in the 17th century.\n",
        "\n",
        "### The Bernoulli distribution is characterized by a single parameter p, which represents the probability of success in a single trial. The probability of failure is given by q = 1-p. The probability mass function (PMF) of the Bernoulli distribution is given by:\n",
        "\n",
        "$$ P(X = x) = p^x * (1-p)^{(1-x)} $$\n",
        "\n",
        "\n"
      ]
    },
    {
      "cell_type": "markdown",
      "metadata": {
        "id": "rc6wLARva8JE"
      },
      "source": [
        "## Differences in Bernoulli and Binomial Distribution are as below :\n",
        "\n",
        "|          | Bernoulli distribution | Binomial distribution |\n",
        "|----------|-----------------------|-----------------------|\n",
        "| Outcome  | Single trial          | Multiple trials        |\n",
        "| Parameters | $p$ (probability of success) | $n$ (number of trials) and $p$ (probability of success in each trial) |\n",
        "| Random variable | $X = 1$ (success) or $X = 0$ (failure) | $X$ = number of successes in $n$ trials |\n",
        "| Probability mass function (PMF) | $P(X = x) = p^x \\cdot (1-p)^{1-x}$, for $x = 0$ or $x = 1$ | $P(X = k) = {n \\choose k} \\cdot p^k \\cdot (1-p)^{n-k}$, for $k = 0, 1, 2, \\ldots, n$ |\n",
        "| Mean | $E(X) = p$ | $E(X) = np$ |\n",
        "| Variance | $\\operatorname{Var}(X) = p(1-p)$ | $\\operatorname{Var}(X) = np(1-p)$ |\n"
      ]
    },
    {
      "cell_type": "markdown",
      "metadata": {
        "id": "jFjRHz_pa8JF"
      },
      "source": [
        "<a id=\"6\"></a>\n",
        "\n",
        "# <p style=\"padding:10px;background-color:#87CEEB ;margin:10;color:#000000;font-family:newtimeroman;font-size:100%;text-align:center;border-radius: 10px 10px ;overflow:hidden;font-weight:50\">Question 6</p>"
      ]
    },
    {
      "cell_type": "markdown",
      "metadata": {
        "id": "nlAIL8Z6a8JF"
      },
      "source": [
        "## Question 6 : Consider a dataset with a mean of 50 and a standard deviation of 10. If we assume that the dataset is normally distributed, what is the probability that a randomly selected observation will be greater than 60? Use the appropriate formula and show your calculation\n",
        "---"
      ]
    },
    {
      "cell_type": "markdown",
      "metadata": {
        "id": "opgj4OPAa8JF"
      },
      "source": [
        "## Answer :"
      ]
    },
    {
      "cell_type": "markdown",
      "metadata": {
        "id": "LaYau5hja8JF"
      },
      "source": [
        "### To find the probability that a randomly selected observation from a normal distribution with mean $\\mu=50$ and standard deviation $\\sigma=10$ is greater than 60, we can use the standard normal distribution and the Z-score formula."
      ]
    },
    {
      "cell_type": "markdown",
      "metadata": {
        "id": "MCpCH5QGa8JG"
      },
      "source": [
        "### The Z-score formula converts any value from a normal distribution to a standard normal distribution with mean 0 and standard deviation 1. The Z-score is calculated as:\n",
        "\n",
        "$$ Z = \\frac{X - \\mu}{\\sigma} $$\n",
        "\n",
        "### Where X is the observed value, $\\mu$ is the mean, and $\\sigma$ is the standard deviation."
      ]
    },
    {
      "cell_type": "markdown",
      "metadata": {
        "id": "FDa8Zd3da8JG"
      },
      "source": [
        "### In this case, we want to find the probability that a randomly selected observation will be greater than 60. We can calculate the Z-score for 60 as:\n",
        "\n",
        "$$ Z = \\frac{60 - 50}{10} = 1 $$\n",
        "\n",
        "### This means that 60 is one standard deviation above the mean of 50."
      ]
    },
    {
      "cell_type": "markdown",
      "metadata": {
        "id": "0YminwN4a8JG"
      },
      "source": [
        "### Now, we can use a standard normal distribution Z table or a calculator to find the probability of a value being greater than 1 in a standard normal distribution."
      ]
    },
    {
      "cell_type": "markdown",
      "metadata": {
        "id": "RRwd1y8Ia8JG"
      },
      "source": [
        "![Z Scores](Z-scores.jpg)\n",
        "\n",
        "[Z table PDF Link](https://www.math.arizona.edu/~rsims/ma464/standardnormaltable.pdf)"
      ]
    },
    {
      "cell_type": "markdown",
      "metadata": {
        "id": "v7HTsdIfa8JG"
      },
      "source": [
        "### In Above Table for Z=1 we have Left Side Area = 0.84134\n",
        "\n",
        "$$ P(Z \\leq 1) = 0.84134 $$\n",
        "$$ P(Z > 1) = 1 -P(Z \\leq 1) = 1 - 0.84134 = 0.15866 $$"
      ]
    },
    {
      "cell_type": "markdown",
      "metadata": {
        "id": "kPQpfGFha8JG"
      },
      "source": [
        "### Hence for Normal distribution with Mean = 50 , Standard Deviation = 10 , Probability that Values is greater than 60 is **0.15866**"
      ]
    },
    {
      "cell_type": "markdown",
      "metadata": {
        "id": "QFDQvCTja8JH"
      },
      "source": [
        "### Verifying with scipy.stats"
      ]
    },
    {
      "cell_type": "code",
      "execution_count": null,
      "metadata": {
        "id": "S21Ztdiaa8JH",
        "outputId": "7c8a9895-92a0-45d0-f682-d0a9f5cc646b"
      },
      "outputs": [
        {
          "name": "stdout",
          "output_type": "stream",
          "text": [
            "The probability of an observation being greater than 60 is: 0.15866\n"
          ]
        }
      ],
      "source": [
        "from scipy.stats import norm\n",
        "\n",
        "mean = 50\n",
        "std_dev = 10\n",
        "observed_value = 60\n",
        "\n",
        "# calculate the z-score\n",
        "z_score = (observed_value - mean) / std_dev\n",
        "\n",
        "# calculate the probability using the cumulative distribution function (cdf)\n",
        "probability = 1 - norm.cdf(z_score)\n",
        "\n",
        "print(\"The probability of an observation being greater than 60 is:\", round(probability,5))"
      ]
    },
    {
      "cell_type": "markdown",
      "metadata": {
        "id": "vH-tjEB3a8JK"
      },
      "source": [
        "<a id=\"7\"></a>\n",
        "\n",
        "# <p style=\"padding:10px;background-color:#87CEEB ;margin:10;color:#000000;font-family:newtimeroman;font-size:100%;text-align:center;border-radius: 10px 10px ;overflow:hidden;font-weight:50\">Question 7</p>"
      ]
    },
    {
      "cell_type": "markdown",
      "metadata": {
        "id": "wxtj5bSta8JK"
      },
      "source": [
        "## Question 7 : Explain uniform Distribution with an example.\n",
        "---"
      ]
    },
    {
      "cell_type": "markdown",
      "metadata": {
        "id": "tJr9dDEba8JK"
      },
      "source": [
        "## Answer :"
      ]
    },
    {
      "cell_type": "markdown",
      "metadata": {
        "id": "m8f0WFcpa8JK"
      },
      "source": [
        "### Uniform distribution is a probability distribution where every possible outcome has an equal chance of occurring. This means that the values of a random variable are spread evenly over a given interval or range.\n",
        "\n",
        "### A classic example of a uniform distribution is the roll of a fair die. The die has six faces, each labeled with a number from 1 to 6, and all the faces are equally likely to come up when the die is rolled. Therefore, the probability of each outcome is 1/6, and this distribution is called a discrete uniform distribution.\n",
        "\n",
        "### Lottery or raffle draws - If a lottery or raffle is conducted fairly, where each ticket has an equal chance of being drawn, the distribution of winning ticket numbers follows a discrete uniform distribution."
      ]
    },
    {
      "cell_type": "markdown",
      "metadata": {
        "id": "o9su_v1Ua8JK"
      },
      "source": [
        "![Uniform Distribution](https://analystprep.com/cfa-level-1-exam/wp-content/uploads/2021/09/cfa-level-1-continuous-uniform-random-variable-1.jpg)"
      ]
    },
    {
      "cell_type": "markdown",
      "metadata": {
        "id": "DfkqfImva8JK"
      },
      "source": [
        "<a id=\"8\"></a>\n",
        "\n",
        "# <p style=\"padding:10px;background-color:#87CEEB ;margin:10;color:#000000;font-family:newtimeroman;font-size:100%;text-align:center;border-radius: 10px 10px ;overflow:hidden;font-weight:50\">Question 8</p>"
      ]
    },
    {
      "cell_type": "markdown",
      "metadata": {
        "id": "jKgunC1fa8JK"
      },
      "source": [
        "## Question 8 : What is the Z score? State the importance of the Z score.\n",
        "---"
      ]
    },
    {
      "cell_type": "markdown",
      "metadata": {
        "id": "E71Y-bLYa8JK"
      },
      "source": [
        "## Answer :"
      ]
    },
    {
      "cell_type": "markdown",
      "metadata": {
        "id": "ZzJ8nCMka8JL"
      },
      "source": [
        "### A Z score (or standard score) is a measure of how many standard deviations an observation or data point is away from the mean of a population. The formula for calculating the Z score is:\n",
        "\n",
        "$$Z = \\frac{x - \\mu}{\\sigma}$$\n",
        "\n",
        "### where x is the observed value, μ is the population mean, and σ is the population standard deviation.\n",
        "\n",
        "### The importance of Z scores lies in their ability to standardize different data sets so they can be compared on a common scale. Z scores allow us to compare values from different populations or samples and see how much they differ from their respective means in standard deviation units. This makes it easier to interpret the significance of the differences between the data sets.\n",
        "\n",
        "### In addition, Z scores can be used to calculate probabilities for a normal distribution using the standard normal distribution table. This table provides the probability of finding a value within a certain number of standard deviations from the mean.\n",
        "\n",
        "### Z scores are commonly used in various fields such as statistics, finance, social sciences, and engineering for data analysis, hypothesis testing, and quality control. They are a powerful tool for analyzing and comparing data across different populations or samples."
      ]
    },
    {
      "cell_type": "markdown",
      "metadata": {
        "id": "jAlwLsBja8JL"
      },
      "source": [
        "![Z Scores Explained](https://i.ytimg.com/vi/Zoi15vIgDQ8/maxresdefault.jpg)"
      ]
    },
    {
      "cell_type": "markdown",
      "metadata": {
        "id": "u_nJPi4ua8JL"
      },
      "source": [
        "<a id=\"9\"></a>\n",
        "\n",
        "# <p style=\"padding:10px;background-color:#87CEEB ;margin:10;color:#000000;font-family:newtimeroman;font-size:100%;text-align:center;border-radius: 10px 10px ;overflow:hidden;font-weight:50\">Question 9</p>"
      ]
    },
    {
      "cell_type": "markdown",
      "metadata": {
        "id": "TN3nPUaNa8JL"
      },
      "source": [
        "## Question 9 : What is Central Limit Theorem? State the significance of the Central Limit Theorem.\n",
        "---"
      ]
    },
    {
      "cell_type": "markdown",
      "metadata": {
        "id": "uR5t6WdVa8JL"
      },
      "source": [
        "## Answer :"
      ]
    },
    {
      "cell_type": "markdown",
      "metadata": {
        "id": "geQ2_6a9a8JL"
      },
      "source": [
        "### The Central Limit Theorem (CLT) is a fundamental concept in statistics that describes the behavior of the means of a large number of independent and identically distributed random variables, regardless of the distribution of the underlying variables.\n",
        "\n",
        "### The Central Limit Theorem states that if we take a large number of random samples from any distribution with a finite mean and variance, the sampling distribution of the means will be approximately normally distributed, regardless of the shape of the original distribution. This means that the means of the samples will tend to cluster around the true population mean, and the spread of the distribution of means will be reduced as the sample size increases.\n",
        "\n",
        "### The significance of the Central Limit Theorem lies in its wide applicability in statistics and its practical implications. Some of the important applications of the Central Limit Theorem are:\n",
        "\n",
        "1. Hypothesis testing - The Central Limit Theorem is used to test hypotheses about the means of populations, where the distribution of the population is unknown or non-normal.\n",
        "\n",
        "2. Confidence intervals - The Central Limit Theorem is used to construct confidence intervals for the population mean, which helps in estimating the true mean of a population based on a sample mean.\n",
        "\n",
        "3. Sample size determination - The Central Limit Theorem is used to determine the sample size required for a given level of precision in estimating the population mean.\n",
        "\n",
        "4. Quality control - The Central Limit Theorem is used to monitor the quality of production processes by measuring the means of samples and comparing them to the population mean.\n",
        "\n",
        "### In summary, the Central Limit Theorem is an essential concept in statistics that enables us to make inferences about populations based on samples, regardless of the underlying distribution of the data. It has important applications in various fields, making it a crucial tool for data analysis and decision-making."
      ]
    },
    {
      "cell_type": "markdown",
      "metadata": {
        "id": "4Ofl1Ngpa8JM"
      },
      "source": [
        "![CLT](https://cdn.corporatefinanceinstitute.com/assets/Central-Limit-Theorem-CLT-Diagram.png)"
      ]
    },
    {
      "cell_type": "markdown",
      "metadata": {
        "id": "gBbTbKI5a8JM"
      },
      "source": [
        "<a id=\"10\"></a>\n",
        "\n",
        "# <p style=\"padding:10px;background-color:#87CEEB ;margin:10;color:#000000;font-family:newtimeroman;font-size:100%;text-align:center;border-radius: 10px 10px ;overflow:hidden;font-weight:50\">Question 10</p>"
      ]
    },
    {
      "cell_type": "markdown",
      "metadata": {
        "id": "8bYmLOz8a8JM"
      },
      "source": [
        "## Question 10 : State the assumptions of the Central Limit Theorem.\n",
        "---"
      ]
    },
    {
      "cell_type": "markdown",
      "metadata": {
        "id": "uo7KktMoa8JM"
      },
      "source": [
        "## Answer :"
      ]
    },
    {
      "cell_type": "markdown",
      "metadata": {
        "id": "KK4T1q9La8JM"
      },
      "source": [
        "### The Central Limit Theorem (CLT) has some assumptions that need to be satisfied for it to hold. The assumptions of the Central Limit Theorem are as follows:\n",
        "\n",
        "1. Independence - The samples must be independent of each other. In other words, the value of one sample should not depend on the value of another sample.\n",
        "\n",
        "2. Sample size - The sample size should be large enough. Generally, a sample size of at least 30 is considered to be large enough for the Central Limit Theorem to hold.\n",
        "\n",
        "3. Random sampling - The samples should be selected randomly from the population.\n",
        "\n",
        "4. Finite population or replacement - The population should be finite or the sampling should be done with replacement. If the population is infinite and the sampling is done without replacement, then the Central Limit Theorem may not hold.\n",
        "\n",
        "5. Finite mean and variance - The population should have a finite mean and variance. If the mean or variance is infinite, then the Central Limit Theorem may not hold.\n",
        "\n",
        "### If these assumptions are satisfied, then the Central Limit Theorem can be applied to the data to make inferences about the population mean or other parameters. It is important to note that violating any of these assumptions can lead to incorrect results, so it is essential to check the validity of the assumptions before applying the Central Limit Theorem."
      ]
    }
  ],
  "metadata": {
    "kernelspec": {
      "display_name": "venv",
      "language": "python",
      "name": "python3"
    },
    "language_info": {
      "codemirror_mode": {
        "name": "ipython",
        "version": 3
      },
      "file_extension": ".py",
      "mimetype": "text/x-python",
      "name": "python",
      "nbconvert_exporter": "python",
      "pygments_lexer": "ipython3",
      "version": "3.10.7"
    },
    "orig_nbformat": 4,
    "colab": {
      "provenance": [],
      "include_colab_link": true
    }
  },
  "nbformat": 4,
  "nbformat_minor": 0
}