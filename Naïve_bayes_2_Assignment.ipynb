{
  "nbformat": 4,
  "nbformat_minor": 0,
  "metadata": {
    "colab": {
      "provenance": [],
      "authorship_tag": "ABX9TyNVJbDDyKPgVIkVh9zcVcoo",
      "include_colab_link": true
    },
    "kernelspec": {
      "name": "python3",
      "display_name": "Python 3"
    },
    "language_info": {
      "name": "python"
    }
  },
  "cells": [
    {
      "cell_type": "markdown",
      "metadata": {
        "id": "view-in-github",
        "colab_type": "text"
      },
      "source": [
        "<a href=\"https://colab.research.google.com/github/yogeshsinghgit/Pwskills_Assignment/blob/main/Na%C3%AFve_bayes_2_Assignment.ipynb\" target=\"_parent\"><img src=\"https://colab.research.google.com/assets/colab-badge.svg\" alt=\"Open In Colab\"/></a>"
      ]
    },
    {
      "cell_type": "markdown",
      "source": [
        "[Assignment Link](https://drive.google.com/file/d/1f0h1BGTUUGytf1bPJ5AY4XYU0F75J4vP/view)\n",
        "\n",
        "[Dataset Link](https://archive.ics.uci.edu/dataset/94/spambase)"
      ],
      "metadata": {
        "id": "iZJ9KnAOLZCZ"
      }
    },
    {
      "cell_type": "markdown",
      "source": [
        "Q5, Download Spambase Dataset from UCI Library and implement all variant of Naive Bayes Algorithms on it.\n",
        "Compare the results and write your findings."
      ],
      "metadata": {
        "id": "p7QgAIVFLhD-"
      }
    },
    {
      "cell_type": "markdown",
      "source": [
        "## Import Libraries"
      ],
      "metadata": {
        "id": "BP27RQCHL0Li"
      }
    },
    {
      "cell_type": "code",
      "execution_count": 35,
      "metadata": {
        "id": "mIFCD-KCLQ1R"
      },
      "outputs": [],
      "source": [
        "import pandas as pd\n",
        "import numpy as np\n",
        "import matplotlib.pyplot as plt\n",
        "\n",
        "import seaborn as sns\n",
        "sns.set()\n",
        "\n",
        "import warnings\n",
        "warnings.filterwarnings(\"ignore\")\n",
        "\n",
        "\n",
        "from sklearn.model_selection import train_test_split, GridSearchCV\n",
        "from sklearn.naive_bayes import GaussianNB, BernoulliNB, MultinomialNB\n",
        "\n",
        "from sklearn.metrics import accuracy_score, classification_report, f1_score"
      ]
    },
    {
      "cell_type": "code",
      "source": [
        "df = pd.read_csv('spambase.data', header=None)"
      ],
      "metadata": {
        "id": "6Ovb4dxOLeLN"
      },
      "execution_count": 5,
      "outputs": []
    },
    {
      "cell_type": "code",
      "source": [
        "# Assign the column labels\n",
        "df.columns = [\n",
        "    'word_freq_make',\n",
        "    'word_freq_address',\n",
        "    'word_freq_all',\n",
        "    'word_freq_3d',\n",
        "    'word_freq_our',\n",
        "    'word_freq_over',\n",
        "    'word_freq_remove',\n",
        "    'word_freq_internet',\n",
        "    'word_freq_order',\n",
        "    'word_freq_mail',\n",
        "    'word_freq_receive',\n",
        "    'word_freq_will',\n",
        "    'word_freq_people',\n",
        "    'word_freq_report',\n",
        "    'word_freq_addresses',\n",
        "    'word_freq_free',\n",
        "    'word_freq_business',\n",
        "    'word_freq_email',\n",
        "    'word_freq_you',\n",
        "    'word_freq_credit',\n",
        "    'word_freq_your',\n",
        "    'word_freq_font',\n",
        "    'word_freq_000',\n",
        "    'word_freq_money',\n",
        "    'word_freq_hp',\n",
        "    'word_freq_hpl',\n",
        "    'word_freq_george',\n",
        "    'word_freq_650',\n",
        "    'word_freq_lab',\n",
        "    'word_freq_labs',\n",
        "    'word_freq_telnet',\n",
        "    'word_freq_857',\n",
        "    'word_freq_data',\n",
        "    'word_freq_415',\n",
        "    'word_freq_85',\n",
        "    'word_freq_technology',\n",
        "    'word_freq_1999',\n",
        "    'word_freq_parts',\n",
        "    'word_freq_pm',\n",
        "    'word_freq_direct',\n",
        "    'word_freq_cs',\n",
        "    'word_freq_meeting',\n",
        "    'word_freq_original',\n",
        "    'word_freq_project',\n",
        "    'word_freq_re',\n",
        "    'word_freq_edu',\n",
        "    'word_freq_table',\n",
        "    'word_freq_conference',\n",
        "    'char_freq_;',\n",
        "    'char_freq_(',\n",
        "    'char_freq_[',\n",
        "    'char_freq_!',\n",
        "    'char_freq_$',\n",
        "    'char_freq_#',\n",
        "    'capital_run_length_average',\n",
        "    'capital_run_length_longest',\n",
        "    'capital_run_length_total',\n",
        "    'spam'\n",
        "]"
      ],
      "metadata": {
        "id": "iy223DcmNpXh"
      },
      "execution_count": 9,
      "outputs": []
    },
    {
      "cell_type": "code",
      "source": [
        "df.head()"
      ],
      "metadata": {
        "colab": {
          "base_uri": "https://localhost:8080/",
          "height": 255
        },
        "id": "SqyCs8vsM84H",
        "outputId": "ce5de201-63df-4611-b1c4-5b5e76e900bd"
      },
      "execution_count": 10,
      "outputs": [
        {
          "output_type": "execute_result",
          "data": {
            "text/plain": [
              "   word_freq_make  word_freq_address  word_freq_all  word_freq_3d  \\\n",
              "0            0.00               0.64           0.64           0.0   \n",
              "1            0.21               0.28           0.50           0.0   \n",
              "2            0.06               0.00           0.71           0.0   \n",
              "3            0.00               0.00           0.00           0.0   \n",
              "4            0.00               0.00           0.00           0.0   \n",
              "\n",
              "   word_freq_our  word_freq_over  word_freq_remove  word_freq_internet  \\\n",
              "0           0.32            0.00              0.00                0.00   \n",
              "1           0.14            0.28              0.21                0.07   \n",
              "2           1.23            0.19              0.19                0.12   \n",
              "3           0.63            0.00              0.31                0.63   \n",
              "4           0.63            0.00              0.31                0.63   \n",
              "\n",
              "   word_freq_order  word_freq_mail  ...  char_freq_;  char_freq_(  \\\n",
              "0             0.00            0.00  ...         0.00        0.000   \n",
              "1             0.00            0.94  ...         0.00        0.132   \n",
              "2             0.64            0.25  ...         0.01        0.143   \n",
              "3             0.31            0.63  ...         0.00        0.137   \n",
              "4             0.31            0.63  ...         0.00        0.135   \n",
              "\n",
              "   char_freq_[  char_freq_!  char_freq_$  char_freq_#  \\\n",
              "0          0.0        0.778        0.000        0.000   \n",
              "1          0.0        0.372        0.180        0.048   \n",
              "2          0.0        0.276        0.184        0.010   \n",
              "3          0.0        0.137        0.000        0.000   \n",
              "4          0.0        0.135        0.000        0.000   \n",
              "\n",
              "   capital_run_length_average  capital_run_length_longest  \\\n",
              "0                       3.756                          61   \n",
              "1                       5.114                         101   \n",
              "2                       9.821                         485   \n",
              "3                       3.537                          40   \n",
              "4                       3.537                          40   \n",
              "\n",
              "   capital_run_length_total  spam  \n",
              "0                       278     1  \n",
              "1                      1028     1  \n",
              "2                      2259     1  \n",
              "3                       191     1  \n",
              "4                       191     1  \n",
              "\n",
              "[5 rows x 58 columns]"
            ],
            "text/html": [
              "\n",
              "  <div id=\"df-d379ad64-7657-4e51-a44d-331dec7723ec\" class=\"colab-df-container\">\n",
              "    <div>\n",
              "<style scoped>\n",
              "    .dataframe tbody tr th:only-of-type {\n",
              "        vertical-align: middle;\n",
              "    }\n",
              "\n",
              "    .dataframe tbody tr th {\n",
              "        vertical-align: top;\n",
              "    }\n",
              "\n",
              "    .dataframe thead th {\n",
              "        text-align: right;\n",
              "    }\n",
              "</style>\n",
              "<table border=\"1\" class=\"dataframe\">\n",
              "  <thead>\n",
              "    <tr style=\"text-align: right;\">\n",
              "      <th></th>\n",
              "      <th>word_freq_make</th>\n",
              "      <th>word_freq_address</th>\n",
              "      <th>word_freq_all</th>\n",
              "      <th>word_freq_3d</th>\n",
              "      <th>word_freq_our</th>\n",
              "      <th>word_freq_over</th>\n",
              "      <th>word_freq_remove</th>\n",
              "      <th>word_freq_internet</th>\n",
              "      <th>word_freq_order</th>\n",
              "      <th>word_freq_mail</th>\n",
              "      <th>...</th>\n",
              "      <th>char_freq_;</th>\n",
              "      <th>char_freq_(</th>\n",
              "      <th>char_freq_[</th>\n",
              "      <th>char_freq_!</th>\n",
              "      <th>char_freq_$</th>\n",
              "      <th>char_freq_#</th>\n",
              "      <th>capital_run_length_average</th>\n",
              "      <th>capital_run_length_longest</th>\n",
              "      <th>capital_run_length_total</th>\n",
              "      <th>spam</th>\n",
              "    </tr>\n",
              "  </thead>\n",
              "  <tbody>\n",
              "    <tr>\n",
              "      <th>0</th>\n",
              "      <td>0.00</td>\n",
              "      <td>0.64</td>\n",
              "      <td>0.64</td>\n",
              "      <td>0.0</td>\n",
              "      <td>0.32</td>\n",
              "      <td>0.00</td>\n",
              "      <td>0.00</td>\n",
              "      <td>0.00</td>\n",
              "      <td>0.00</td>\n",
              "      <td>0.00</td>\n",
              "      <td>...</td>\n",
              "      <td>0.00</td>\n",
              "      <td>0.000</td>\n",
              "      <td>0.0</td>\n",
              "      <td>0.778</td>\n",
              "      <td>0.000</td>\n",
              "      <td>0.000</td>\n",
              "      <td>3.756</td>\n",
              "      <td>61</td>\n",
              "      <td>278</td>\n",
              "      <td>1</td>\n",
              "    </tr>\n",
              "    <tr>\n",
              "      <th>1</th>\n",
              "      <td>0.21</td>\n",
              "      <td>0.28</td>\n",
              "      <td>0.50</td>\n",
              "      <td>0.0</td>\n",
              "      <td>0.14</td>\n",
              "      <td>0.28</td>\n",
              "      <td>0.21</td>\n",
              "      <td>0.07</td>\n",
              "      <td>0.00</td>\n",
              "      <td>0.94</td>\n",
              "      <td>...</td>\n",
              "      <td>0.00</td>\n",
              "      <td>0.132</td>\n",
              "      <td>0.0</td>\n",
              "      <td>0.372</td>\n",
              "      <td>0.180</td>\n",
              "      <td>0.048</td>\n",
              "      <td>5.114</td>\n",
              "      <td>101</td>\n",
              "      <td>1028</td>\n",
              "      <td>1</td>\n",
              "    </tr>\n",
              "    <tr>\n",
              "      <th>2</th>\n",
              "      <td>0.06</td>\n",
              "      <td>0.00</td>\n",
              "      <td>0.71</td>\n",
              "      <td>0.0</td>\n",
              "      <td>1.23</td>\n",
              "      <td>0.19</td>\n",
              "      <td>0.19</td>\n",
              "      <td>0.12</td>\n",
              "      <td>0.64</td>\n",
              "      <td>0.25</td>\n",
              "      <td>...</td>\n",
              "      <td>0.01</td>\n",
              "      <td>0.143</td>\n",
              "      <td>0.0</td>\n",
              "      <td>0.276</td>\n",
              "      <td>0.184</td>\n",
              "      <td>0.010</td>\n",
              "      <td>9.821</td>\n",
              "      <td>485</td>\n",
              "      <td>2259</td>\n",
              "      <td>1</td>\n",
              "    </tr>\n",
              "    <tr>\n",
              "      <th>3</th>\n",
              "      <td>0.00</td>\n",
              "      <td>0.00</td>\n",
              "      <td>0.00</td>\n",
              "      <td>0.0</td>\n",
              "      <td>0.63</td>\n",
              "      <td>0.00</td>\n",
              "      <td>0.31</td>\n",
              "      <td>0.63</td>\n",
              "      <td>0.31</td>\n",
              "      <td>0.63</td>\n",
              "      <td>...</td>\n",
              "      <td>0.00</td>\n",
              "      <td>0.137</td>\n",
              "      <td>0.0</td>\n",
              "      <td>0.137</td>\n",
              "      <td>0.000</td>\n",
              "      <td>0.000</td>\n",
              "      <td>3.537</td>\n",
              "      <td>40</td>\n",
              "      <td>191</td>\n",
              "      <td>1</td>\n",
              "    </tr>\n",
              "    <tr>\n",
              "      <th>4</th>\n",
              "      <td>0.00</td>\n",
              "      <td>0.00</td>\n",
              "      <td>0.00</td>\n",
              "      <td>0.0</td>\n",
              "      <td>0.63</td>\n",
              "      <td>0.00</td>\n",
              "      <td>0.31</td>\n",
              "      <td>0.63</td>\n",
              "      <td>0.31</td>\n",
              "      <td>0.63</td>\n",
              "      <td>...</td>\n",
              "      <td>0.00</td>\n",
              "      <td>0.135</td>\n",
              "      <td>0.0</td>\n",
              "      <td>0.135</td>\n",
              "      <td>0.000</td>\n",
              "      <td>0.000</td>\n",
              "      <td>3.537</td>\n",
              "      <td>40</td>\n",
              "      <td>191</td>\n",
              "      <td>1</td>\n",
              "    </tr>\n",
              "  </tbody>\n",
              "</table>\n",
              "<p>5 rows × 58 columns</p>\n",
              "</div>\n",
              "    <div class=\"colab-df-buttons\">\n",
              "\n",
              "  <div class=\"colab-df-container\">\n",
              "    <button class=\"colab-df-convert\" onclick=\"convertToInteractive('df-d379ad64-7657-4e51-a44d-331dec7723ec')\"\n",
              "            title=\"Convert this dataframe to an interactive table.\"\n",
              "            style=\"display:none;\">\n",
              "\n",
              "  <svg xmlns=\"http://www.w3.org/2000/svg\" height=\"24px\" viewBox=\"0 -960 960 960\">\n",
              "    <path d=\"M120-120v-720h720v720H120Zm60-500h600v-160H180v160Zm220 220h160v-160H400v160Zm0 220h160v-160H400v160ZM180-400h160v-160H180v160Zm440 0h160v-160H620v160ZM180-180h160v-160H180v160Zm440 0h160v-160H620v160Z\"/>\n",
              "  </svg>\n",
              "    </button>\n",
              "\n",
              "  <style>\n",
              "    .colab-df-container {\n",
              "      display:flex;\n",
              "      gap: 12px;\n",
              "    }\n",
              "\n",
              "    .colab-df-convert {\n",
              "      background-color: #E8F0FE;\n",
              "      border: none;\n",
              "      border-radius: 50%;\n",
              "      cursor: pointer;\n",
              "      display: none;\n",
              "      fill: #1967D2;\n",
              "      height: 32px;\n",
              "      padding: 0 0 0 0;\n",
              "      width: 32px;\n",
              "    }\n",
              "\n",
              "    .colab-df-convert:hover {\n",
              "      background-color: #E2EBFA;\n",
              "      box-shadow: 0px 1px 2px rgba(60, 64, 67, 0.3), 0px 1px 3px 1px rgba(60, 64, 67, 0.15);\n",
              "      fill: #174EA6;\n",
              "    }\n",
              "\n",
              "    .colab-df-buttons div {\n",
              "      margin-bottom: 4px;\n",
              "    }\n",
              "\n",
              "    [theme=dark] .colab-df-convert {\n",
              "      background-color: #3B4455;\n",
              "      fill: #D2E3FC;\n",
              "    }\n",
              "\n",
              "    [theme=dark] .colab-df-convert:hover {\n",
              "      background-color: #434B5C;\n",
              "      box-shadow: 0px 1px 3px 1px rgba(0, 0, 0, 0.15);\n",
              "      filter: drop-shadow(0px 1px 2px rgba(0, 0, 0, 0.3));\n",
              "      fill: #FFFFFF;\n",
              "    }\n",
              "  </style>\n",
              "\n",
              "    <script>\n",
              "      const buttonEl =\n",
              "        document.querySelector('#df-d379ad64-7657-4e51-a44d-331dec7723ec button.colab-df-convert');\n",
              "      buttonEl.style.display =\n",
              "        google.colab.kernel.accessAllowed ? 'block' : 'none';\n",
              "\n",
              "      async function convertToInteractive(key) {\n",
              "        const element = document.querySelector('#df-d379ad64-7657-4e51-a44d-331dec7723ec');\n",
              "        const dataTable =\n",
              "          await google.colab.kernel.invokeFunction('convertToInteractive',\n",
              "                                                    [key], {});\n",
              "        if (!dataTable) return;\n",
              "\n",
              "        const docLinkHtml = 'Like what you see? Visit the ' +\n",
              "          '<a target=\"_blank\" href=https://colab.research.google.com/notebooks/data_table.ipynb>data table notebook</a>'\n",
              "          + ' to learn more about interactive tables.';\n",
              "        element.innerHTML = '';\n",
              "        dataTable['output_type'] = 'display_data';\n",
              "        await google.colab.output.renderOutput(dataTable, element);\n",
              "        const docLink = document.createElement('div');\n",
              "        docLink.innerHTML = docLinkHtml;\n",
              "        element.appendChild(docLink);\n",
              "      }\n",
              "    </script>\n",
              "  </div>\n",
              "\n",
              "\n",
              "<div id=\"df-735bd893-6c8e-4fb5-bb6e-f79f4dc2bf05\">\n",
              "  <button class=\"colab-df-quickchart\" onclick=\"quickchart('df-735bd893-6c8e-4fb5-bb6e-f79f4dc2bf05')\"\n",
              "            title=\"Suggest charts\"\n",
              "            style=\"display:none;\">\n",
              "\n",
              "<svg xmlns=\"http://www.w3.org/2000/svg\" height=\"24px\"viewBox=\"0 0 24 24\"\n",
              "     width=\"24px\">\n",
              "    <g>\n",
              "        <path d=\"M19 3H5c-1.1 0-2 .9-2 2v14c0 1.1.9 2 2 2h14c1.1 0 2-.9 2-2V5c0-1.1-.9-2-2-2zM9 17H7v-7h2v7zm4 0h-2V7h2v10zm4 0h-2v-4h2v4z\"/>\n",
              "    </g>\n",
              "</svg>\n",
              "  </button>\n",
              "\n",
              "<style>\n",
              "  .colab-df-quickchart {\n",
              "      --bg-color: #E8F0FE;\n",
              "      --fill-color: #1967D2;\n",
              "      --hover-bg-color: #E2EBFA;\n",
              "      --hover-fill-color: #174EA6;\n",
              "      --disabled-fill-color: #AAA;\n",
              "      --disabled-bg-color: #DDD;\n",
              "  }\n",
              "\n",
              "  [theme=dark] .colab-df-quickchart {\n",
              "      --bg-color: #3B4455;\n",
              "      --fill-color: #D2E3FC;\n",
              "      --hover-bg-color: #434B5C;\n",
              "      --hover-fill-color: #FFFFFF;\n",
              "      --disabled-bg-color: #3B4455;\n",
              "      --disabled-fill-color: #666;\n",
              "  }\n",
              "\n",
              "  .colab-df-quickchart {\n",
              "    background-color: var(--bg-color);\n",
              "    border: none;\n",
              "    border-radius: 50%;\n",
              "    cursor: pointer;\n",
              "    display: none;\n",
              "    fill: var(--fill-color);\n",
              "    height: 32px;\n",
              "    padding: 0;\n",
              "    width: 32px;\n",
              "  }\n",
              "\n",
              "  .colab-df-quickchart:hover {\n",
              "    background-color: var(--hover-bg-color);\n",
              "    box-shadow: 0 1px 2px rgba(60, 64, 67, 0.3), 0 1px 3px 1px rgba(60, 64, 67, 0.15);\n",
              "    fill: var(--button-hover-fill-color);\n",
              "  }\n",
              "\n",
              "  .colab-df-quickchart-complete:disabled,\n",
              "  .colab-df-quickchart-complete:disabled:hover {\n",
              "    background-color: var(--disabled-bg-color);\n",
              "    fill: var(--disabled-fill-color);\n",
              "    box-shadow: none;\n",
              "  }\n",
              "\n",
              "  .colab-df-spinner {\n",
              "    border: 2px solid var(--fill-color);\n",
              "    border-color: transparent;\n",
              "    border-bottom-color: var(--fill-color);\n",
              "    animation:\n",
              "      spin 1s steps(1) infinite;\n",
              "  }\n",
              "\n",
              "  @keyframes spin {\n",
              "    0% {\n",
              "      border-color: transparent;\n",
              "      border-bottom-color: var(--fill-color);\n",
              "      border-left-color: var(--fill-color);\n",
              "    }\n",
              "    20% {\n",
              "      border-color: transparent;\n",
              "      border-left-color: var(--fill-color);\n",
              "      border-top-color: var(--fill-color);\n",
              "    }\n",
              "    30% {\n",
              "      border-color: transparent;\n",
              "      border-left-color: var(--fill-color);\n",
              "      border-top-color: var(--fill-color);\n",
              "      border-right-color: var(--fill-color);\n",
              "    }\n",
              "    40% {\n",
              "      border-color: transparent;\n",
              "      border-right-color: var(--fill-color);\n",
              "      border-top-color: var(--fill-color);\n",
              "    }\n",
              "    60% {\n",
              "      border-color: transparent;\n",
              "      border-right-color: var(--fill-color);\n",
              "    }\n",
              "    80% {\n",
              "      border-color: transparent;\n",
              "      border-right-color: var(--fill-color);\n",
              "      border-bottom-color: var(--fill-color);\n",
              "    }\n",
              "    90% {\n",
              "      border-color: transparent;\n",
              "      border-bottom-color: var(--fill-color);\n",
              "    }\n",
              "  }\n",
              "</style>\n",
              "\n",
              "  <script>\n",
              "    async function quickchart(key) {\n",
              "      const quickchartButtonEl =\n",
              "        document.querySelector('#' + key + ' button');\n",
              "      quickchartButtonEl.disabled = true;  // To prevent multiple clicks.\n",
              "      quickchartButtonEl.classList.add('colab-df-spinner');\n",
              "      try {\n",
              "        const charts = await google.colab.kernel.invokeFunction(\n",
              "            'suggestCharts', [key], {});\n",
              "      } catch (error) {\n",
              "        console.error('Error during call to suggestCharts:', error);\n",
              "      }\n",
              "      quickchartButtonEl.classList.remove('colab-df-spinner');\n",
              "      quickchartButtonEl.classList.add('colab-df-quickchart-complete');\n",
              "    }\n",
              "    (() => {\n",
              "      let quickchartButtonEl =\n",
              "        document.querySelector('#df-735bd893-6c8e-4fb5-bb6e-f79f4dc2bf05 button');\n",
              "      quickchartButtonEl.style.display =\n",
              "        google.colab.kernel.accessAllowed ? 'block' : 'none';\n",
              "    })();\n",
              "  </script>\n",
              "</div>\n",
              "\n",
              "    </div>\n",
              "  </div>\n"
            ],
            "application/vnd.google.colaboratory.intrinsic+json": {
              "type": "dataframe",
              "variable_name": "df"
            }
          },
          "metadata": {},
          "execution_count": 10
        }
      ]
    },
    {
      "cell_type": "markdown",
      "source": [
        "## Basic EDA."
      ],
      "metadata": {
        "id": "LVTRw7TXN_Cc"
      }
    },
    {
      "cell_type": "markdown",
      "source": [
        "### Check Shape and length of dataset"
      ],
      "metadata": {
        "id": "Vrhzn76WNVCJ"
      }
    },
    {
      "cell_type": "code",
      "source": [
        "df.shape"
      ],
      "metadata": {
        "colab": {
          "base_uri": "https://localhost:8080/"
        },
        "id": "LHPsAHFrOFDb",
        "outputId": "dfe03c33-6739-4d77-fc94-e5d1d2b71f27"
      },
      "execution_count": 11,
      "outputs": [
        {
          "output_type": "execute_result",
          "data": {
            "text/plain": [
              "(4601, 58)"
            ]
          },
          "metadata": {},
          "execution_count": 11
        }
      ]
    },
    {
      "cell_type": "markdown",
      "source": [
        "### Info."
      ],
      "metadata": {
        "id": "9eoFNjUcOJ2H"
      }
    },
    {
      "cell_type": "code",
      "source": [
        "df.info()"
      ],
      "metadata": {
        "id": "pJ_ZXJNAOFxR"
      },
      "execution_count": null,
      "outputs": []
    },
    {
      "cell_type": "markdown",
      "source": [
        "### Check Null Values"
      ],
      "metadata": {
        "id": "MLd2VCUgORmS"
      }
    },
    {
      "cell_type": "code",
      "source": [
        "df.isnull().sum()"
      ],
      "metadata": {
        "colab": {
          "base_uri": "https://localhost:8080/"
        },
        "id": "Bi0irIqGONvo",
        "outputId": "2509d3f3-2896-4fc4-b512-bf7018755a8e"
      },
      "execution_count": 13,
      "outputs": [
        {
          "output_type": "execute_result",
          "data": {
            "text/plain": [
              "word_freq_make                0\n",
              "word_freq_address             0\n",
              "word_freq_all                 0\n",
              "word_freq_3d                  0\n",
              "word_freq_our                 0\n",
              "word_freq_over                0\n",
              "word_freq_remove              0\n",
              "word_freq_internet            0\n",
              "word_freq_order               0\n",
              "word_freq_mail                0\n",
              "word_freq_receive             0\n",
              "word_freq_will                0\n",
              "word_freq_people              0\n",
              "word_freq_report              0\n",
              "word_freq_addresses           0\n",
              "word_freq_free                0\n",
              "word_freq_business            0\n",
              "word_freq_email               0\n",
              "word_freq_you                 0\n",
              "word_freq_credit              0\n",
              "word_freq_your                0\n",
              "word_freq_font                0\n",
              "word_freq_000                 0\n",
              "word_freq_money               0\n",
              "word_freq_hp                  0\n",
              "word_freq_hpl                 0\n",
              "word_freq_george              0\n",
              "word_freq_650                 0\n",
              "word_freq_lab                 0\n",
              "word_freq_labs                0\n",
              "word_freq_telnet              0\n",
              "word_freq_857                 0\n",
              "word_freq_data                0\n",
              "word_freq_415                 0\n",
              "word_freq_85                  0\n",
              "word_freq_technology          0\n",
              "word_freq_1999                0\n",
              "word_freq_parts               0\n",
              "word_freq_pm                  0\n",
              "word_freq_direct              0\n",
              "word_freq_cs                  0\n",
              "word_freq_meeting             0\n",
              "word_freq_original            0\n",
              "word_freq_project             0\n",
              "word_freq_re                  0\n",
              "word_freq_edu                 0\n",
              "word_freq_table               0\n",
              "word_freq_conference          0\n",
              "char_freq_;                   0\n",
              "char_freq_(                   0\n",
              "char_freq_[                   0\n",
              "char_freq_!                   0\n",
              "char_freq_$                   0\n",
              "char_freq_#                   0\n",
              "capital_run_length_average    0\n",
              "capital_run_length_longest    0\n",
              "capital_run_length_total      0\n",
              "spam                          0\n",
              "dtype: int64"
            ]
          },
          "metadata": {},
          "execution_count": 13
        }
      ]
    },
    {
      "cell_type": "markdown",
      "source": [
        "### Check duplicates"
      ],
      "metadata": {
        "id": "9BKly_o3OZir"
      }
    },
    {
      "cell_type": "code",
      "source": [
        "df.duplicated().sum()"
      ],
      "metadata": {
        "colab": {
          "base_uri": "https://localhost:8080/"
        },
        "id": "ejkhBv8bOUsQ",
        "outputId": "5fe035da-9809-41c4-f0b1-12432ced7f8d"
      },
      "execution_count": 14,
      "outputs": [
        {
          "output_type": "execute_result",
          "data": {
            "text/plain": [
              "391"
            ]
          },
          "metadata": {},
          "execution_count": 14
        }
      ]
    },
    {
      "cell_type": "code",
      "source": [
        "df.drop_duplicates(inplace = True)"
      ],
      "metadata": {
        "id": "jwVh9E_aOd_a"
      },
      "execution_count": 15,
      "outputs": []
    },
    {
      "cell_type": "code",
      "source": [
        "df.shape"
      ],
      "metadata": {
        "colab": {
          "base_uri": "https://localhost:8080/"
        },
        "id": "DXW56koQOiU8",
        "outputId": "5d70afba-dba9-4b1f-8ebb-2cb856945b56"
      },
      "execution_count": 16,
      "outputs": [
        {
          "output_type": "execute_result",
          "data": {
            "text/plain": [
              "(4210, 58)"
            ]
          },
          "metadata": {},
          "execution_count": 16
        }
      ]
    },
    {
      "cell_type": "markdown",
      "source": [
        "### check Spam/Not Spam Distribution"
      ],
      "metadata": {
        "id": "xPJ21DENOm3q"
      }
    },
    {
      "cell_type": "code",
      "source": [
        "df['spam'].value_counts().plot(kind='pie', autopct = \"%0.2f\")"
      ],
      "metadata": {
        "colab": {
          "base_uri": "https://localhost:8080/",
          "height": 423
        },
        "id": "eW471IToOjmu",
        "outputId": "7d58d266-05ca-443c-cc04-e648eb0d0411"
      },
      "execution_count": 18,
      "outputs": [
        {
          "output_type": "execute_result",
          "data": {
            "text/plain": [
              "<Axes: ylabel='spam'>"
            ]
          },
          "metadata": {},
          "execution_count": 18
        },
        {
          "output_type": "display_data",
          "data": {
            "text/plain": [
              "<Figure size 640x480 with 1 Axes>"
            ],
            "image/png": "[encoded data removed]"
          },
          "metadata": {}
        }
      ]
    },
    {
      "cell_type": "markdown",
      "source": [
        "## Save and Load the updated CSV"
      ],
      "metadata": {
        "id": "M_E0JscJPtId"
      }
    },
    {
      "cell_type": "code",
      "source": [
        "# Save the modified dataframe to a new csv file\n",
        "df.to_csv('modified_dataset.csv', index=False)"
      ],
      "metadata": {
        "id": "NCLx1WURPavL"
      },
      "execution_count": 21,
      "outputs": []
    },
    {
      "cell_type": "code",
      "source": [
        "df_new = pd.read_csv('/content/modified_dataset.csv')"
      ],
      "metadata": {
        "id": "vdj98ch_P0PG"
      },
      "execution_count": 22,
      "outputs": []
    },
    {
      "cell_type": "markdown",
      "source": [
        "## Split the dataset into x and y"
      ],
      "metadata": {
        "id": "_DhhP7uRQA2b"
      }
    },
    {
      "cell_type": "code",
      "source": [
        "# The first 57 columns are features\n",
        "# The last column has the correct labels (targets)\n",
        "\n",
        "X, y = df.iloc[:, :57].values, df.iloc[:, 57].values"
      ],
      "metadata": {
        "id": "coUT4ejOP68s"
      },
      "execution_count": 23,
      "outputs": []
    },
    {
      "cell_type": "markdown",
      "source": [
        "## Split The data into Train -Test"
      ],
      "metadata": {
        "id": "fWMmoX7-Qrh3"
      }
    },
    {
      "cell_type": "code",
      "source": [
        "#  Splitting the data into test and train\n",
        "X_train, X_test, y_train, y_test = train_test_split(X,y,random_state=0, test_size=0.2)"
      ],
      "metadata": {
        "id": "B5IVf9cZQJVc"
      },
      "execution_count": 29,
      "outputs": []
    },
    {
      "cell_type": "markdown",
      "source": [
        "## Loading the models and tune them"
      ],
      "metadata": {
        "id": "4lSyNIkETNI-"
      }
    },
    {
      "cell_type": "markdown",
      "source": [
        "* For GaussianNB: There are no hyperparameters to tune.\n",
        "* For MultinomialNB: You might tune the alpha parameter.\n",
        "* For BernoulliNB: You might tune the alpha parameter and binarize threshold."
      ],
      "metadata": {
        "id": "Xz5Y0FKNTxUb"
      }
    },
    {
      "cell_type": "code",
      "source": [
        "# Define hyperparameters to tune\n",
        "param_grid_gnb = {}  # No hyperparameters for GaussianNB\n",
        "param_grid_mnb = {'alpha': [0.1, 0.5, 1.0, 2.0, 5.0]}  # Alpha parameter for MultinomialNB\n",
        "param_grid_bnb = {'alpha': [0.1, 0.5, 1.0, 2.0, 5.0], 'binarize': [None, 0.0, 0.5, 1.0]}  # Alpha and binarize threshold for BernoulliNB"
      ],
      "metadata": {
        "id": "V2Ei-JilQKkq"
      },
      "execution_count": 33,
      "outputs": []
    },
    {
      "cell_type": "code",
      "source": [
        "# Perform hyperparameter tuning\n",
        "gnb = GridSearchCV(GaussianNB(), param_grid_gnb, cv=10)\n",
        "mnb = GridSearchCV(MultinomialNB(), param_grid_mnb, cv=10)\n",
        "bnb = GridSearchCV(BernoulliNB(), param_grid_bnb, cv=10)\n",
        "\n",
        "models = {'GaussianNB': gnb, 'MultinomialNB': mnb, 'BernoulliNB': bnb}\n",
        "\n",
        "for name, model in models.items():\n",
        "    model.fit(X_train, y_train)\n",
        "    print(f\"Best parameters for {name}: {model.best_params_}\")\n",
        "    print(f\"Best score for {name}: {model.best_score_}\")"
      ],
      "metadata": {
        "colab": {
          "base_uri": "https://localhost:8080/"
        },
        "id": "qHtIJoLkT6jc",
        "outputId": "18153366-f838-4e30-d0fc-c09e568521ba"
      },
      "execution_count": 36,
      "outputs": [
        {
          "output_type": "stream",
          "name": "stdout",
          "text": [
            "Best parameters for GaussianNB: {}\n",
            "Best score for GaussianNB: 0.8266046700579341\n",
            "Best parameters for MultinomialNB: {'alpha': 0.1}\n",
            "Best score for MultinomialNB: 0.7945474777448072\n",
            "Best parameters for BernoulliNB: {'alpha': 0.1, 'binarize': 0.5}\n",
            "Best score for BernoulliNB: 0.8963826480146956\n"
          ]
        }
      ]
    },
    {
      "cell_type": "markdown",
      "source": [
        "## Generate Report Of All the models."
      ],
      "metadata": {
        "id": "lBvBqms0Uzfm"
      }
    },
    {
      "cell_type": "code",
      "source": [
        "y_pred_gnb = gnb.predict(X_test)\n",
        "y_pred_mnb = mnb.predict(X_test)\n",
        "y_pred_bnb = bnb.predict(X_test)"
      ],
      "metadata": {
        "id": "bLdpg2mkUR7G"
      },
      "execution_count": 38,
      "outputs": []
    },
    {
      "cell_type": "markdown",
      "source": [
        "## Report Of each models"
      ],
      "metadata": {
        "id": "T2GGkpv3WOuq"
      }
    },
    {
      "cell_type": "code",
      "source": [
        "print(\"Report Of Gaussian Naive Bayes\")\n",
        "print(f\"Accuracy Score : {accuracy_score(y_pred_gnb, y_test)}\")\n",
        "print(f\"Classification Report \\n {classification_report(y_pred_gnb, y_test)}\")"
      ],
      "metadata": {
        "colab": {
          "base_uri": "https://localhost:8080/"
        },
        "id": "769eFCjwU-6d",
        "outputId": "6352f96e-8f24-4aaa-9b9c-209cf6362f43"
      },
      "execution_count": 40,
      "outputs": [
        {
          "output_type": "stream",
          "name": "stdout",
          "text": [
            "Report Of Gaussian Naive Bayes\n",
            "Accuracy Score : 0.8206650831353919\n",
            "Classification Report \n",
            "               precision    recall  f1-score   support\n",
            "\n",
            "           0       0.72      0.96      0.83       370\n",
            "           1       0.96      0.71      0.82       472\n",
            "\n",
            "    accuracy                           0.82       842\n",
            "   macro avg       0.84      0.84      0.82       842\n",
            "weighted avg       0.86      0.82      0.82       842\n",
            "\n"
          ]
        }
      ]
    },
    {
      "cell_type": "code",
      "source": [
        "print(\"Report Of Multinomial Naive Bayes\")\n",
        "print(f\"Accuracy Score : {accuracy_score(y_pred_mnb, y_test)}\")\n",
        "print(f\"Classification Report \\n {classification_report(y_pred_mnb, y_test)}\")"
      ],
      "metadata": {
        "colab": {
          "base_uri": "https://localhost:8080/"
        },
        "id": "9TwryTYpViAC",
        "outputId": "ea20e4f5-86c9-441d-a134-0eba440f1989"
      },
      "execution_count": 41,
      "outputs": [
        {
          "output_type": "stream",
          "name": "stdout",
          "text": [
            "Report Of Multinomial Naive Bayes\n",
            "Accuracy Score : 0.7707838479809976\n",
            "Classification Report \n",
            "               precision    recall  f1-score   support\n",
            "\n",
            "           0       0.84      0.78      0.81       530\n",
            "           1       0.67      0.75      0.71       312\n",
            "\n",
            "    accuracy                           0.77       842\n",
            "   macro avg       0.76      0.77      0.76       842\n",
            "weighted avg       0.78      0.77      0.77       842\n",
            "\n"
          ]
        }
      ]
    },
    {
      "cell_type": "code",
      "source": [
        "print(\"Report Of Bernoulli Naive Bayes\")\n",
        "print(f\"Accuracy Score : {accuracy_score(y_pred_bnb, y_test)}\")\n",
        "print(f\"Classification Report \\n {classification_report(y_pred_bnb, y_test)}\")"
      ],
      "metadata": {
        "colab": {
          "base_uri": "https://localhost:8080/"
        },
        "id": "iQXgcpfYVTOx",
        "outputId": "a8cd75da-0341-488f-daef-3a37d58a733c"
      },
      "execution_count": 42,
      "outputs": [
        {
          "output_type": "stream",
          "name": "stdout",
          "text": [
            "Report Of Bernoulli Naive Bayes\n",
            "Accuracy Score : 0.8978622327790974\n",
            "Classification Report \n",
            "               precision    recall  f1-score   support\n",
            "\n",
            "           0       0.90      0.93      0.91       479\n",
            "           1       0.90      0.86      0.88       363\n",
            "\n",
            "    accuracy                           0.90       842\n",
            "   macro avg       0.90      0.89      0.90       842\n",
            "weighted avg       0.90      0.90      0.90       842\n",
            "\n"
          ]
        }
      ]
    },
    {
      "cell_type": "markdown",
      "source": [
        "## Selecting Best Model"
      ],
      "metadata": {
        "id": "BZ0a805mV63A"
      }
    },
    {
      "cell_type": "code",
      "source": [
        "# Evaluate and select the best model\n",
        "best_model_name = max(models, key=lambda x: models[x].best_score_)\n",
        "best_model = models[best_model_name]\n",
        "\n",
        "# Test the selected model\n",
        "accuracy = best_model.score(X_test, y_test)\n",
        "print(f\"Accuracy of the best model ({best_model_name}): {accuracy}\")"
      ],
      "metadata": {
        "colab": {
          "base_uri": "https://localhost:8080/"
        },
        "id": "Bzdnj92SVs4Z",
        "outputId": "8ed90525-3186-458b-a2a6-14d3bdbe8be5"
      },
      "execution_count": 43,
      "outputs": [
        {
          "output_type": "stream",
          "name": "stdout",
          "text": [
            "Accuracy of the best model (BernoulliNB): 0.8978622327790974\n"
          ]
        }
      ]
    },
    {
      "cell_type": "markdown",
      "source": [
        "## Comparison of models"
      ],
      "metadata": {
        "id": "6pogFjlNWSir"
      }
    },
    {
      "cell_type": "markdown",
      "source": [
        "The BernoulliNB model preforms better than Multinomial and Gaussian models.\n",
        "\n",
        "The reason BernoulliNB perfroms better is that, it is designed for binary classification, whereas Gaussian will prefroms best on multiclass data and Multinomial on text data."
      ],
      "metadata": {
        "id": "PAJCtsO6WX8E"
      }
    },
    {
      "cell_type": "markdown",
      "source": [
        "## Suggestion and Future work\n",
        "\n",
        "* The datset has 58 features which are overwhelming if I want to preform any kind of EDA (Plots and charts), so using methods like **PCA**, we can reduce the number for features to lower the load on model.\n",
        "\n",
        "* We can also Normalize the dataset using minmax scaler, but i believe we can't use standradScalar as it result some negative values which causes problem with multinomial naive bayes algotithm."
      ],
      "metadata": {
        "id": "04RKjOizW0C8"
      }
    },
    {
      "cell_type": "markdown",
      "source": [
        "# Other Question from assignment"
      ],
      "metadata": {
        "id": "BGzekegAX1Wv"
      }
    },
    {
      "cell_type": "markdown",
      "source": [
        "## Q. Can Gaussian Naive Bayes be used for multi-class classification?"
      ],
      "metadata": {
        "id": "-X-ZG9rBV8xd"
      }
    },
    {
      "cell_type": "markdown",
      "source": [
        "Yes, Gaussian Naive Bayes (GNB) can be used for multi-class classification.\n",
        "\n",
        "While Gaussian Naive Bayes is often used for binary classification tasks, it can also be extended to handle multi-class classification problems. In the case of multi-class classification, GNB applies the Bayes' theorem to calculate the probability of each class given the input features and selects the class with the highest probability as the predicted class."
      ],
      "metadata": {
        "id": "UzrLgvfDYF1a"
      }
    },
    {
      "cell_type": "markdown",
      "source": [
        "## Q. How does Bernoulli Naive Bayes handle missing values?"
      ],
      "metadata": {
        "id": "INkO-oolYOIJ"
      }
    },
    {
      "cell_type": "markdown",
      "source": [
        "\n",
        "Bernoulli Naive Bayes (BNB) is specifically designed to handle binary data, where features represent binary variables indicating the presence or absence of certain characteristics. As such, missing values in Bernoulli Naive Bayes are typically treated as a separate category or as part of one of the existing categories, depending on how the data is encoded.\n",
        "\n",
        "**Here are a few common approaches to handling missing values in Bernoulli Naive Bayes:**\n",
        "\n",
        "1. Imputation\n",
        "2. Treat missing values as a separate category\n",
        "3. Ignore Missing Values"
      ],
      "metadata": {
        "id": "XjT-WSFQYPoa"
      }
    },
    {
      "cell_type": "markdown",
      "source": [
        "## Q. What is the difference between Bernoulli Naive Bayes and Multinomial Naive Bayes?"
      ],
      "metadata": {
        "id": "DCYSeeCFYovD"
      }
    },
    {
      "cell_type": "markdown",
      "source": [
        "Bernoulli Naive Bayes (BNB) and Multinomial Naive Bayes (MNB) are two variants of the Naive Bayes algorithm, primarily used for text classification tasks. While they share some similarities, they are designed to handle different types of data and have distinct underlying assumptions:\n",
        "\n",
        "1. **Type of Data:**\n",
        "   - **Bernoulli Naive Bayes (BNB):** BNB is suitable for binary feature vectors, where each feature represents a binary variable indicating the presence (1) or absence (0) of a certain term in the document. It's commonly used in document classification tasks where the presence or absence of words in the document is considered.\n",
        "   - **Multinomial Naive Bayes (MNB):** MNB is designed for multinomially distributed data, typically used for text classification tasks where the features represent counts or frequencies of terms (e.g., word counts in documents). Each feature represents the number of occurrences of a term in the document.\n",
        "\n",
        "2. **Feature Probability Distribution:**\n",
        "   - **BNB:** Assumes that features are binary variables following a Bernoulli distribution, where each feature is independent of other features given the class label.\n",
        "   - **MNB:** Assumes that features represent counts or frequencies following a multinomial distribution, where each feature represents the number of occurrences of a term in the document. It also assumes that features are conditionally independent given the class label.\n",
        "\n",
        "3. **Handling of Feature Occurrence:**\n",
        "   - **BNB:** Considers only the presence or absence of features (binary occurrence), ignoring the frequency or count information. It treats each non-zero feature value as 1.\n",
        "   - **MNB:** Takes into account the frequency or count of features, allowing multiple occurrences of the same term to contribute to the classification decision.\n",
        "\n",
        "4. **Application:**\n",
        "   - **BNB:** Commonly used in tasks where binary features are prevalent, such as spam detection, sentiment analysis, or document classification based on the presence or absence of specific words.\n",
        "   - **MNB:** Widely used in text classification tasks, including document classification, topic classification, and email filtering, where the frequency or count of terms in documents is important for classification.\n",
        "\n",
        "In summary, the main difference between Bernoulli Naive Bayes and Multinomial Naive Bayes lies in the type of data they are designed to handle (binary features vs. count/frequency features) and the underlying probability distributions assumed for the features."
      ],
      "metadata": {
        "id": "EG7pg34hYyn0"
      }
    },
    {
      "cell_type": "markdown",
      "source": [
        "## Q. A company conducted a survey of its employees and found that 70% of the employees use the company's health insurance plan, while 40% of the employees who use the plan are smokers. What is the probability that an employee is a smoker given that he/she uses the health insurance plan?"
      ],
      "metadata": {
        "id": "V6_YhYk4ZOZD"
      }
    },
    {
      "cell_type": "markdown",
      "source": [
        "To find the probability that an employee is a smoker given that he/she uses the health insurance plan, we can use Bayes' theorem.\n",
        "\n",
        "Let's define:\n",
        "- \\( P(S) \\) as the probability that an employee is a smoker.\n",
        "- \\( P(H) \\) as the probability that an employee uses the health insurance plan.\n",
        "- \\( P(S|H) \\) as the probability that an employee is a smoker given that he/she uses the health insurance plan.\n",
        "\n",
        "We are given:\n",
        "- \\( P(H) = 0.70 \\) (probability that an employee uses the health insurance plan).\n",
        "- \\( P(S|H) = 0.40 \\) (probability that an employee is a smoker given that he/she uses the health insurance plan).\n",
        "\n",
        "We can calculate \\( P(S) \\) using the Law of Total Probability, which states that the total probability of an event can be computed by summing the conditional probabilities of that event given all possible outcomes:\n",
        "\n",
        "\\[ P(S) = P(S|H) \\times P(H) + P(S|\\neg H) \\times P(\\neg H) \\]\n",
        "\n",
        "Where:\n",
        "- \\( P(S|\\neg H) \\) is the probability that an employee is a smoker given that he/she does not use the health insurance plan. Since this information is not provided, we'll assume it's independent of health insurance usage and equal to the overall proportion of smokers in the company.\n",
        "- \\( P(\\neg H) \\) is the probability that an employee does not use the health insurance plan, which is \\( 1 - P(H) \\).\n",
        "\n",
        "Let's calculate \\( P(S) \\):\n",
        "\\[ P(S) = P(S|H) \\times P(H) + P(S|\\neg H) \\times P(\\neg H) \\]\n",
        "\\[ P(S) = 0.40 \\times 0.70 + P(S|\\neg H) \\times (1 - 0.70) \\]\n",
        "\n",
        "Since we don't have \\( P(S|\\neg H) \\), we'll use the assumption that it's equal to the overall proportion of smokers in the company. Let's denote \\( P(S|\\neg H) = P(S) \\).\n",
        "\n",
        "\\[ P(S) = 0.40 \\times 0.70 + P(S) \\times (1 - 0.70) \\]\n",
        "\\[ P(S) = 0.28 + 0.3P(S) \\]\n",
        "\\[ 0.7P(S) = 0.28 \\]\n",
        "\\[ P(S) = \\frac{0.28}{0.7} \\]\n",
        "\\[ P(S) = 0.4 \\]\n",
        "\n",
        "Now, we can use Bayes' theorem to find \\( P(S|H) \\):\n",
        "\\[ P(S|H) = \\frac{P(S) \\times P(H|S)}{P(H)} \\]\n",
        "\\[ P(S|H) = \\frac{0.4 \\times 0.40}{0.70} \\]\n",
        "\\[ P(S|H) = \\frac{0.16}{0.70} \\]\n",
        "\\[ P(S|H) ≈ 0.2286 \\]\n",
        "\n",
        "So, the probability that an employee is a smoker given that he/she uses the health insurance plan is approximately \\( 0.2286 \\) or \\( 22.86\\% \\)."
      ],
      "metadata": {
        "id": "xUqWOYc3ZXK4"
      }
    },
    {
      "cell_type": "code",
      "source": [],
      "metadata": {
        "id": "l0nJNQiVX6k3"
      },
      "execution_count": null,
      "outputs": []
    }
  ]
}