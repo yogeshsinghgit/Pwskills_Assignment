{
  "nbformat": 4,
  "nbformat_minor": 0,
  "metadata": {
    "colab": {
      "provenance": [],
      "authorship_tag": "ABX9TyMFwSyKCOZIC3zJr4WnW1pY",
      "include_colab_link": true
    },
    "kernelspec": {
      "name": "python3",
      "display_name": "Python 3"
    },
    "language_info": {
      "name": "python"
    }
  },
  "cells": [
    {
      "cell_type": "markdown",
      "metadata": {
        "id": "view-in-github",
        "colab_type": "text"
      },
      "source": [
        "<a href=\"https://colab.research.google.com/github/yogeshsinghgit/Pwskills_Assignment/blob/main/MongoDB_Assignment.ipynb\" target=\"_parent\"><img src=\"https://colab.research.google.com/assets/colab-badge.svg\" alt=\"Open In Colab\"/></a>"
      ]
    },
    {
      "cell_type": "code",
      "execution_count": null,
      "metadata": {
        "id": "MGvlVDhuLT_w"
      },
      "outputs": [],
      "source": []
    },
    {
      "cell_type": "markdown",
      "source": [
        "# MongoDB Assignment\n",
        "\n",
        "[Assignment Link](https://drive.google.com/file/d/1LzTUwURsuTLcKHK1Y58vji2Uk-1klRdI/view)\n"
      ],
      "metadata": {
        "id": "ec5KAHqDLWfI"
      }
    },
    {
      "cell_type": "markdown",
      "source": [
        "# Q1. What is MongoDB? Explain non-relational databases in short. In which scenarios it is preferred to use MongoDB over SQL databases?"
      ],
      "metadata": {
        "id": "MVAabQOALdIN"
      }
    },
    {
      "cell_type": "markdown",
      "source": [
        "**MongoDB:**\n",
        "MongoDB is a popular open-source NoSQL (non-relational) database management system that is designed to handle unstructured or semi-structured data. It falls under the category of document-oriented databases, where data is stored in flexible, JSON-like documents instead of traditional rows and columns. MongoDB is known for its scalability, flexibility, and the ability to handle large volumes of data.\n",
        "\n",
        "**Non-Relational Databases:**\n",
        "Non-relational databases, also known as NoSQL databases, are a type of database management system that provides a mechanism for storage and retrieval of data that is modeled in ways other than the traditional relational databases. Unlike relational databases, non-relational databases do not require a fixed schema, and they can handle a variety of data types and structures, making them well-suited for handling unstructured or semi-structured data.\n",
        "\n",
        "**Scenarios to Prefer MongoDB over SQL Databases:**\n",
        "MongoDB is often preferred over traditional SQL databases in specific scenarios:\n",
        "\n",
        "1. **Flexible Schema:**\n",
        "   - MongoDB's document-oriented structure allows for a flexible schema. Each document in a collection can have a different structure, which is particularly useful when dealing with evolving or dynamic data models.\n",
        "\n",
        "2. **Unstructured or Semi-Structured Data:**\n",
        "   - MongoDB excels at handling unstructured or semi-structured data, such as JSON-like documents. It is well-suited for scenarios where the data does not fit neatly into tables with fixed columns.\n",
        "\n",
        "3. **Horizontal Scalability:**\n",
        "   - MongoDB is designed to scale horizontally, allowing you to distribute data across multiple servers or nodes. This makes it suitable for applications that require high scalability and can benefit from distributed databases.\n",
        "\n",
        "4. **Agile Development and Rapid Prototyping:**\n",
        "   - MongoDB's flexible schema and dynamic nature make it conducive to agile development practices and rapid prototyping. Developers can quickly adapt to changing requirements without the need for extensive schema modifications.\n",
        "\n",
        "5. **Complex Data Structures:**\n",
        "   - MongoDB supports complex data structures, including nested arrays and documents. This is beneficial for scenarios where data relationships are hierarchical or nested.\n",
        "\n",
        "6. **Real-time Applications:**\n",
        "   - MongoDB is often used in real-time applications, such as IoT (Internet of Things) platforms and certain types of analytics, where quick and flexible access to data is crucial.\n",
        "\n",
        "7. **Geospatial Data:**\n",
        "   - MongoDB has built-in support for geospatial indexing and queries, making it well-suited for applications that involve location-based data.\n",
        "\n",
        "It's important to note that the choice between MongoDB and SQL databases depends on the specific requirements of the application. While MongoDB is a good fit for certain use cases, traditional SQL databases may be more suitable for applications with complex relationships, transactions, and well-defined schemas."
      ],
      "metadata": {
        "id": "XJQnKcOfLixw"
      }
    },
    {
      "cell_type": "markdown",
      "source": [
        "# Q2. State and Explain the features of MongoDB."
      ],
      "metadata": {
        "id": "D1UNjfKZLvY3"
      }
    },
    {
      "cell_type": "markdown",
      "source": [
        "MongoDB is a NoSQL, document-oriented database management system that provides a flexible and scalable approach to handling data. Here are some key features of MongoDB:\n",
        "\n",
        "1. **Document-Oriented:**\n",
        "   - MongoDB stores data in BSON (Binary JSON)-like documents, which are flexible, JSON-like structures. Each document can have a different structure, allowing for a dynamic and schema-less data model.\n",
        "\n",
        "2. **Dynamic Schema:**\n",
        "   - MongoDB does not enforce a fixed schema for documents in a collection. This flexibility is advantageous when dealing with evolving data models, as new fields can be added to documents without requiring a predefined schema.\n",
        "\n",
        "3. **Scalability:**\n",
        "   - MongoDB is designed to scale horizontally, allowing for the distribution of data across multiple servers or nodes. This horizontal scaling is achieved through sharding, enabling MongoDB to handle large volumes of data and high traffic.\n",
        "\n",
        "4. **High Performance:**\n",
        "   - MongoDB's architecture and indexing capabilities contribute to high performance in read and write operations. It includes features like in-memory storage and support for indexing on any attribute, allowing for efficient query execution.\n",
        "\n",
        "5. **Rich Query Language:**\n",
        "   - MongoDB provides a powerful and expressive query language that supports a wide range of queries, including field, range, and regular expression queries. The query language allows for complex data retrieval and manipulation.\n",
        "\n",
        "6. **Indexing:**\n",
        "   - MongoDB supports various types of indexes, including single-field, compound, and geospatial indexes. Indexing enhances query performance by allowing the database to quickly locate and retrieve specific documents.\n",
        "\n",
        "7. **Aggregation Framework:**\n",
        "   - MongoDB's aggregation framework provides a powerful set of tools for data transformation and analysis. It supports operations such as filtering, grouping, sorting, and projecting, allowing for complex data manipulations within the database.\n",
        "\n",
        "8. **Geospatial Capabilities:**\n",
        "   - MongoDB includes built-in support for geospatial indexing and queries. This feature is useful for applications that involve location-based data, such as mapping and location-based services.\n",
        "\n",
        "9. **Automatic Sharding:**\n",
        "   - MongoDB can automatically partition data across multiple nodes through sharding, enabling horizontal scaling and improved performance. Sharding helps distribute the load and allows for the storage of large datasets.\n",
        "\n",
        "10. **Agile Development:**\n",
        "    - MongoDB's dynamic schema and flexible data model make it well-suited for agile development practices. Developers can quickly adapt to changing requirements without the need for extensive schema modifications.\n",
        "\n",
        "11. **Document Validation:**\n",
        "    - MongoDB allows the definition of document validation rules to ensure that data adheres to specific criteria. This helps maintain data integrity and consistency within the database.\n",
        "\n",
        "12. **Transactions (as of MongoDB 4.0):**\n",
        "    - MongoDB introduced multi-document transactions in version 4.0, allowing for the execution of multiple operations on multiple documents as a single atomic operation. This feature ensures data consistency in complex transactional scenarios.\n",
        "\n",
        "MongoDB's features make it a popular choice for a variety of applications, including those with dynamic and evolving data requirements, as well as those that demand high scalability and performance."
      ],
      "metadata": {
        "id": "aadSYesmL35P"
      }
    },
    {
      "cell_type": "markdown",
      "source": [
        "# Q3. Write a code to connect MongoDB to Python. Also, create a database and a collection in MongoDB.\n"
      ],
      "metadata": {
        "id": "A0l0mOs8L2UH"
      }
    },
    {
      "cell_type": "markdown",
      "source": [
        "To connect MongoDB to Python, you can use the `pymongo` library, which is the official MongoDB driver for Python. If you haven't installed it yet, you can do so with:\n",
        "\n",
        "```bash\n",
        "pip install pymongo\n",
        "```\n",
        "\n",
        "Here's a simple example code to connect to MongoDB, create a database, and a collection:\n",
        "\n",
        "```python\n",
        "import pymongo\n",
        "\n",
        "# Replace these with your MongoDB server details\n",
        "host = \"your_host\"\n",
        "port = 27017  # default MongoDB port\n",
        "username = \"your_username\"\n",
        "password = \"your_password\"\n",
        "\n",
        "# Connect to MongoDB\n",
        "client = pymongo.MongoClient(host=host, port=port, username=username, password=password)\n",
        "\n",
        "# Create or access a database\n",
        "database_name = \"your_database\"\n",
        "db = client[database_name]\n",
        "\n",
        "# Create or access a collection\n",
        "collection_name = \"your_collection\"\n",
        "collection = db[collection_name]\n",
        "\n",
        "# Insert a document into the collection\n",
        "document = {\"name\": \"John Doe\", \"age\": 30, \"city\": \"Example City\"}\n",
        "result = collection.insert_one(document)\n",
        "\n",
        "# Print the inserted document's ID\n",
        "print(\"Inserted document ID:\", result.inserted_id)\n",
        "\n",
        "# Close the connection\n",
        "client.close()\n",
        "```\n",
        "\n",
        "Explanation of the code:\n",
        "\n",
        "1. **Connect to MongoDB:**\n",
        "   - Use `pymongo.MongoClient` to connect to your MongoDB server. Replace `\"your_host\"`, `\"your_username\"`, and `\"your_password\"` with your MongoDB server details.\n",
        "\n",
        "2. **Create or Access a Database:**\n",
        "   - Use `client[database_name]` to create or access a database. Replace `\"your_database\"` with the desired database name.\n",
        "\n",
        "3. **Create or Access a Collection:**\n",
        "   - Use `db[collection_name]` to create or access a collection within the database. Replace `\"your_collection\"` with the desired collection name.\n",
        "\n",
        "4. **Insert a Document:**\n",
        "   - Use `collection.insert_one(document)` to insert a document into the collection. In this example, a document with \"name,\" \"age,\" and \"city\" fields is inserted.\n",
        "\n",
        "5. **Print the Inserted Document's ID:**\n",
        "   - Print the ID of the inserted document, which is automatically generated by MongoDB.\n",
        "\n",
        "6. **Close the Connection:**\n",
        "   - Close the connection to MongoDB when you're done.\n",
        "\n",
        "Remember to replace the placeholder values with your actual MongoDB server details, database name, and collection name.\n",
        "\n",
        "Note: Make sure your MongoDB server is running and accessible from your Python environment. Adjust the connection details based on your MongoDB server configuration."
      ],
      "metadata": {
        "id": "5wCHJu5yMRqs"
      }
    },
    {
      "cell_type": "markdown",
      "source": [
        "# Q4. Using the database and the collection created in question number 3, write a code to insert one record,and insert many records. Use the find() and find_one() methods to print the inserted record."
      ],
      "metadata": {
        "id": "i6nnE-xfLtPw"
      }
    },
    {
      "cell_type": "markdown",
      "source": [
        "Certainly! Below is an example code that extends the previous one to insert one record, insert many records, and use the `find()` and `find_one()` methods to retrieve and print the inserted records:\n",
        "\n",
        "```python\n",
        "import pymongo\n",
        "\n",
        "# Replace these with your MongoDB server details\n",
        "host = \"your_host\"\n",
        "port = 27017  # default MongoDB port\n",
        "username = \"your_username\"\n",
        "password = \"your_password\"\n",
        "\n",
        "# Connect to MongoDB\n",
        "client = pymongo.MongoClient(host=host, port=port, username=username, password=password)\n",
        "\n",
        "# Create or access a database\n",
        "database_name = \"your_database\"\n",
        "db = client[database_name]\n",
        "\n",
        "# Create or access a collection\n",
        "collection_name = \"your_collection\"\n",
        "collection = db[collection_name]\n",
        "\n",
        "# Insert one record\n",
        "record_one = {\"name\": \"Jane Doe\", \"age\": 25, \"city\": \"Example City\"}\n",
        "result_one = collection.insert_one(record_one)\n",
        "\n",
        "# Insert many records\n",
        "records_many = [\n",
        "    {\"name\": \"Alice\", \"age\": 28, \"city\": \"Example City\"},\n",
        "    {\"name\": \"Bob\", \"age\": 35, \"city\": \"Another City\"},\n",
        "    {\"name\": \"Charlie\", \"age\": 40, \"city\": \"Yet Another City\"}\n",
        "]\n",
        "result_many = collection.insert_many(records_many)\n",
        "\n",
        "# Print the IDs of the inserted records\n",
        "print(\"Inserted record ID (one):\", result_one.inserted_id)\n",
        "print(\"Inserted records IDs (many):\", result_many.inserted_ids)\n",
        "\n",
        "# Find and print one record\n",
        "found_one = collection.find_one({\"name\": \"Jane Doe\"})\n",
        "print(\"Found one record:\", found_one)\n",
        "\n",
        "# Find and print all records\n",
        "found_all = collection.find()\n",
        "print(\"\\nFound all records:\")\n",
        "for record in found_all:\n",
        "    print(record)\n",
        "\n",
        "# Close the connection\n",
        "client.close()\n",
        "```\n",
        "\n",
        "Explanation of the extended code:\n",
        "\n",
        "1. **Insert One Record:**\n",
        "   - Use `collection.insert_one(record_one)` to insert a single record.\n",
        "\n",
        "2. **Insert Many Records:**\n",
        "   - Use `collection.insert_many(records_many)` to insert multiple records.\n",
        "\n",
        "3. **Print Inserted Record IDs:**\n",
        "   - Print the IDs of the inserted records using `result_one.inserted_id` and `result_many.inserted_ids`.\n",
        "\n",
        "4. **Find and Print One Record:**\n",
        "   - Use `collection.find_one({\"name\": \"Jane Doe\"})` to find and print a single record.\n",
        "\n",
        "5. **Find and Print All Records:**\n",
        "   - Use `collection.find()` to find all records and print each record in a loop.\n",
        "\n",
        "Remember to replace placeholder values and adjust the connection details based on your MongoDB server configuration."
      ],
      "metadata": {
        "id": "SGdfZGsTMMgw"
      }
    },
    {
      "cell_type": "markdown",
      "source": [
        "# Q5. Explain how you can use the find() method to query the MongoDB database. Write a simple code to demonstrate this."
      ],
      "metadata": {
        "id": "6952zAVMMtCS"
      }
    },
    {
      "cell_type": "markdown",
      "source": [
        "The `find()` method in MongoDB is used to query the database and retrieve documents that match a specified criteria. It returns a cursor, which is an iterable object that can be looped over to access the matching documents.\n",
        "\n",
        "Here's a simple code example demonstrating the use of the `find()` method:\n",
        "\n",
        "```python\n",
        "import pymongo\n",
        "\n",
        "# Replace these with your MongoDB server details\n",
        "host = \"your_host\"\n",
        "port = 27017  # default MongoDB port\n",
        "username = \"your_username\"\n",
        "password = \"your_password\"\n",
        "\n",
        "# Connect to MongoDB\n",
        "client = pymongo.MongoClient(host=host, port=port, username=username, password=password)\n",
        "\n",
        "# Create or access a database\n",
        "database_name = \"your_database\"\n",
        "db = client[database_name]\n",
        "\n",
        "# Create or access a collection\n",
        "collection_name = \"your_collection\"\n",
        "collection = db[collection_name]\n",
        "\n",
        "# Insert some sample data (if not already inserted)\n",
        "sample_data = [\n",
        "    {\"name\": \"Alice\", \"age\": 28, \"city\": \"Example City\"},\n",
        "    {\"name\": \"Bob\", \"age\": 35, \"city\": \"Another City\"},\n",
        "    {\"name\": \"Charlie\", \"age\": 40, \"city\": \"Yet Another City\"}\n",
        "]\n",
        "collection.insert_many(sample_data)\n",
        "\n",
        "# Use find() to query the database\n",
        "query = {\"age\": {\"$gte\": 30}}  # Find documents where age is greater than or equal to 30\n",
        "result = collection.find(query)\n",
        "\n",
        "# Print the matching documents\n",
        "print(\"Matching Documents:\")\n",
        "for document in result:\n",
        "    print(document)\n",
        "\n",
        "# Close the connection\n",
        "client.close()\n",
        "```\n",
        "\n",
        "Explanation of the code:\n",
        "\n",
        "1. **Connect to MongoDB:**\n",
        "   - Establish a connection to the MongoDB server.\n",
        "\n",
        "2. **Access Database and Collection:**\n",
        "   - Create or access a specific database and collection within MongoDB.\n",
        "\n",
        "3. **Insert Sample Data:**\n",
        "   - Insert some sample data into the collection (if it's not already inserted).\n",
        "\n",
        "4. **Use find() to Query the Database:**\n",
        "   - Use the `find()` method with a query to retrieve documents that match specific criteria. In this example, the query looks for documents where the \"age\" field is greater than or equal to 30.\n",
        "\n",
        "5. **Print Matching Documents:**\n",
        "   - Loop through the cursor returned by `find()` and print the matching documents.\n",
        "\n",
        "Remember to replace placeholder values and adjust the connection details based on your MongoDB server configuration. The query in the example is a simple example, but MongoDB queries can be much more complex, supporting a wide range of conditions and operators."
      ],
      "metadata": {
        "id": "2o_wYAyxM5O6"
      }
    },
    {
      "cell_type": "markdown",
      "source": [
        "# Q6. Explain the sort() method. Give an example to demonstrate sorting in MongoDB."
      ],
      "metadata": {
        "id": "fxHmVx6IM79Q"
      }
    },
    {
      "cell_type": "markdown",
      "source": [
        "The `sort()` method in MongoDB is used to sort the results of a query. It allows you to specify one or more fields by which the documents should be sorted and the order (ascending or descending). The `sort()` method is commonly applied to a `find()` query to retrieve documents in a specific order.\n",
        "\n",
        "Here's an example to demonstrate sorting in MongoDB using the `sort()` method:\n",
        "\n",
        "```python\n",
        "import pymongo\n",
        "\n",
        "# Replace these with your MongoDB server details\n",
        "host = \"your_host\"\n",
        "port = 27017  # default MongoDB port\n",
        "username = \"your_username\"\n",
        "password = \"your_password\"\n",
        "\n",
        "# Connect to MongoDB\n",
        "client = pymongo.MongoClient(host=host, port=port, username=username, password=password)\n",
        "\n",
        "# Create or access a database\n",
        "database_name = \"your_database\"\n",
        "db = client[database_name]\n",
        "\n",
        "# Create or access a collection\n",
        "collection_name = \"your_collection\"\n",
        "collection = db[collection_name]\n",
        "\n",
        "# Insert some sample data (if not already inserted)\n",
        "sample_data = [\n",
        "    {\"name\": \"Alice\", \"age\": 28, \"city\": \"Example City\"},\n",
        "    {\"name\": \"Bob\", \"age\": 35, \"city\": \"Another City\"},\n",
        "    {\"name\": \"Charlie\", \"age\": 40, \"city\": \"Yet Another City\"}\n",
        "]\n",
        "collection.insert_many(sample_data)\n",
        "\n",
        "# Use find() with sort() to query and sort the database\n",
        "query = {\"age\": {\"$gte\": 30}}  # Find documents where age is greater than or equal to 30\n",
        "sort_order = [(\"age\", pymongo.ASCENDING)]  # Sort in ascending order by the \"age\" field\n",
        "result = collection.find(query).sort(sort_order)\n",
        "\n",
        "# Print the sorted documents\n",
        "print(\"Sorted Documents:\")\n",
        "for document in result:\n",
        "    print(document)\n",
        "\n",
        "# Close the connection\n",
        "client.close()\n",
        "```\n",
        "\n",
        "Explanation of the code:\n",
        "\n",
        "1. **Connect to MongoDB:**\n",
        "   - Establish a connection to the MongoDB server.\n",
        "\n",
        "2. **Access Database and Collection:**\n",
        "   - Create or access a specific database and collection within MongoDB.\n",
        "\n",
        "3. **Insert Sample Data:**\n",
        "   - Insert some sample data into the collection (if it's not already inserted).\n",
        "\n",
        "4. **Use find() with sort() to Query and Sort:**\n",
        "   - Use the `find()` method with a query to retrieve documents that match specific criteria (`age >= 30` in this example).\n",
        "   - Apply the `sort()` method to specify the sorting order. In this example, it sorts in ascending order based on the \"age\" field.\n",
        "\n",
        "5. **Print Sorted Documents:**\n",
        "   - Loop through the cursor returned by `find()` and print the sorted documents.\n",
        "\n",
        "The `sort()` method takes a list of tuples where each tuple contains a field name and a sorting order (`pymongo.ASCENDING` for ascending or `pymongo.DESCENDING` for descending). In the example, it sorts in ascending order based on the \"age\" field."
      ],
      "metadata": {
        "id": "P8w4bCobNGff"
      }
    },
    {
      "cell_type": "markdown",
      "source": [
        "# Q7. Explain why delete_one(), delete_many(), and drop() is used."
      ],
      "metadata": {
        "id": "OAzwHfvSNAVi"
      }
    },
    {
      "cell_type": "markdown",
      "source": [
        "In MongoDB, the `delete_one()`, `delete_many()`, and `drop()` methods are used for different purposes related to the removal of documents or collections:\n",
        "\n",
        "1. **`delete_one()` Method:**\n",
        "   - **Purpose:** The `delete_one()` method is used to delete a single document that matches a specified filter criteria.\n",
        "   - **Syntax:**\n",
        "     ```python\n",
        "     collection.delete_one(filter)\n",
        "     ```\n",
        "   - **Example:**\n",
        "     ```python\n",
        "     result = collection.delete_one({\"name\": \"Alice\"})\n",
        "     ```\n",
        "   - This example deletes the first document that matches the filter criteria, where the \"name\" field is equal to \"Alice.\"\n",
        "\n",
        "2. **`delete_many()` Method:**\n",
        "   - **Purpose:** The `delete_many()` method is used to delete multiple documents that match a specified filter criteria.\n",
        "   - **Syntax:**\n",
        "     ```python\n",
        "     collection.delete_many(filter)\n",
        "     ```\n",
        "   - **Example:**\n",
        "     ```python\n",
        "     result = collection.delete_many({\"age\": {\"$gte\": 30}})\n",
        "     ```\n",
        "   - This example deletes all documents where the \"age\" field is greater than or equal to 30.\n",
        "\n",
        "3. **`drop()` Method:**\n",
        "   - **Purpose:** The `drop()` method is used to remove an entire collection from the database.\n",
        "   - **Syntax:**\n",
        "     ```python\n",
        "     collection.drop()\n",
        "     ```\n",
        "   - **Example:**\n",
        "     ```python\n",
        "     collection.drop()\n",
        "     ```\n",
        "   - This example removes the entire collection, including all its documents and indexes. Be cautious when using `drop()` as it is irreversible.\n",
        "\n",
        "**Use Cases:**\n",
        "- **`delete_one()` and `delete_many()`:** These methods are useful when you want to selectively remove specific documents from a collection based on certain criteria. For example, removing a single user's record or deleting all documents that meet a certain condition.\n",
        "  \n",
        "- **`drop()`:** This method is typically used when you want to completely remove a collection, perhaps because it is no longer needed or you want to start fresh with an empty collection. It is a more drastic action compared to `delete_one()` and `delete_many()` as it removes the entire collection.\n",
        "\n",
        "**Important Note:**\n",
        "   - While these methods provide powerful tools for managing data in MongoDB, it's crucial to exercise caution, especially when using `delete_many()` and `drop()`, as they can result in the permanent loss of data. Always double-check your filter criteria to avoid unintentional data loss."
      ],
      "metadata": {
        "id": "yMjRtEmKNQ3o"
      }
    },
    {
      "cell_type": "code",
      "source": [],
      "metadata": {
        "id": "fomZDwicMp6q"
      },
      "execution_count": null,
      "outputs": []
    }
  ]
}