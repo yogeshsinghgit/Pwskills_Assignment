{
  "nbformat": 4,
  "nbformat_minor": 0,
  "metadata": {
    "colab": {
      "provenance": [],
      "toc_visible": true,
      "authorship_tag": "ABX9TyMVkNZdV3xFOCeqLf8fBAG5",
      "include_colab_link": true
    },
    "kernelspec": {
      "name": "python3",
      "display_name": "Python 3"
    },
    "language_info": {
      "name": "python"
    }
  },
  "cells": [
    {
      "cell_type": "markdown",
      "metadata": {
        "id": "view-in-github",
        "colab_type": "text"
      },
      "source": [
        "<a href=\"https://colab.research.google.com/github/yogeshsinghgit/Pwskills_Assignment/blob/main/Oops_Taskipynb.ipynb\" target=\"_parent\"><img src=\"https://colab.research.google.com/assets/colab-badge.svg\" alt=\"Open In Colab\"/></a>"
      ]
    },
    {
      "cell_type": "markdown",
      "source": [
        "# OOPS Task Assignment Questions"
      ],
      "metadata": {
        "id": "yhyCd6ObHywB"
      }
    },
    {
      "cell_type": "markdown",
      "source": [
        "## Q1, Create a vehicle class with an init method having instance variables as name_of_vehicle, max_speed and average_of_vehicle."
      ],
      "metadata": {
        "id": "IGcrkIcOHzJI"
      }
    },
    {
      "cell_type": "code",
      "execution_count": 10,
      "metadata": {
        "id": "z-_gK6azHuI5"
      },
      "outputs": [],
      "source": [
        "class vehicle:\n",
        "  def __init__(self, name_of_vehicle, max_speed, average_of_vehicle):\n",
        "    self.name_of_vehicle = name_of_vehicle\n",
        "    self.max_speed = max_speed\n",
        "    self.average_of_vehicle = average_of_vehicle\n",
        "\n",
        "\n"
      ]
    },
    {
      "cell_type": "markdown",
      "source": [
        "## Q2. Create a child class car from the vehicle class created in Que 1, which will inherit the vehicle class.\n",
        "\n",
        "## Create a method named seating_capacity which takes capacity as an argument and returns the name of the vehicle and its seating capacity."
      ],
      "metadata": {
        "id": "yRGugEotI5mR"
      }
    },
    {
      "cell_type": "code",
      "source": [
        "class car(vehicle):\n",
        "\n",
        "  def seating_capacity(self, capacity):\n",
        "    return self.name_of_vehicle, capacity\n",
        "\n",
        "\n",
        "obj1 = car(\"Tata Nexon\", 120, 30)\n",
        "\n",
        "result = obj1.seating_capacity(8)\n",
        "\n",
        "print(result)\n"
      ],
      "metadata": {
        "colab": {
          "base_uri": "https://localhost:8080/"
        },
        "id": "X5EBfSeQI1AJ",
        "outputId": "0e8655be-a56b-4923-9536-ed5d57a35f58"
      },
      "execution_count": 11,
      "outputs": [
        {
          "output_type": "stream",
          "name": "stdout",
          "text": [
            "('Tata Nexon', 8)\n"
          ]
        }
      ]
    },
    {
      "cell_type": "markdown",
      "source": [
        "## Q3. What is multiple inheritance? Write a python code to demonstrate multiple inheritance."
      ],
      "metadata": {
        "id": "PQM_51D6K3RK"
      }
    },
    {
      "cell_type": "markdown",
      "source": [
        "When a child class is inherit its property from multiple parent class then this type of inheritance is termed as multiple inheritance.\n",
        "\n",
        "**Syntax:**\n",
        "\n",
        "```\n",
        "class Subclass(Superclass1, Superclass2,..., SuperclassN):\n",
        "   # Class body...\n",
        "```\n",
        "\n",
        "\n"
      ],
      "metadata": {
        "id": "UfOSq8B_K4hP"
      }
    },
    {
      "cell_type": "code",
      "source": [
        "# Example:\n",
        "class Parent1:\n",
        "\n",
        "   def display1(self):\n",
        "       print(\"In class Parent1\")\n",
        "\n",
        "class Parent2:\n",
        "\n",
        "   def display2(self):\n",
        "       print(\"In class Parent2\")\n",
        "\n",
        "class Child(Parent1, Parent2):\n",
        "   pass\n",
        "\n",
        "obj = Child()\n",
        "obj.display1()\n",
        "obj.display2()"
      ],
      "metadata": {
        "colab": {
          "base_uri": "https://localhost:8080/"
        },
        "id": "xXhc5yqBJ5OK",
        "outputId": "8dbbaa37-f8c3-457b-eb1f-2edf858b00b5"
      },
      "execution_count": 12,
      "outputs": [
        {
          "output_type": "stream",
          "name": "stdout",
          "text": [
            "In class Parent1\n",
            "In class Parent2\n"
          ]
        }
      ]
    },
    {
      "cell_type": "markdown",
      "source": [
        "## Q4. What are getter and setter in python? Create a class and create a getter and a setter method in this class."
      ],
      "metadata": {
        "id": "PdtCKMhCLsy3"
      }
    },
    {
      "cell_type": "markdown",
      "source": [
        "The getter and setter method is used to fetch and modify a attribute in a class and the attribute can be private or even public but getter and setter method is used for private attributes.\n",
        "\n",
        "**Getters and Setters in python are often used when:**\n",
        "\n",
        "* We use getters & setters to add validation logic around getting and setting a value.\n",
        "* To avoid direct access of a class field i.e. private variables cannot be accessed directly or modified by external user."
      ],
      "metadata": {
        "id": "u1muWlXRLyXw"
      }
    },
    {
      "cell_type": "code",
      "source": [
        "# Example:\n",
        "\n",
        "class Example:\n",
        "\tdef __init__(self, var = 0):\n",
        "\t\tself._var = var\n",
        "\n",
        "\n",
        "\t# getter method\n",
        "\tdef get_var(self):\n",
        "\t\treturn self._var\n",
        "\n",
        "\t# setter method\n",
        "\tdef set_var(self, x):\n",
        "\t\tself._var = x\n",
        "\n",
        "obj1 = Example(10)\n",
        "\n",
        "# Printing initial value\n",
        "print(obj1._var)\n",
        "\n",
        "# setting the var using setter\n",
        "obj1.set_var(20)\n",
        "\n",
        "# retrieving var using getter\n",
        "print(obj1.get_var())\n",
        "\n",
        "print(obj1._var)\n"
      ],
      "metadata": {
        "colab": {
          "base_uri": "https://localhost:8080/"
        },
        "id": "928s_saLLoi6",
        "outputId": "3168b86e-a3f8-4f14-b836-17f89c4a2a5b"
      },
      "execution_count": 15,
      "outputs": [
        {
          "output_type": "stream",
          "name": "stdout",
          "text": [
            "10\n",
            "20\n",
            "20\n"
          ]
        }
      ]
    },
    {
      "cell_type": "markdown",
      "source": [
        "## Q5.What is method overriding in python? Write a python code to demonstrate method overriding."
      ],
      "metadata": {
        "id": "ZlchNJrQN3IC"
      }
    },
    {
      "cell_type": "markdown",
      "source": [
        "\n",
        "Method overriding in Python is a concept in object-oriented programming (OOP) where a subclass provides a specific implementation for a method that is already defined in its superclass. This allows the subclass to customize or extend the behavior of the inherited method without modifying the original implementation in the superclass.\n",
        "\n",
        "When a subclass overrides a method, it provides its own implementation of that method with the same name and signature as the method in the superclass. This enables polymorphism, which means that you can call the overridden method on an instance of the subclass and get the behavior specific to that subclass, even if the instance is stored in a variable of the superclass type."
      ],
      "metadata": {
        "id": "M3_Ci6F8OL-w"
      }
    },
    {
      "cell_type": "code",
      "source": [
        "# Example:\n",
        "class Animal:\n",
        "    def speak(self):\n",
        "        return \"Animal speaks\"\n",
        "\n",
        "class Dog(Animal):\n",
        "    def speak(self):\n",
        "        return \"Woof!\"\n",
        "\n",
        "class Cat(Animal):\n",
        "    def speak(self):\n",
        "        return \"Meow!\"\n",
        "\n",
        "# Creating instances\n",
        "animal = Animal()\n",
        "dog = Dog()\n",
        "cat = Cat()\n",
        "\n",
        "# Calling overridden methods\n",
        "print(animal.speak())  # Output: \"Animal speaks\"\n",
        "print(dog.speak())     # Output: \"Woof!\"\n",
        "print(cat.speak())     # Output: \"Meow!\"\n"
      ],
      "metadata": {
        "colab": {
          "base_uri": "https://localhost:8080/"
        },
        "id": "xWWGE-5YNCJ-",
        "outputId": "5e6b2e92-2d03-4299-c86a-a73d7c5e9f67"
      },
      "execution_count": 16,
      "outputs": [
        {
          "output_type": "stream",
          "name": "stdout",
          "text": [
            "Animal speaks\n",
            "Woof!\n",
            "Meow!\n"
          ]
        }
      ]
    },
    {
      "cell_type": "code",
      "source": [],
      "metadata": {
        "id": "rstNHlOgOW32"
      },
      "execution_count": null,
      "outputs": []
    }
  ]
}