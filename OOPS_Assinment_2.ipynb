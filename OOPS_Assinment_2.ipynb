{
  "nbformat": 4,
  "nbformat_minor": 0,
  "metadata": {
    "colab": {
      "provenance": [],
      "authorship_tag": "ABX9TyOBtOKgDwq5QRa32bPbYfqp",
      "include_colab_link": true
    },
    "kernelspec": {
      "name": "python3",
      "display_name": "Python 3"
    },
    "language_info": {
      "name": "python"
    }
  },
  "cells": [
    {
      "cell_type": "markdown",
      "metadata": {
        "id": "view-in-github",
        "colab_type": "text"
      },
      "source": [
        "<a href=\"https://colab.research.google.com/github/yogeshsinghgit/Pwskills_Assignment/blob/main/OOPS_Assinment_2.ipynb\" target=\"_parent\"><img src=\"https://colab.research.google.com/assets/colab-badge.svg\" alt=\"Open In Colab\"/></a>"
      ]
    },
    {
      "cell_type": "markdown",
      "source": [
        "## Q1. What is Abstraction in OOps? Explain with an example."
      ],
      "metadata": {
        "id": "JO9HAAz9Ty62"
      }
    },
    {
      "cell_type": "markdown",
      "source": [
        "Abstraction is the process of hiding the internal details of an application from the outer world. Abstraction is used to describe things in simple terms. It’s used to create a boundary between the application and the client programs.\n",
        "\n",
        "Abstraction in simple terms is a way of hiding things which are not useful to the user/client and showing things which only matters to the user.\n",
        "\n",
        "Abstraction can be achieved through using objects.\n",
        "\n",
        "\n",
        "Example:\n",
        "\n",
        "You can start a car by turning the key or pressing the start button. You don’t need to know how the engine is getting started, what all components your car has. The car internal implementation and complex logic is completely hidden from the user.\n",
        "\n"
      ],
      "metadata": {
        "id": "0j7Jn9CTTz3W"
      }
    },
    {
      "cell_type": "markdown",
      "source": [
        "## Q2. Differentiate between Abstraction and Encapsulation. Explain with an example."
      ],
      "metadata": {
        "id": "6d7O86kRUumV"
      }
    },
    {
      "cell_type": "markdown",
      "source": [
        "Abstraction and encapsulation are two fundamental concepts in object-oriented programming (OOP) that help in organizing and managing code complexity. They are closely related but serve different purposes:\n",
        "\n",
        "1. Abstraction:\n",
        "\n",
        "Abstraction is the process of simplifying complex reality by modeling classes based on the essential properties and behaviors of an object while ignoring the irrelevant details. It focuses on defining the interface or blueprint of a class, specifying what it does without revealing how it does it. Abstraction allows developers to hide the complexity of an object's implementation and interact with it at a higher, more conceptual level.\n",
        "\n",
        "Example:\n",
        "Consider a car as an object. When abstracting a car, you focus on its essential properties (e.g., make, model, color) and behaviors (e.g., start, stop, accelerate) without concerning yourself with the internal mechanisms (e.g., engine, transmission) that make these actions possible. In code, an abstract class or interface for a car might define methods like \"start()\" and \"stop()\" without specifying how each make and model of car actually implements these methods.\n",
        "\n",
        "```python\n",
        "# Abstraction with a Car interface\n",
        "class Car:\n",
        "    def start(self):\n",
        "        pass\n",
        "    \n",
        "    def stop(self):\n",
        "        pass\n",
        "\n",
        "class Sedan(Car):\n",
        "    def start(self):\n",
        "        print(\"Sedan starting...\")\n",
        "    \n",
        "    def stop(self):\n",
        "        print(\"Sedan stopping...\")\n",
        "\n",
        "class SUV(Car):\n",
        "    def start(self):\n",
        "        print(\"SUV starting...\")\n",
        "    \n",
        "    def stop(self):\n",
        "        print(\"SUV stopping...\")\n",
        "```\n",
        "\n",
        "In this example, the Car interface abstracts the essential behaviors of a car, and specific car types (Sedan and SUV) provide their implementations.\n",
        "\n",
        "2. Encapsulation:\n",
        "\n",
        "Encapsulation is the concept of bundling data (attributes or properties) and methods (functions or behaviors) that operate on that data into a single unit, often referred to as a class. It restricts direct access to the internal state of an object and enforces controlled access through methods. Encapsulation helps in achieving data hiding, data protection, and modularity, making it easier to maintain and modify code without affecting other parts of the program.\n",
        "\n",
        "Example:\n",
        "Consider a bank account as an object. Encapsulation would involve encapsulating the account's balance as a private attribute and providing methods to interact with it, such as deposit and withdraw. This ensures that the balance can only be modified through these controlled methods.\n",
        "\n",
        "```python\n",
        "class BankAccount:\n",
        "    def __init__(self, initial_balance=0):\n",
        "        self.__balance = initial_balance  # Private attribute\n",
        "\n",
        "    def deposit(self, amount):\n",
        "        if amount > 0:\n",
        "            self.__balance += amount\n",
        "\n",
        "    def withdraw(self, amount):\n",
        "        if amount > 0 and amount <= self.__balance:\n",
        "            self.__balance -= amount\n",
        "\n",
        "    def get_balance(self):\n",
        "        return self.__balance\n",
        "\n",
        "# Usage\n",
        "account = BankAccount(1000)\n",
        "account.deposit(500)\n",
        "account.withdraw(200)\n",
        "print(\"Current balance:\", account.get_balance())  # Can access balance only through a method\n",
        "```\n",
        "\n",
        "In this example, the balance attribute is encapsulated and can only be modified or accessed through the deposit, withdraw, and get_balance methods, ensuring data integrity and control.\n",
        "\n",
        "In summary, abstraction focuses on defining high-level interfaces for objects, while encapsulation focuses on bundling data and methods together and controlling access to that data. Together, these concepts enhance code organization, maintainability, and data protection in object-oriented programming."
      ],
      "metadata": {
        "id": "245-WyavUvVB"
      }
    },
    {
      "cell_type": "markdown",
      "source": [
        "## Q3. What is abc module in python? Why is it used?"
      ],
      "metadata": {
        "id": "zuC9H2zKVrGd"
      }
    },
    {
      "cell_type": "markdown",
      "source": [
        "The abc module in Python stands for \"**Abstract Base Classes**.\" It is a module that provides a way to work with abstract classes and define abstract methods in Python.\n",
        "\n",
        "Abstract classes and methods are used to create a blueprint for other classes to follow. They ensure that specific methods are implemented in subclasses, enforcing a certain structure and interface for derived classes.\n",
        "\n",
        "\n",
        "\n",
        "```python\n",
        "from abc import ABC, abstractmethod\n",
        "\n",
        "class Shape(ABC):\n",
        "    @abstractmethod\n",
        "    def area(self):\n",
        "        pass\n",
        "\n",
        "    @abstractmethod\n",
        "    def perimeter(self):\n",
        "        pass\n",
        "\n",
        "class Circle(Shape):\n",
        "    def __init__(self, radius):\n",
        "        self.radius = radius\n",
        "\n",
        "    def area(self):\n",
        "        return 3.14159265359 * self.radius**2\n",
        "\n",
        "    def perimeter(self):\n",
        "        return 2 * 3.14159265359 * self.radius\n",
        "\n",
        "class Rectangle(Shape):\n",
        "    def __init__(self, width, height):\n",
        "        self.width = width\n",
        "        self.height = height\n",
        "\n",
        "    def area(self):\n",
        "        return self.width * self.height\n",
        "\n",
        "    def perimeter(self):\n",
        "        return 2 * (self.width + self.height)\n",
        "\n",
        "# Creating instances of subclasses\n",
        "circle = Circle(5)\n",
        "rectangle = Rectangle(4, 6)\n",
        "\n",
        "print(\"Circle Area:\", circle.area())\n",
        "print(\"Circle Perimeter:\", circle.perimeter())\n",
        "\n",
        "print(\"Rectangle Area:\", rectangle.area())\n",
        "print(\"Rectangle Perimeter:\", rectangle.perimeter())\n",
        "\n",
        "```\n",
        "\n",
        "Abstract Base Classes (ABCs): The abc module allows you to define abstract base classes using the ABC metaclass. An abstract base class is a class that cannot be instantiated itself but is meant to be subclassed by other classes. It serves as a template for defining common methods and properties that should be present in all its subclasses.\n",
        "\n",
        "Abstract Methods: Within an abstract base class, you can define abstract methods using the @abstractmethod decorator. Abstract methods are methods that must be implemented in any concrete (non-abstract) subclass. If a subclass does not provide an implementation for an abstract method, it will raise a TypeError at runtime.\n",
        "\n",
        "\n",
        "In this example, the Shape class is an abstract base class with abstract methods area and perimeter. The Circle and Rectangle classes are concrete subclasses of Shape that implement these abstract methods. If you attempt to create a subclass without implementing these methods, Python will raise an error.\n",
        "\n",
        "In summary, the abc module in Python is used to create abstract base classes and enforce the implementation of abstract methods in subclasses, ensuring a consistent structure and interface for related classes."
      ],
      "metadata": {
        "id": "i2DM3Cx_Vq7b"
      }
    },
    {
      "cell_type": "markdown",
      "source": [
        "## Q4. How can we achieve data abstraction?"
      ],
      "metadata": {
        "id": "xwk6M5OOWioj"
      }
    },
    {
      "cell_type": "markdown",
      "source": [
        "Data abstraction is the process of hiding the complex implementation details of an object and exposing only the necessary parts, such as attributes and methods, to the outside world\n",
        "\n",
        "We can achieve data abstraction  by using access modifiers like public and private on methods and attributes which adds a restriction on the methods and attributes from being acess to the outside world.\n",
        "\n"
      ],
      "metadata": {
        "id": "84DAwB-AVfpw"
      }
    },
    {
      "cell_type": "code",
      "source": [
        "class Rectangle:\n",
        "    def __init__(self, length, width):\n",
        "        self._length = length  # Protected attribute\n",
        "        self._width = width    # Protected attribute\n",
        "\n",
        "    def area(self):\n",
        "        return self._length * self._width\n",
        "\n",
        "    def perimeter(self):\n",
        "        return 2 * (self._length + self._width)\n",
        "\n",
        "# Usage\n",
        "my_rectangle = Rectangle(5, 3)\n",
        "\n",
        "# Accessing attributes directly (discouraged but possible)\n",
        "print(\"Length:\", my_rectangle._length)  # Protected attribute\n",
        "print(\"Width:\", my_rectangle._width)    # Protected attribute\n",
        "\n",
        "# Accessing attributes through public methods (recommended)\n",
        "print(\"Area:\", my_rectangle.area())\n",
        "print(\"Perimeter:\", my_rectangle.perimeter())\n"
      ],
      "metadata": {
        "colab": {
          "base_uri": "https://localhost:8080/"
        },
        "id": "DoyXQeXoXoe8",
        "outputId": "b85921b9-4477-4874-caf2-970d3f4e3a32"
      },
      "execution_count": 1,
      "outputs": [
        {
          "output_type": "stream",
          "name": "stdout",
          "text": [
            "Length: 5\n",
            "Width: 3\n",
            "Area: 15\n",
            "Perimeter: 16\n"
          ]
        }
      ]
    },
    {
      "cell_type": "markdown",
      "source": [
        "In this example, we have a Rectangle class that encapsulates the attributes length and width. These attributes are marked as protected (indicated by the single underscore prefix), which is a convention to signal to developers that they should not access these attributes directly from outside the class.\n",
        "\n",
        "Instead, we provide public methods area() and perimeter() that allow controlled access to the attributes. Users of the class can calculate the area and perimeter of the rectangle using these methods without needing to know the implementation details of how length and width are stored or computed.\n",
        "\n",
        "Data abstraction, in this case, allows us to work with a rectangle's properties (length and width) through a well-defined interface (public methods) while hiding the internal details of the class."
      ],
      "metadata": {
        "id": "Zw6tRDrOXpJV"
      }
    },
    {
      "cell_type": "markdown",
      "source": [
        "## Q5. Can we create an instance of an abstract class? Explain your answer."
      ],
      "metadata": {
        "id": "w9DCk92sX5Tj"
      }
    },
    {
      "cell_type": "markdown",
      "source": [
        "No, we can't create an instance of an abstract class."
      ],
      "metadata": {
        "id": "N31aJS9UX2fi"
      }
    },
    {
      "cell_type": "code",
      "source": [
        "from abc import ABC, abstractmethod\n",
        "\n",
        "class Shape(ABC):\n",
        "    @abstractmethod\n",
        "    def area(self):\n",
        "        pass\n",
        "\n",
        "    @abstractmethod\n",
        "    def perimeter(self):\n",
        "        pass\n",
        "\n",
        "obj1 = Shape()"
      ],
      "metadata": {
        "colab": {
          "base_uri": "https://localhost:8080/",
          "height": 217
        },
        "id": "RZLWxtF4YA3h",
        "outputId": "8addc6a8-5ff8-4928-8b20-f561cab3bf9c"
      },
      "execution_count": 2,
      "outputs": [
        {
          "output_type": "error",
          "ename": "TypeError",
          "evalue": "ignored",
          "traceback": [
            "\u001b[0;31m---------------------------------------------------------------------------\u001b[0m",
            "\u001b[0;31mTypeError\u001b[0m                                 Traceback (most recent call last)",
            "\u001b[0;32m<ipython-input-2-76f8eabb9218>\u001b[0m in \u001b[0;36m<cell line: 12>\u001b[0;34m()\u001b[0m\n\u001b[1;32m     10\u001b[0m         \u001b[0;32mpass\u001b[0m\u001b[0;34m\u001b[0m\u001b[0;34m\u001b[0m\u001b[0m\n\u001b[1;32m     11\u001b[0m \u001b[0;34m\u001b[0m\u001b[0m\n\u001b[0;32m---> 12\u001b[0;31m \u001b[0mobj1\u001b[0m \u001b[0;34m=\u001b[0m \u001b[0mShape\u001b[0m\u001b[0;34m(\u001b[0m\u001b[0;34m)\u001b[0m\u001b[0;34m\u001b[0m\u001b[0;34m\u001b[0m\u001b[0m\n\u001b[0m",
            "\u001b[0;31mTypeError\u001b[0m: Can't instantiate abstract class Shape with abstract methods area, perimeter"
          ]
        }
      ]
    },
    {
      "cell_type": "markdown",
      "source": [
        "In object-oriented programming, abstract methods are methods that are declared in an abstract class or interface but do not have an implementation in the same class or interface. They are meant to be overridden and implemented by concrete subclasses that inherit from the abstract class or implement the interface. Abstract methods are used to define a contract or an interface that derived classes must adhere to.\n",
        "\n",
        "Here's why you cannot create an object of an abstract class or interface that contains abstract methods:\n",
        "\n",
        "1. **Incomplete Implementation:** Abstract methods do not have a concrete implementation in the abstract class or interface. Therefore, creating an object of such a class would result in an object that has incomplete functionality. It wouldn't make sense to have an instance of a class that cannot perform its intended operations.\n",
        "\n",
        "2. **Enforcing a Contract:** The purpose of abstract methods is to define a contract or a set of methods that derived classes must provide implementations for. By disallowing object creation from an abstract class or interface, the language enforces that any instance of a class adheres to the contract and provides concrete implementations for all abstract methods.\n",
        "\n",
        "3. **Abstract Classes are Meant to be Subclassed:** Abstract classes are designed to serve as base classes from which concrete subclasses are derived. These concrete subclasses provide specific implementations for the abstract methods. It is these concrete subclasses that you should create objects from because they have complete implementations.\n",
        "\n",
        "Here's an example to illustrate:\n",
        "\n",
        "In this example, you cannot create an object of the abstract class `Shape` because it contains an abstract method `area()`. Instead, you should create objects of concrete subclasses like `Circle`, which provide implementations for all the abstract methods defined in the abstract class."
      ],
      "metadata": {
        "id": "B1udTuuPYXqC"
      }
    },
    {
      "cell_type": "code",
      "source": [],
      "metadata": {
        "id": "9ZWEIvxNYGBx"
      },
      "execution_count": null,
      "outputs": []
    }
  ]
}