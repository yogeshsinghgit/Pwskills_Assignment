{
  "nbformat": 4,
  "nbformat_minor": 0,
  "metadata": {
    "colab": {
      "provenance": [],
      "authorship_tag": "ABX9TyM1wd3xGu0fNkEpy5ACIAC9",
      "include_colab_link": true
    },
    "kernelspec": {
      "name": "python3",
      "display_name": "Python 3"
    },
    "language_info": {
      "name": "python"
    }
  },
  "cells": [
    {
      "cell_type": "markdown",
      "metadata": {
        "id": "view-in-github",
        "colab_type": "text"
      },
      "source": [
        "<a href=\"https://colab.research.google.com/github/yogeshsinghgit/Pwskills_Assignment/blob/main/Statistics_Basic_1.ipynb\" target=\"_parent\"><img src=\"https://colab.research.google.com/assets/colab-badge.svg\" alt=\"Open In Colab\"/></a>"
      ]
    },
    {
      "cell_type": "markdown",
      "source": [
        "##  Statistics Basic 1 Assignment"
      ],
      "metadata": {
        "id": "WXJiXDBbRU51"
      }
    },
    {
      "cell_type": "markdown",
      "source": [
        "## Question 1: What is Statistics?"
      ],
      "metadata": {
        "id": "8exT36yTRsD-"
      }
    },
    {
      "cell_type": "markdown",
      "source": [
        "## Answer :\n",
        "Statistics is a branch of mathematics that deals with the collection, analysis, interpretation, presentation, and organization of data. It involves the use of quantitative methods to extract meaning and insights from data sets.\n",
        "\n",
        "Statistics can be applied to a wide range of fields,including business, economics, social sciences, natural sciences, medicine, engineering, and many others.\n",
        "\n",
        "In essence, statistics is all about making sense of the information we have by using mathematical techniques and tools to find patterns, relationships, and trends within the data. This helps us make informed decisions, draw accurate conclusions, and solve real-world problems.\n",
        "\n",
        "For example : Imagine a company wants to know how many of their customers are satisfied with their product. They could collect data from a survey and use statistical methods to analyze the results, such as calculating the percentage of satisfied customers, identifying common themes in feedback, and comparing results across different demographics. This information can help the company make improvements to their product and increase customer satisfaction."
      ],
      "metadata": {
        "id": "siCNX5MrRcTN"
      }
    },
    {
      "cell_type": "markdown",
      "source": [
        "## Question 2: Define the different types of statistics and give an example of when each type might be used.\n"
      ],
      "metadata": {
        "id": "MU8A0a1mRoLD"
      }
    },
    {
      "cell_type": "markdown",
      "source": [
        "## Answer :\n",
        "There are two main types of statistics: descriptive statistics and inferential statistics. Here's an overview of each type and an example of when they might be used:\n",
        "Descriptive statistics:\n",
        "1. Descriptive statistics involves summarizing and describing data through measures such as mean, median, mode, range, standard deviation, and variance. These statistics help us understand the characteristics of the data, such as its central tendency, variability, and distribution.\n",
        "\n",
        "Example : A researcher wants to study the distribution of ages in a population. They collect data on the ages of a sample of people and use descriptive statistics to calculate the mean, median, and standard deviation of the ages. This information can help the researcher describe the age distribution of the population and identify any outliers or patterns in the data.\n",
        "\n",
        "2. Inferential statistics: Inferential statistics involves making predictions or drawing conclusions about a population based on a sample of data. This type of statistics uses probability theory to estimate the likelihood that a particular conclusion is true.\n",
        "\n",
        "Example: A pharmaceutical company wants to test the effectiveness of a new drug. They conduct a randomized controlled trial with a sample of patients and use inferential statistics to determine whether the drug has a significant effect compared to a placebo. This information can help the company make decisions about whether to pursue further research or seek approval from regulatory agencies.\n",
        "\n"
      ],
      "metadata": {
        "id": "FLDncQseR1h5"
      }
    },
    {
      "cell_type": "markdown",
      "source": [
        "## Question 3: What are the different types of data and how do they differ from each other? Provide an example of each type of data."
      ],
      "metadata": {
        "id": "LyhYyrx6SHao"
      }
    },
    {
      "cell_type": "markdown",
      "source": [
        "## Answer\n",
        "\n",
        "There are two main ways to categorize data: by its measurement scale and by its content.\n",
        "\n",
        "**By Measurement Scale:**\n",
        "\n",
        "* **Quantitative data:** This is numerical information that can be measured and expressed in numbers. It can be further divided into two subcategories:\n",
        "    * **Discrete data:** This type of data consists of distinct, countable values. There are no values in between. Examples include the number of apples in a basket (1, 2, 3...), the number of cars on a highway (0, 1, 2...), or the results of rolling a dice (1, 2, 3, 4, 5, 6).\n",
        "    * **Continuous data:** This type of data can take on any value within a specific range. It can be measured infinitely precisely. Examples include temperature (20.5 degrees Celsius, 32.1 degrees Fahrenheit), weight (54.7 kilograms, 120.6 pounds), or distance (100 meters, 328 feet).\n",
        "\n",
        "* **Qualitative data:** This type of data describes qualities or characteristics that are not easily measured with numbers. It often involves categories or descriptions. Examples include hair color (blonde, brunette, red), customer satisfaction (satisfied, neutral, dissatisfied), or movie genre (comedy, drama, action).\n",
        "\n",
        "**By Content:**\n",
        "\n",
        "This classification focuses on what the data represents:\n",
        "\n",
        "* **Structured data:** This type of data is organized in a predefined format, making it easy for computers to store, search, and analyze. Examples include data in spreadsheets, databases, or sensor readings.\n",
        "* **Unstructured data:** This type of data is not organized in a specific format and can be difficult for computers to process. Examples include text documents, emails, social media posts, or images.\n",
        "\n",
        "Understanding these different types of data helps us choose the right tools and techniques for analyzing it and extracting meaningful insights."
      ],
      "metadata": {
        "id": "s-bor6N7SZym"
      }
    },
    {
      "cell_type": "markdown",
      "source": [
        "## Question 4: Categorise the following datasets with respect to quantitative and qualitative data types:\n",
        "1. Grading in exam: A+, A, B+, B, C+, C, D, E\n",
        "2. Colour of mangoes: yellow, green, orange, red\n",
        "3. Height data of a class: [178.9, 179, 179.5, 176, 177.2, 178.3, 175.8,...]\n",
        "4. Number of mangoes exported by a farm: [500, 600, 478, 672, …]"
      ],
      "metadata": {
        "id": "WusCqyV-Se4v"
      }
    },
    {
      "cell_type": "markdown",
      "source": [
        "## Answer\n",
        "\n",
        "1. Grading in exam: A+, A, B+, B, C+, C, D, E :\n",
        "Grading in Exam is a Qualitative Ordinal Variable with A+ variable being highest rank and E being lowest\n",
        "\n",
        "2. Colour of mangoes: yellow, green, orange, red :\n",
        "Colour of Mangoes is a Qualitative Nominal Variable because colour cannot have a ranking\n",
        "\n",
        "3. Height data of a class: [178.9, 179, 179.5, 176, 177.2, 178.3, 175.8,...] :\n",
        "Height Data of a class is a Quantitative Continuous Variable because this is numeric measurement and is not restricted to be an integer\n",
        "\n",
        "4. Number of mangoes exported by a farm: [500, 600, 478, 672, …] :\n",
        "Number of mangoes exported is a Quantitative Discrete Variable because this is numeric measurement and will always be an integer"
      ],
      "metadata": {
        "id": "1heVNhyySn7g"
      }
    },
    {
      "cell_type": "markdown",
      "source": [
        "## Question 5 : Explain the concept of levels of measurement and give an example of a variable for each level"
      ],
      "metadata": {
        "id": "f-CcT-gXSqMg"
      }
    },
    {
      "cell_type": "markdown",
      "source": [
        "## Answer\n",
        "\n",
        "The level of measurement describes how data is categorized based on the kind of information it conveys. There are four main levels of measurement, increasing in complexity:\n",
        "\n",
        "1. **Nominal:** This is the most basic level. It simply categorizes data with labels or names, with no inherent order or meaning attached to the labels. Think of it like sorting objects by color. Examples:\n",
        "    * Blood type (A, B, AB, O)\n",
        "    * Jersey numbers of a basketball team (1, 7, 13, 23)\n",
        "\n",
        "2. **Ordinal:** Ordinal data builds on nominal data by ranking the categories in a specific order. You can say which is higher or lower, but the difference between the categories isn't necessarily meaningful. It's like placing objects in order of size. Examples:\n",
        "    * Customer satisfaction rating (very satisfied, satisfied, neutral, dissatisfied, very dissatisfied)\n",
        "    * Movie ratings (1 star, 2 stars, 3 stars, 4 stars, 5 stars)\n",
        "\n",
        "3. **Interval:** Interval data has equal distances between each unit on the scale. You can determine the difference between two values, but zero doesn't necessarily mean an absence of the quantity being measured. Imagine a ruler; the distance between 5 cm and 10 cm is the same as the distance between 2 cm and 7 cm. However, 0 cm doesn't mean there's no length. Examples:\n",
        "    * Temperature in Celsius or Fahrenheit\n",
        "    * IQ scores\n",
        "\n",
        "4. **Ratio:** Ratio data has all the properties of interval data, plus it has a true zero point that signifies a complete absence of the quantity being measured. You can not only determine the difference between values but also express one value as a multiple of another. A weight of 0 kg truly means no weight exists. Examples:\n",
        "    * Age (in years)\n",
        "    * Height (in meters or feet)\n",
        "    * Time (in seconds)\n",
        "\n",
        "Understanding the level of measurement of your data is crucial for choosing appropriate statistical analyses.  "
      ],
      "metadata": {
        "id": "CuP4iqkTRWkP"
      }
    },
    {
      "cell_type": "markdown",
      "source": [],
      "metadata": {
        "id": "yeQjCXkaSwHs"
      }
    },
    {
      "cell_type": "markdown",
      "source": [],
      "metadata": {
        "id": "ni8dn5RKSwFp"
      }
    },
    {
      "cell_type": "markdown",
      "source": [],
      "metadata": {
        "id": "PANuKO7XSwC5"
      }
    },
    {
      "cell_type": "markdown",
      "source": [],
      "metadata": {
        "id": "gDHQOoHJSwAF"
      }
    },
    {
      "cell_type": "markdown",
      "source": [],
      "metadata": {
        "id": "mfpvjTyRSv3D"
      }
    }
  ]
}